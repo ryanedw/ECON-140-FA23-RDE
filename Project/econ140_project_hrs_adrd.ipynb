{
 "cells": [
  {
   "cell_type": "markdown",
   "id": "ce6ffaf3",
   "metadata": {},
   "source": [
    "<h1>Dementia unfolding in the HRS cohort, 1992-2012</h1>"
   ]
  },
  {
   "cell_type": "markdown",
   "id": "5246cb08",
   "metadata": {},
   "source": [
    "Alzheimer's Disease and related dementias (ADRD) are tricky, to put it mildly. Unlike high blood pressure and diabetes, ADRD has no established biomarker. A doctor's diagnosis is the gold standard, but obtaining a diagnosis requires considerable effort. In a survey, it is an open question whether a person with ADRD could report their status accurately. Sometimes proxy interviews, for example with spouses or children, are possible, but not always. \n",
    "\n",
    "Public surveys can inform us about ADRD through questions that probe cognition. Ken Langa and colleagues have pioneered a method that infers likely dementia &#8212; and cognitive impairment, often called CIND for \"cognitive impairment, no dementia\" &#8212; using questions asked in the U.S. Health and Retirement Study (HRS) and other surveillance instruments. [Edwards et al., 2020](https://alz-journals-onlinelibrary-wiley-com.libproxy.berkeley.edu/doi/full/10.1002/alz.12102) use the work of Langa et al., which appears as reference 23 in their paper."
   ]
  },
  {
   "cell_type": "markdown",
   "id": "a3c429bf",
   "metadata": {},
   "source": [
    "Many aspects of ADRD remain mysterious. A question for research is the degree to which human companionship might be protective against the onset of ADRD. A natural challenge is that cognitive impairment could also be a factor that weakens social ties and potentially marital partnerships, creating reverse causality."
   ]
  },
  {
   "cell_type": "markdown",
   "id": "92faa25e",
   "metadata": {},
   "source": [
    "Below is an extract I have drawn from the HRS from wave 1 in 1992, with records linked to and wave 11 in 2012, 20 years later. I have conditioned on:\n",
    "\n",
    "* Being in a couple household (married, spouse absent, or partnered) in wave 1\n",
    "* Part of the original HRS cohort\n",
    "* Present in wave 1 in 1992\n",
    "* Aged between 50y and 59y in wave 1\n",
    "* Present in wave 11 in 2012\n",
    "\n",
    "It is also true that some of the people originally observed in 1992 but either deceased or in nonresponse by 2012 might have had ADRD. But how to adjust for that in a simple way is unclear and probably unnecessary. The results that emerge from studying these data are salient only for survivors, but that is a reasonable group to examine.  "
   ]
  },
  {
   "cell_type": "markdown",
   "id": "707bd8d2",
   "metadata": {},
   "source": [
    "Here are the variables in the dataset and their descriptions. Many are drawn from the RAND HRS file, where the naming convention is that the prefix `r1` for example means a measure for the respondent in wave 1. The cognitive functioning variables from Langa et al. (reference 23 in [Edwards et al., 2020](https://alz-journals-onlinelibrary-wiley-com.libproxy.berkeley.edu/doi/full/10.1002/alz.12102)) have the year at the end instead."
   ]
  },
  {
   "cell_type": "markdown",
   "id": "f7b46b0f",
   "metadata": {},
   "source": [
    "```\n",
    "hhidpn           hhid + pn (numeric)\n",
    "r11grandkids     R11 tot num grandkids, self/sp/dcsd-sp\n",
    "r1mstat          r1mstat:w1 r marital status\n",
    "r11mstat         r11mstat:w11 r marital status\n",
    "h1cpl            h1cpl:w1 whether couple hhold\n",
    "h11cpl           h11cpl:w11 whether couple hhold\n",
    "ragender         ragender: r gender\n",
    "rabyear          rabyear: r birth year\n",
    "raedyrs          raedyrs: r years of education\n",
    "r11agey_m        r11agey_m:w11 r age (years) at ivw midmon\n",
    "r11demene        r11demene:w11 r ever reported dementia\n",
    "h1atota          h1atota:w1 total of all assets--cross-wave\n",
    "r1work           r1work:w1 r working for pay\n",
    "h11child         h11child:w11 number of living children r/p\n",
    "raraceth         Race/ethnicity: WNH, BNH, Hispanic\n",
    "cogtot27_imp2012 2012: TICS-m 27-point scale\n",
    "cogfunction2012  2012: Cognition Category:1=Normal, 2=CIND, 3=Demented\n",
    "r11widowed       R11 widowed\n",
    "cf2012_cd        cogfunction2012 registers CIND or dementia\n",
    "cf2012_d         cogfunction2012 registers dementia\n",
    "```"
   ]
  },
  {
   "cell_type": "markdown",
   "id": "c4a372d7",
   "metadata": {},
   "source": [
    "The \"official\" doctor diagnosis of ADRD is measured by the variable `r11demene`, which is based on self-reported diagnoses. (\"Has a doctor ever told you that you have Alzheimer’s disease or dementia?\") About 2.2% of this sample of 3,710 people reports an ADRD diagnosis.\n",
    "\n",
    "The Langa et al. measure `cogtot27_imp2012` shows more than this, and the collapsed 3-category measure `cogfunction2012` shows 6.1% with likely ADRD and another 19.2% with likely CIND. These are also shown by the binary variables `cf2012_d` and `cf2012_cd`. "
   ]
  },
  {
   "cell_type": "markdown",
   "id": "3a8891c0",
   "metadata": {},
   "source": [
    "<hr>"
   ]
  },
  {
   "cell_type": "code",
   "execution_count": 1,
   "id": "0c0465d9",
   "metadata": {},
   "outputs": [],
   "source": [
    "library(haven)"
   ]
  },
  {
   "cell_type": "code",
   "execution_count": 2,
   "id": "bdd9fa5a",
   "metadata": {},
   "outputs": [],
   "source": [
    "hrs92_12_cog <- read_dta(\"data/hrs92_12_cog.dta\")"
   ]
  },
  {
   "cell_type": "code",
   "execution_count": 3,
   "id": "e23fc9f3",
   "metadata": {},
   "outputs": [
    {
     "data": {
      "text/html": [
       "<table class=\"dataframe\">\n",
       "<caption>A tibble: 6 × 20</caption>\n",
       "<thead>\n",
       "\t<tr><th scope=col>hhidpn</th><th scope=col>r11grandkids</th><th scope=col>r1mstat</th><th scope=col>r11mstat</th><th scope=col>h1cpl</th><th scope=col>h11cpl</th><th scope=col>ragender</th><th scope=col>rabyear</th><th scope=col>raedyrs</th><th scope=col>r11agey_m</th><th scope=col>r11demene</th><th scope=col>h1atota</th><th scope=col>r1work</th><th scope=col>h11child</th><th scope=col>raraceth</th><th scope=col>cogtot27_imp2012</th><th scope=col>cogfunction2012</th><th scope=col>r11widowed</th><th scope=col>cf2012_cd</th><th scope=col>cf2012_d</th></tr>\n",
       "\t<tr><th scope=col>&lt;dbl&gt;</th><th scope=col>&lt;dbl&gt;</th><th scope=col>&lt;dbl+lbl&gt;</th><th scope=col>&lt;dbl+lbl&gt;</th><th scope=col>&lt;dbl+lbl&gt;</th><th scope=col>&lt;dbl+lbl&gt;</th><th scope=col>&lt;dbl+lbl&gt;</th><th scope=col>&lt;dbl&gt;</th><th scope=col>&lt;dbl+lbl&gt;</th><th scope=col>&lt;dbl&gt;</th><th scope=col>&lt;dbl+lbl&gt;</th><th scope=col>&lt;dbl&gt;</th><th scope=col>&lt;dbl+lbl&gt;</th><th scope=col>&lt;dbl&gt;</th><th scope=col>&lt;dbl+lbl&gt;</th><th scope=col>&lt;dbl&gt;</th><th scope=col>&lt;dbl&gt;</th><th scope=col>&lt;dbl&gt;</th><th scope=col>&lt;dbl&gt;</th><th scope=col>&lt;dbl&gt;</th></tr>\n",
       "</thead>\n",
       "<tbody>\n",
       "\t<tr><td>    3010</td><td>13</td><td>1</td><td>1</td><td>1</td><td>1</td><td>1</td><td>1936</td><td>12</td><td>76</td><td>NA(m)</td><td> 155000</td><td>1</td><td>5</td><td>1</td><td> 7</td><td>2</td><td>0</td><td>1</td><td>0</td></tr>\n",
       "\t<tr><td>    3020</td><td>13</td><td>1</td><td>1</td><td>1</td><td>1</td><td>2</td><td>1938</td><td>16</td><td>73</td><td>    0</td><td> 155000</td><td>1</td><td>5</td><td>1</td><td>14</td><td>1</td><td>0</td><td>0</td><td>0</td></tr>\n",
       "\t<tr><td>10013010</td><td> 0</td><td>1</td><td>5</td><td>1</td><td>0</td><td>1</td><td>1938</td><td>12</td><td>74</td><td>    0</td><td> 104000</td><td>1</td><td>1</td><td>1</td><td>12</td><td>1</td><td>0</td><td>0</td><td>0</td></tr>\n",
       "\t<tr><td>10038010</td><td> 4</td><td>1</td><td>1</td><td>1</td><td>1</td><td>1</td><td>1936</td><td>16</td><td>76</td><td>    0</td><td>1028000</td><td>1</td><td>2</td><td>1</td><td>19</td><td>1</td><td>0</td><td>0</td><td>0</td></tr>\n",
       "\t<tr><td>10059020</td><td> 6</td><td>1</td><td>1</td><td>1</td><td>1</td><td>2</td><td>1935</td><td>16</td><td>77</td><td>    0</td><td> 890000</td><td>0</td><td>3</td><td>1</td><td>17</td><td>1</td><td>0</td><td>0</td><td>0</td></tr>\n",
       "\t<tr><td>10075020</td><td> 2</td><td>1</td><td>7</td><td>1</td><td>0</td><td>2</td><td>1937</td><td> 8</td><td>75</td><td>    0</td><td> 155100</td><td>1</td><td>1</td><td>3</td><td>13</td><td>1</td><td>1</td><td>0</td><td>0</td></tr>\n",
       "</tbody>\n",
       "</table>\n"
      ],
      "text/latex": [
       "A tibble: 6 × 20\n",
       "\\begin{tabular}{llllllllllllllllllll}\n",
       " hhidpn & r11grandkids & r1mstat & r11mstat & h1cpl & h11cpl & ragender & rabyear & raedyrs & r11agey\\_m & r11demene & h1atota & r1work & h11child & raraceth & cogtot27\\_imp2012 & cogfunction2012 & r11widowed & cf2012\\_cd & cf2012\\_d\\\\\n",
       " <dbl> & <dbl> & <dbl+lbl> & <dbl+lbl> & <dbl+lbl> & <dbl+lbl> & <dbl+lbl> & <dbl> & <dbl+lbl> & <dbl> & <dbl+lbl> & <dbl> & <dbl+lbl> & <dbl> & <dbl+lbl> & <dbl> & <dbl> & <dbl> & <dbl> & <dbl>\\\\\n",
       "\\hline\n",
       "\t     3010 & 13 & 1 & 1 & 1 & 1 & 1 & 1936 & 12 & 76 & NA(m) &  155000 & 1 & 5 & 1 &  7 & 2 & 0 & 1 & 0\\\\\n",
       "\t     3020 & 13 & 1 & 1 & 1 & 1 & 2 & 1938 & 16 & 73 &     0 &  155000 & 1 & 5 & 1 & 14 & 1 & 0 & 0 & 0\\\\\n",
       "\t 10013010 &  0 & 1 & 5 & 1 & 0 & 1 & 1938 & 12 & 74 &     0 &  104000 & 1 & 1 & 1 & 12 & 1 & 0 & 0 & 0\\\\\n",
       "\t 10038010 &  4 & 1 & 1 & 1 & 1 & 1 & 1936 & 16 & 76 &     0 & 1028000 & 1 & 2 & 1 & 19 & 1 & 0 & 0 & 0\\\\\n",
       "\t 10059020 &  6 & 1 & 1 & 1 & 1 & 2 & 1935 & 16 & 77 &     0 &  890000 & 0 & 3 & 1 & 17 & 1 & 0 & 0 & 0\\\\\n",
       "\t 10075020 &  2 & 1 & 7 & 1 & 0 & 2 & 1937 &  8 & 75 &     0 &  155100 & 1 & 1 & 3 & 13 & 1 & 1 & 0 & 0\\\\\n",
       "\\end{tabular}\n"
      ],
      "text/markdown": [
       "\n",
       "A tibble: 6 × 20\n",
       "\n",
       "| hhidpn &lt;dbl&gt; | r11grandkids &lt;dbl&gt; | r1mstat &lt;dbl+lbl&gt; | r11mstat &lt;dbl+lbl&gt; | h1cpl &lt;dbl+lbl&gt; | h11cpl &lt;dbl+lbl&gt; | ragender &lt;dbl+lbl&gt; | rabyear &lt;dbl&gt; | raedyrs &lt;dbl+lbl&gt; | r11agey_m &lt;dbl&gt; | r11demene &lt;dbl+lbl&gt; | h1atota &lt;dbl&gt; | r1work &lt;dbl+lbl&gt; | h11child &lt;dbl&gt; | raraceth &lt;dbl+lbl&gt; | cogtot27_imp2012 &lt;dbl&gt; | cogfunction2012 &lt;dbl&gt; | r11widowed &lt;dbl&gt; | cf2012_cd &lt;dbl&gt; | cf2012_d &lt;dbl&gt; |\n",
       "|---|---|---|---|---|---|---|---|---|---|---|---|---|---|---|---|---|---|---|---|\n",
       "|     3010 | 13 | 1 | 1 | 1 | 1 | 1 | 1936 | 12 | 76 | NA(m) |  155000 | 1 | 5 | 1 |  7 | 2 | 0 | 1 | 0 |\n",
       "|     3020 | 13 | 1 | 1 | 1 | 1 | 2 | 1938 | 16 | 73 |     0 |  155000 | 1 | 5 | 1 | 14 | 1 | 0 | 0 | 0 |\n",
       "| 10013010 |  0 | 1 | 5 | 1 | 0 | 1 | 1938 | 12 | 74 |     0 |  104000 | 1 | 1 | 1 | 12 | 1 | 0 | 0 | 0 |\n",
       "| 10038010 |  4 | 1 | 1 | 1 | 1 | 1 | 1936 | 16 | 76 |     0 | 1028000 | 1 | 2 | 1 | 19 | 1 | 0 | 0 | 0 |\n",
       "| 10059020 |  6 | 1 | 1 | 1 | 1 | 2 | 1935 | 16 | 77 |     0 |  890000 | 0 | 3 | 1 | 17 | 1 | 0 | 0 | 0 |\n",
       "| 10075020 |  2 | 1 | 7 | 1 | 0 | 2 | 1937 |  8 | 75 |     0 |  155100 | 1 | 1 | 3 | 13 | 1 | 1 | 0 | 0 |\n",
       "\n"
      ],
      "text/plain": [
       "  hhidpn   r11grandkids r1mstat r11mstat h1cpl h11cpl ragender rabyear raedyrs\n",
       "1     3010 13           1       1        1     1      1        1936    12     \n",
       "2     3020 13           1       1        1     1      2        1938    16     \n",
       "3 10013010  0           1       5        1     0      1        1938    12     \n",
       "4 10038010  4           1       1        1     1      1        1936    16     \n",
       "5 10059020  6           1       1        1     1      2        1935    16     \n",
       "6 10075020  2           1       7        1     0      2        1937     8     \n",
       "  r11agey_m r11demene h1atota r1work h11child raraceth cogtot27_imp2012\n",
       "1 76        NA(m)      155000 1      5        1         7              \n",
       "2 73            0      155000 1      5        1        14              \n",
       "3 74            0      104000 1      1        1        12              \n",
       "4 76            0     1028000 1      2        1        19              \n",
       "5 77            0      890000 0      3        1        17              \n",
       "6 75            0      155100 1      1        3        13              \n",
       "  cogfunction2012 r11widowed cf2012_cd cf2012_d\n",
       "1 2               0          1         0       \n",
       "2 1               0          0         0       \n",
       "3 1               0          0         0       \n",
       "4 1               0          0         0       \n",
       "5 1               0          0         0       \n",
       "6 1               1          0         0       "
      ]
     },
     "metadata": {},
     "output_type": "display_data"
    }
   ],
   "source": [
    "head(hrs92_12_cog)"
   ]
  },
  {
   "cell_type": "markdown",
   "id": "813f18a3",
   "metadata": {},
   "source": [
    "<hr>"
   ]
  },
  {
   "cell_type": "markdown",
   "id": "787ae646",
   "metadata": {},
   "source": [
    "Here is a simple model of average rates of likely ADRD in 2012:"
   ]
  },
  {
   "cell_type": "code",
   "execution_count": 6,
   "id": "889c7740",
   "metadata": {},
   "outputs": [
    {
     "data": {
      "text/plain": [
       "\n",
       "Call:\n",
       "lm(formula = cf2012_cd ~ h11cpl + ragender + factor(raraceth) + \n",
       "    factor(rabyear), data = hrs92_12_cog)\n",
       "\n",
       "Residuals:\n",
       "    Min      1Q  Median      3Q     Max \n",
       "-0.6515 -0.2398 -0.1600  0.3523  0.9153 \n",
       "\n",
       "Coefficients:\n",
       "                    Estimate Std. Error t value Pr(>|t|)    \n",
       "(Intercept)          0.41874    0.04960   8.443  < 2e-16 ***\n",
       "h11cpl              -0.09273    0.01582  -5.860 5.02e-09 ***\n",
       "ragender            -0.03580    0.01410  -2.540  0.01113 *  \n",
       "factor(raraceth)2    0.28902    0.02164  13.354  < 2e-16 ***\n",
       "factor(raraceth)3    0.25329    0.02371  10.684  < 2e-16 ***\n",
       "factor(raraceth)4    0.04994    0.04970   1.005  0.31507    \n",
       "factor(rabyear)1933 -0.02026    0.04929  -0.411  0.68115    \n",
       "factor(rabyear)1934 -0.02046    0.04816  -0.425  0.67105    \n",
       "factor(rabyear)1935 -0.08002    0.04799  -1.667  0.09553 .  \n",
       "factor(rabyear)1936 -0.08839    0.04729  -1.869  0.06169 .  \n",
       "factor(rabyear)1937 -0.10729    0.04696  -2.285  0.02238 *  \n",
       "factor(rabyear)1938 -0.12692    0.04707  -2.696  0.00704 ** \n",
       "factor(rabyear)1939 -0.13761    0.04714  -2.919  0.00353 ** \n",
       "factor(rabyear)1940 -0.13025    0.04695  -2.774  0.00556 ** \n",
       "factor(rabyear)1941 -0.13851    0.04698  -2.948  0.00321 ** \n",
       "factor(rabyear)1942 -0.16967    0.05356  -3.168  0.00155 ** \n",
       "factor(rabyear)1943 -0.25440    0.29722  -0.856  0.39208    \n",
       "---\n",
       "Signif. codes:  0 ‘***’ 0.001 ‘**’ 0.01 ‘*’ 0.05 ‘.’ 0.1 ‘ ’ 1\n",
       "\n",
       "Residual standard error: 0.4158 on 3771 degrees of freedom\n",
       "Multiple R-squared:  0.08865,\tAdjusted R-squared:  0.08478 \n",
       "F-statistic: 22.92 on 16 and 3771 DF,  p-value: < 2.2e-16\n"
      ]
     },
     "metadata": {},
     "output_type": "display_data"
    }
   ],
   "source": [
    "cog_reg1 <- lm(cf2012_cd ~ h11cpl \n",
    "               + ragender \n",
    "               + factor(raraceth)\n",
    "               + factor(rabyear),\n",
    "               data = hrs92_12_cog\n",
    "              )\n",
    "summary(cog_reg1)"
   ]
  },
  {
   "cell_type": "markdown",
   "id": "c413bbbc",
   "metadata": {},
   "source": [
    "Above, the left-hand side variable is the prevalence of likely CIND or ADRD. The average rate of likely CIND or ADRD in the sample is about 25%:"
   ]
  },
  {
   "cell_type": "code",
   "execution_count": 8,
   "id": "de6c8cb2",
   "metadata": {},
   "outputs": [
    {
     "data": {
      "text/html": [
       "0.252639915522703"
      ],
      "text/latex": [
       "0.252639915522703"
      ],
      "text/markdown": [
       "0.252639915522703"
      ],
      "text/plain": [
       "[1] 0.2526399"
      ]
     },
     "metadata": {},
     "output_type": "display_data"
    }
   ],
   "source": [
    "mean(hrs92_12_cog$cf2012_cd)"
   ]
  },
  {
   "cell_type": "markdown",
   "id": "ed810182",
   "metadata": {},
   "source": [
    "The protective effect of being in a couple household (married, partnered) is pretty large, 9 percentage points or about a third of the prevalence."
   ]
  },
  {
   "cell_type": "markdown",
   "id": "16c16a18",
   "metadata": {},
   "source": [
    "Does controlling for years of education change anything? What about other variables?"
   ]
  },
  {
   "cell_type": "markdown",
   "id": "4b7b3b8f",
   "metadata": {},
   "source": [
    "<div style=\"text-align: right\"> <span style=\"font-family:Papyrus; \">And they lived happily ever after. The End.</span></div>"
   ]
  }
 ],
 "metadata": {
  "kernelspec": {
   "display_name": "R",
   "language": "R",
   "name": "ir"
  },
  "language_info": {
   "codemirror_mode": "r",
   "file_extension": ".r",
   "mimetype": "text/x-r-source",
   "name": "R",
   "pygments_lexer": "r",
   "version": "4.3.1"
  }
 },
 "nbformat": 4,
 "nbformat_minor": 5
}
