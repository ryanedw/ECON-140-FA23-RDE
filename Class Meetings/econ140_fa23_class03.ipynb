{
 "cells": [
  {
   "cell_type": "markdown",
   "id": "55ad7c62",
   "metadata": {},
   "source": [
    "<img src=\"images/econ140R_logo.png\" width=\"200\" />"
   ]
  },
  {
   "cell_type": "markdown",
   "id": "8ff12b62",
   "metadata": {},
   "source": [
    "<h1>ECON 140R Class 03</h1>"
   ]
  },
  {
   "cell_type": "markdown",
   "id": "67303ccd",
   "metadata": {},
   "source": [
    "Learning objectives:\n",
    "\n",
    "1. Examine real data \n",
    "<p>\n",
    "\n",
    "2. Use `lm()` to run ordinary least squares, regressing $y$ on an $x$ where $x$ is a binary 0/1 indicator of group status\n",
    "<ul>\n",
    "  <li> Members of the group get a 1\n",
    "  <li> Others (the \"default category\") get a 0\n",
    "</ul>\n",
    "\n",
    "<p>\n",
    "    \n",
    "3. Under these conditions, `lm()` shows you\n",
    "<ul>\n",
    "    <li>$y = \\alpha + \\beta x$\n",
    "    <li>The average $y$ for the default category = constant term $\\alpha$\n",
    "    <li>The difference in average $y$ between groups = slope term $\\beta$\n",
    "    <li>Standard errors for each of these, in addition to point estimates\n",
    "</ul>\n",
    "    \n",
    "<h3>For example</h3>\n",
    "\n",
    "Suppose $y$ is itself a binary 0/1 measure of having heart problems: either an individual reports having been diagnosed with heart problems or does not. Suppose also that $x$ measures identifying as Black but not Hispanic, which is a common definition of a distinct racial and ethnic group in the U.S.\n",
    "\n",
    "Then running `lm()` to estimate `y ~ x` gives us the average rate of heart problems among non-Black people, which is the constant term $\\alpha$; and the difference in average rates of heart problems between Black people and non-Black people, which is the slope term $\\beta$. Also, the standard error of $\\beta$ helps us understand whether that difference is statistically significant.\n",
    "\n",
    "(Heart problems are defined in the U.S. Health and Retirement Study as: \"a heart attack, coronary heart disease, angina, congestive heart failure, or other heart problems.\")"
   ]
  },
  {
   "cell_type": "markdown",
   "id": "1ad86737",
   "metadata": {},
   "source": [
    "There are a lot of outcomes ($y$) that we would like to compare across groups defined in various ways. In <i>Mastering Metrics</i>, we started by comparing people across health insurance status in Chapter 1. Then later in that chapter, we see just how different the story becomes when we examine the RAND Health Insurance Experiment, when treatment groups were randomly assigned to different health insurance plans.\n",
    "\n",
    "As we will see, when you can't run a randomized controlled trial (RCT) like that, you have to figure out what to do next. For now, let's explore some characteristics of respondents to the 14th wave of the U.S. [Health and Retirement Study (HRS)](https://hrs.isr.umich.edu/welcome-health-and-retirement-study), conducted mostly in 2018, before the COVID-19 pandemic. The HRS is a panel survey, with biennial waves, of Americans aged 50 and over."
   ]
  },
  {
   "cell_type": "markdown",
   "id": "b1bb625c",
   "metadata": {},
   "source": [
    "Let's load up <b>haven</b> and <b>tidyverse</b>"
   ]
  },
  {
   "cell_type": "code",
   "execution_count": null,
   "id": "c2fd4880",
   "metadata": {},
   "outputs": [],
   "source": [
    "library(haven)\n",
    "library(tidyverse)"
   ]
  },
  {
   "cell_type": "markdown",
   "id": "0fec32e0",
   "metadata": {},
   "source": [
    "I have prepared an extract from the RAND version of the HRS file, and I have created some additional helpful variables. Here is the extract:"
   ]
  },
  {
   "cell_type": "code",
   "execution_count": null,
   "id": "92e742a6",
   "metadata": {},
   "outputs": [],
   "source": [
    "hrs_heart <- read_dta(\"data/hrs_heart.dta\")"
   ]
  },
  {
   "cell_type": "code",
   "execution_count": null,
   "id": "5adcdb4e",
   "metadata": {},
   "outputs": [],
   "source": [
    "head(hrs_heart)"
   ]
  },
  {
   "cell_type": "markdown",
   "id": "0b843cc9",
   "metadata": {},
   "source": [
    "There is a lot here. The way RAND names the variables is `RwVARNAME` where \"w\" is either the number of the wave, or the letter \"a\" if the measure should be the same across all waves. For example, above age 50, years of education usually never changes, so that variable is named `RAEDYRS`. (Note that here, all variables are in lowercase.)\n",
    "\n",
    "Let us example the measure in wave 14 of the binary response to the question, \"Has has a doctor (ever) told you that you had a heart attack, coronary heart disease, angina, congestive heart failure, or other heart problems?\" This variable is `r14hearte`.\n",
    "\n",
    "I have created a quadrichotomous (is that a word?) variable called `raraceth` that combines race and ethnicity information into four broad, useful, and common categories: \n",
    "\n",
    "(1) White non-Hispanic people\n",
    "\n",
    "(2) Black non-Hispanic people\n",
    "\n",
    "(3) Hispanic people\n",
    "\n",
    "(4) Non-Hispanic people of other race\n",
    "\n",
    "Especially in relatively small samples, this breakdown is helpful. It certainly doesn't cover all variation in lived experiences, but it's a good balance between parsimony and breadth."
   ]
  },
  {
   "cell_type": "markdown",
   "id": "52e72285",
   "metadata": {},
   "source": [
    "<h2>Look at differences in average heart problems</h2>\n",
    "\n",
    "There are lots of ways of coding this. Here is one that is more elegant, which ChatGPT suggested to me:"
   ]
  },
  {
   "cell_type": "code",
   "execution_count": null,
   "id": "7b93af91",
   "metadata": {},
   "outputs": [],
   "source": [
    "# Use tidyverse \"pipes.\" Thanks, ChatGPT\n",
    "# \n",
    "# Look at white non-Hispanic people, where raraceth == 1\n",
    "avg_hearte_wnh <- hrs_heart %>%  \n",
    "    filter(raraceth == 1) %>% \n",
    "    summarize(average = mean(r14hearte, na.rm = TRUE))\n",
    "avg_hearte_wnh"
   ]
  },
  {
   "cell_type": "code",
   "execution_count": null,
   "id": "35545376",
   "metadata": {},
   "outputs": [],
   "source": [
    "# Look at Black non-Hispanic people where raraceth == 2 \n",
    "avg_hearte_bnh <- hrs_heart %>%  \n",
    "    filter(raraceth == 2) %>% \n",
    "    summarize(average = mean(r14hearte, na.rm = TRUE))\n",
    "avg_hearte_bnh"
   ]
  },
  {
   "cell_type": "code",
   "execution_count": null,
   "id": "75eee7aa",
   "metadata": {},
   "outputs": [],
   "source": [
    "# Difference between these averages\n",
    "# = excess rate of heart problems among Black people\n",
    "avg_hearte_bnh - avg_hearte_wnh"
   ]
  },
  {
   "cell_type": "markdown",
   "id": "813fc917",
   "metadata": {},
   "source": [
    "In words, the number above is the excess average rate of heart problems among Black non-Hispanic people in this sample compared to white non-Hispanic people. It is equal to $-0.062$, meaning that Black people in the sample are 6.2 percentage points less likely to report ever having heart problems."
   ]
  },
  {
   "cell_type": "markdown",
   "id": "b355a4e2",
   "metadata": {},
   "source": [
    "Here is another way to proceed. You can also use `filter()` from `dplyr` to cut the data frame up into new data frames that condition on something, which here is race/ethnicity:"
   ]
  },
  {
   "cell_type": "code",
   "execution_count": null,
   "id": "411b1da2",
   "metadata": {},
   "outputs": [],
   "source": [
    "hrs_heart_wnh <- filter(hrs_heart, raraceth == 1)\n",
    "hrs_heart_bnh <- filter(hrs_heart, raraceth == 2)\n",
    "hrs_heart_wbnh <- filter(hrs_heart, raraceth == 1 | raraceth == 2)"
   ]
  },
  {
   "cell_type": "code",
   "execution_count": null,
   "id": "8076a939",
   "metadata": {},
   "outputs": [],
   "source": [
    "summary(hrs_heart_wnh)"
   ]
  },
  {
   "cell_type": "markdown",
   "id": "84f38c30",
   "metadata": {},
   "source": [
    "Before we whittle this down a little, let's also look now at Black non-Hispanic people:"
   ]
  },
  {
   "cell_type": "code",
   "execution_count": null,
   "id": "e6479f9f",
   "metadata": {},
   "outputs": [],
   "source": [
    "summary(hrs_heart_bnh)"
   ]
  },
  {
   "cell_type": "markdown",
   "id": "61793202",
   "metadata": {},
   "source": [
    "Look at the \"Mean\" entries for WNH people and the variables `r14hearte` and `r14agey_m`, the latter of which is the respondent's age in years. (The code below might help make this clearer.) What do you see?"
   ]
  },
  {
   "cell_type": "code",
   "execution_count": null,
   "id": "4f6fa89f",
   "metadata": {},
   "outputs": [],
   "source": [
    "summary(hrs_heart_wnh$r14hearte)\n",
    "summary(hrs_heart_wnh$r14agey_m)"
   ]
  },
  {
   "cell_type": "markdown",
   "id": "43cd8271",
   "metadata": {},
   "source": [
    "Let's compute the same for BNH people:"
   ]
  },
  {
   "cell_type": "code",
   "execution_count": null,
   "id": "522e9755",
   "metadata": {},
   "outputs": [],
   "source": [
    "summary(hrs_heart_bnh$r14hearte)\n",
    "summary(hrs_heart_bnh$r14agey_m)"
   ]
  },
  {
   "cell_type": "markdown",
   "id": "24696d15",
   "metadata": {},
   "source": [
    "What do you see? Compare the means of these two variables across WNH and BNH people in a few words or sentences in the markdown field below:"
   ]
  },
  {
   "cell_type": "markdown",
   "id": "353179f2",
   "metadata": {},
   "source": []
  },
  {
   "cell_type": "markdown",
   "id": "14c213df",
   "metadata": {},
   "source": [
    "<h2>Regression with indicator variables gives you conditional averages</h2>"
   ]
  },
  {
   "cell_type": "markdown",
   "id": "e5dcf6ba",
   "metadata": {},
   "source": [
    "Hold on to your hats.\n",
    "\n",
    "It turns out that a linear regression of $y$ on an $x$ that is dichotomous (equal to 0 or 1) will tell us the average $y$ for the group whose $x = 0$, that's the constant term $\\alpha$; and it will tell us the difference between that group's average $y$ and the other group's (indicated by $x = 1$).\n",
    "\n",
    "In other words, when we run\n",
    "$$y = \\alpha + \\beta x + \\epsilon$$\n",
    "\n",
    "when $x$ is a dichtomous \"indicator variable\" (sometimes called \"dummy variable\"), $\\alpha$ is the average $y$ for the $x = 0$ group, and $\\alpha + \\beta$ is the average $y$ for the $x = 1$ group.\n",
    "\n",
    "Observe. Recall that `hrs_heart_wbnh` is the data frame that includes both WNH and BNH people. Let's run this regression:\n",
    "$$heart = \\alpha + \\beta \\cdot BNH + \\epsilon$$\n",
    "\n",
    "where `heart` is shorthand for `r14hearte` and `BNH` is the indicator variable for identifying as a Black non-Hispanic person, `rablacknonh`."
   ]
  },
  {
   "cell_type": "code",
   "execution_count": null,
   "id": "518d12e2",
   "metadata": {},
   "outputs": [],
   "source": [
    "heartreg <- lm(r14hearte ~ rablacknonh, data = hrs_heart_wbnh)\n",
    "summary(heartreg)"
   ]
  },
  {
   "cell_type": "markdown",
   "id": "a9ec932f",
   "metadata": {},
   "source": [
    "Interesting. Consider this arithmetic from the averages of `r14hearte` among BNH people and WNH people shown earlier above:"
   ]
  },
  {
   "cell_type": "code",
   "execution_count": null,
   "id": "f79cbeaf",
   "metadata": {},
   "outputs": [],
   "source": [
    "0.2226 - 0.2847"
   ]
  },
  {
   "cell_type": "markdown",
   "id": "fe88537f",
   "metadata": {},
   "source": [
    "Do you see similar numbers in the arithmetic and in the regression output? Where? Write some thoughts in the markdown field below."
   ]
  },
  {
   "cell_type": "markdown",
   "id": "3db6b255",
   "metadata": {},
   "source": []
  },
  {
   "cell_type": "markdown",
   "id": "65d72b6b",
   "metadata": {},
   "source": [
    "Should we be worried that WNH people are on average about 5 years older than BNH people in these data? If we were, what could we do about it? Maybe try this:\n",
    "$$heart = \\alpha + \\beta \\cdot BNH + \\delta \\cdot age + \\epsilon$$"
   ]
  },
  {
   "cell_type": "code",
   "execution_count": null,
   "id": "2f9e91aa",
   "metadata": {
    "scrolled": true
   },
   "outputs": [],
   "source": [
    "heartreg_age <- lm(r14hearte ~ rablacknonh + r14agey_m, data = hrs_heart_wbnh)\n",
    "summary(heartreg_age)"
   ]
  },
  {
   "cell_type": "markdown",
   "id": "dbc5d4f3",
   "metadata": {},
   "source": [
    "There is certainly a lot to see here. What happened to the coefficient on `BNH`, shown here in the \"Estimate\" column and on the `rablacknonh` row? Look at far right. Do you see any asterisks in that row now?"
   ]
  },
  {
   "cell_type": "markdown",
   "id": "eb7b7d80",
   "metadata": {},
   "source": []
  },
  {
   "cell_type": "markdown",
   "id": "50ab6640",
   "metadata": {},
   "source": [
    "<div style=\"text-align: right\"> <span style=\"font-family:Papyrus; \">And they lived happily ever after. The End.</span></div>"
   ]
  }
 ],
 "metadata": {
  "kernelspec": {
   "display_name": "R",
   "language": "R",
   "name": "ir"
  },
  "language_info": {
   "codemirror_mode": "r",
   "file_extension": ".r",
   "mimetype": "text/x-r-source",
   "name": "R",
   "pygments_lexer": "r",
   "version": "4.3.1"
  }
 },
 "nbformat": 4,
 "nbformat_minor": 5
}
