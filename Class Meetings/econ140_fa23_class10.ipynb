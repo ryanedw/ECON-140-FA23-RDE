{
 "cells": [
  {
   "cell_type": "markdown",
   "id": "c93f79a0",
   "metadata": {},
   "source": [
    "<img src=\"images/econ140R_logo.png\" width=\"200\" />"
   ]
  },
  {
   "cell_type": "markdown",
   "id": "28bfe784",
   "metadata": {},
   "source": [
    "<h1>ECON 140R Class 10</h1>"
   ]
  },
  {
   "cell_type": "markdown",
   "id": "90b66eed",
   "metadata": {},
   "source": [
    "<h2>Bad controls in the January 2018 Current Population Survey (CPS)</h2>\n",
    "\n",
    "<h2>Learning objectives:</h2>\n",
    "\n",
    "1. More experience with OLS\n",
    "2. Handy `factor()` function\n",
    "3. Bad controls may cut off the avenues through which the treatment affects the outcome\n",
    "4. Balancing omitted variable bias vs. bad controls is difficult"
   ]
  },
  {
   "cell_type": "markdown",
   "id": "53178b74",
   "metadata": {},
   "source": [
    "<h2>Bad controls</h2>"
   ]
  },
  {
   "cell_type": "markdown",
   "id": "e43d6a3e",
   "metadata": {},
   "source": [
    "Let's examine how controlling for occupation and industry, while feasible to do, changes the estimated coefficients on education and female gender identity. It's probably not a good idea, unless there were a compelling reason to look at within-occupation differences in earnings by education. \n",
    "\n",
    "To explore this topic, we'll look at an extract from the January 2018 Current Population Survey (CPS), the annual job tenure supplement. I downloaded the extract from [IPUMS](http://cps.ipums.org), and in the future we'll walk through the IPUMS interface and contents."
   ]
  },
  {
   "cell_type": "code",
   "execution_count": null,
   "id": "3fe2d54f",
   "metadata": {},
   "outputs": [],
   "source": [
    "library(tidyverse)\n",
    "library(haven)"
   ]
  },
  {
   "cell_type": "markdown",
   "id": "a0dd0a46",
   "metadata": {},
   "source": [
    "Setting this option removes scientific notation, which can sometimes be a real bummer to read."
   ]
  },
  {
   "cell_type": "code",
   "execution_count": null,
   "id": "890dcc6c",
   "metadata": {},
   "outputs": [],
   "source": [
    "options(scipen = 999)"
   ]
  },
  {
   "cell_type": "markdown",
   "id": "8e23c4ca",
   "metadata": {},
   "source": [
    "This extract contains people aged 25-64, which are working ages when education is likely to be completed."
   ]
  },
  {
   "cell_type": "code",
   "execution_count": null,
   "id": "144ee7de",
   "metadata": {},
   "outputs": [],
   "source": [
    "cpsj18_2564 = read_dta(\"data/cpsj18_2564_1.dta\")\n",
    "head(cpsj18_2564)"
   ]
  },
  {
   "cell_type": "markdown",
   "id": "eddcc463",
   "metadata": {},
   "source": [
    "Here is a baseline regression, where we are controlling for 0/1 female gender identity and years of education, and for a set of controls including race/ethnicity, years of experience, years of experience squared, and also years of job tenure:\n",
    "\n",
    "$$\n",
    "\\ln Y_i = \\alpha + \\beta^f \\ female_i + \\beta^e \\ educ_i + B \\ controls_i + \\epsilon_i\n",
    "$$\n",
    "\n",
    "We'll run this regression and examine what we find for $\\beta^f$ and $\\beta^e$:"
   ]
  },
  {
   "cell_type": "code",
   "execution_count": null,
   "id": "628b2735",
   "metadata": {},
   "outputs": [],
   "source": [
    "cps_reg1 <- lm(logearnweek ~ female \n",
    "               + edyrs \n",
    "               + factor(raceth) \n",
    "               + exper + expersq + jtyears, \n",
    "               data = cpsj18_2564)\n",
    "summary(cps_reg1)"
   ]
  },
  {
   "cell_type": "markdown",
   "id": "e5693fbe",
   "metadata": {},
   "source": [
    "We see a pretty large negative penalty for female workers: $-$37%, and we see a relatively large benefit for an additional year of education: 10.7%. Racial/ethnic minorities see earnings penalties relative to white non-Hispanic people (the baseline group). Log earnings are a parabola opening down in years of experience, which is consistent with typical theory. Years of job tenure is a benefit. \n",
    "\n",
    "Now let's explore controlling for occupation `occ`, and for kicks, also for industry `ind` and state of residence `statefip`. The last one is probably not a bad control, come to think of it, unless one believes that education's effect on earning is partially through enhanching geographic mobility, which isn't an impossibility. So let's try just that one first:"
   ]
  },
  {
   "cell_type": "code",
   "execution_count": null,
   "id": "d3b82ec2",
   "metadata": {},
   "outputs": [],
   "source": [
    "cps_reg2 <- lm(logearnweek ~ female \n",
    "               + edyrs \n",
    "               + factor(raceth) \n",
    "               + exper + expersq + jtyears\n",
    "               + factor(statefip)\n",
    "               , data = cpsj18_2564)\n",
    "summary(cps_reg2)"
   ]
  },
  {
   "cell_type": "markdown",
   "id": "13b4e5c3",
   "metadata": {},
   "source": [
    "What do we see? \n",
    "\n",
    "In the coefficients on the top variables (i.e., not the state indicators), we do not see many big differences here compared to the first regression. The coefficient on female, $\\beta^f$, shows a penalty of about $-$36%; and the coefficient on years of education, $\\beta^e$, shows a benefit of additional year is 10.2%.\n",
    "\n",
    "Let's throw the kitchen sink at things.\n",
    "\n",
    "In these data, there are almost 500 occupation categories, and there are roughly 250 industries. For details, see the documentation at IPUMS: [OCC documentation](https://cps.ipums.org/cps/codes/occ_20112019_codes.shtml), [IND documentation](https://cps.ipums.org/cps/codes/ind_2014_codes.shtml)."
   ]
  },
  {
   "cell_type": "code",
   "execution_count": null,
   "id": "a33ce9ed",
   "metadata": {},
   "outputs": [],
   "source": [
    "cps_reg3 <- lm(logearnweek ~ female \n",
    "               + edyrs \n",
    "               + factor(raceth) \n",
    "               + exper + expersq + jtyears\n",
    "               + factor(occ) \n",
    "               + factor(ind) \n",
    "               + factor(statefip)\n",
    "               , data = cpsj18_2564)\n",
    "summary(cps_reg3)"
   ]
  },
  {
   "cell_type": "markdown",
   "id": "9476fb3c",
   "metadata": {},
   "source": [
    "What do we see here compared to earlier results?\n",
    "\n",
    "The coefficient on female identity is now about $\\beta^f = -0.24$, smaller in magnitude by a factor of about a third. In other words, within occupation-industry-state groupings in the data, female workers earn on average 24% less than observationally identical males.\n",
    "\n",
    "Meanwhile, the coefficient on years of education has fallen by roughly half, down to $\\beta^e = 0.051$. Here too, the story is that within occupation-industry-state groupings of workers, the returns to an additional year of education are smaller than they are overall."
   ]
  },
  {
   "cell_type": "markdown",
   "id": "bcdc9612",
   "metadata": {},
   "source": [
    "<h2>Discussion</h2>\n",
    "\n",
    "As is often the case, including more variables $Z$ on the right-hand side of the regression equation often reduces the magnitudes and statistical significance of coefficients we care about, like on a key treatment variable $X$.\n",
    "\n",
    "<b>The problem</b> is deciding whether the $Z$'s belong there or not. Are they potentially omitted variables that would obscure the true story about $\\beta$, the effect of $X$ on $Y$, if they were omitted? Or are they bad controls, which block off a critical channel of causality running between $X$ and $Y$?\n",
    "\n",
    "An <b>omitted variable</b> is a $Z$ that should be there, and by its omission is biasing the story about the causal effect of $X$ on the outcome $Y$. A classic example would be a parental characteristic that varies with the treatment variable; the thought experiment is: suppose a policy changed $X$ for kids, despite important parental characteristics $Z$ being what they are. What is the likely effect of the policy on $Y$?\n",
    "\n",
    "A <b>bad control</b> is a $Z$ that shouldn't be there, because controlling for it blocks off a critical pathway through which $X$ causes $Y$. A great example might be $Z = occupation$ and/or industry in a regression of $Y = earnings$ on $X = education$. Education raises earnings in part because it moves people out of engaging in manual labor and into services and other industries. It might be true that a highly educated janitor could be more productive and thus earn more than a poorly educated janitor, but it is the transition from janitor to something like an office worker, doctor, or lawyer that really raises earnings a lot. If we control for occupation and industry in an earnings regression, we will be closing off that pathway of switching occupations or industries, through which we imagine education has a large causal effect on earnings."
   ]
  },
  {
   "cell_type": "markdown",
   "id": "99b8612d",
   "metadata": {},
   "source": [
    "<div style=\"text-align: right\"> <span style=\"font-family:Papyrus; \">And they lived happily ever after. The End.</span></div>"
   ]
  }
 ],
 "metadata": {
  "kernelspec": {
   "display_name": "R",
   "language": "R",
   "name": "ir"
  },
  "language_info": {
   "codemirror_mode": "r",
   "file_extension": ".r",
   "mimetype": "text/x-r-source",
   "name": "R",
   "pygments_lexer": "r",
   "version": "4.3.1"
  }
 },
 "nbformat": 4,
 "nbformat_minor": 5
}
