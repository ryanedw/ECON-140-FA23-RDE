{
 "cells": [
  {
   "cell_type": "markdown",
   "id": "b834b122",
   "metadata": {},
   "source": [
    "<img src=\"images/econ140R_logo.png\" width=\"200\" />"
   ]
  },
  {
   "cell_type": "markdown",
   "id": "8ff12b62",
   "metadata": {},
   "source": [
    "<h1>ECON 140R Class 05</h1>"
   ]
  },
  {
   "cell_type": "markdown",
   "id": "414c4cc7",
   "metadata": {},
   "source": [
    "Learning objectives:\n",
    "\n",
    "1. In <i>Mastering Metrics</i> Table 1.3, Angrist and Pischke use multivariate OLS to model 6 demographic characteristics and 5 baseline health characteristics (11 separate $y$ variables) on three indicator variables $D$ that measure assignment to treatment arms in the RAND Health Insurance Experiment, all of which have more generous insurance than the control group (\"catastrophic plan\")\n",
    "\n",
    "<p>\n",
    "\n",
    "2. The results in Table 1.3 show that the samples are <b>balanced</b>, meaning there are very few and practically zero statistically significant differences between the control and treatment groups\n",
    "    \n",
    "<p>\n",
    "\n",
    "3. A \"fine print\" detail is that Angrist and Pischke are doing what's called <i>clustering standard errors at the family level</i>. This last point will definitely not be on any exams\n",
    "  \n",
    "<p>\n",
    "    \n",
    "4. There also is clear evidence of traditional health inequalities <i>within</i> each group and within groups overall. For example, health is lower among respondents in the dataset who have less education"
   ]
  },
  {
   "cell_type": "markdown",
   "id": "e531711f-d826-4fce-80ac-9ccce141318f",
   "metadata": {},
   "source": [
    "Data from the 1974-1982 RAND Health Insurance Experiment (HIE) were unearthed by Aviva Aron-Dine, Liran Einav, and Amy Finkelstein (J. Econ. Perspect., 2013). Josh Angrist and J&#246;rn-Steffen Pischke provide an extract online at [Mastering Metrics](https://www.masteringmetrics.com/resources/).\n",
    "\n",
    "Let's examine the data behind Table 1.3, which shows baseline characteristics for the \"control group,\" people with catastrophic health insurance only (the leftmost column), and in subsequent columns, the average difference in the characteristic in that row between one of the three \"treatment arms\" they argue are useful to consider (deductible, coinsurance, free), and the control group.\n",
    "\n",
    "The objectives here are to get more experience with real data, and to notice that ordinary least squares regression with `lm()` is a very handy way to cut to the chase and test average differences across subgroups. A \"small print\" detail is that Angrist and Pischke are doing what's called <i>clustering standard errors at the family level</i>. This last point will definitely not be on any exams.\n",
    "\n",
    "The main objective is to recognize that with an outcome variable $y_i$ and group identity indicator variables $D^d_i$, $D^c_i$, and $D^f_i$, for example, then this regression:\n",
    "\n",
    "$$\n",
    "y_i = \\alpha + \\beta^d \\cdot D^d_i + \\beta^c \\cdot D^c_i + \\beta^f \\cdot D^f_i + \\epsilon_i\n",
    "$$\n",
    "\n",
    "provides a very convenient way of testing the average differences:\n",
    "* between the control group and group $d$: $\\beta^d$\n",
    "* between the control group and group $c$: $\\beta^c$\n",
    "* between the control group and group $f$: $\\beta^f$\n",
    "\n",
    "Here's a clean PNG of Table 1.3:"
   ]
  },
  {
   "cell_type": "markdown",
   "id": "75212122",
   "metadata": {},
   "source": [
    "<img src=\"images/MMtbl13.png\" width=\"800\" />"
   ]
  },
  {
   "cell_type": "markdown",
   "id": "b1bb625c",
   "metadata": {},
   "source": [
    "Let's load up <b>haven</b> and <b>tidyverse</b>"
   ]
  },
  {
   "cell_type": "code",
   "execution_count": 10,
   "id": "c2fd4880",
   "metadata": {},
   "outputs": [],
   "source": [
    "library(haven)\n",
    "library(tidyverse)"
   ]
  },
  {
   "cell_type": "markdown",
   "id": "0fec32e0",
   "metadata": {},
   "source": [
    "I have prepared an extract of the RAND HIE data underneath Table 1.3 in <i>Mastering Metrics</i>. These data include health care utilization outcomes across the four groups that Angrist and Pischke argue are usefully distinguishable, ordered here from least generous to most generous:\n",
    "\n",
    "* Catastrophic plan\n",
    "* Deductible plan\n",
    "* Coinsurance plan\n",
    "* Free plan\n",
    "\n",
    "We have the baseline background characteristics, and we also have baseline and end-of-study health status. The variables named with an \"-x\" at the end are the end-of-study measures, except where `ghindx` is baseline general health and thus `ghindxx` is end-of-study general health. "
   ]
  },
  {
   "cell_type": "code",
   "execution_count": 11,
   "id": "92e742a6",
   "metadata": {},
   "outputs": [],
   "source": [
    "table1_3 <- read_dta(\"data/table1_3.dta\")"
   ]
  },
  {
   "cell_type": "code",
   "execution_count": 12,
   "id": "5adcdb4e",
   "metadata": {},
   "outputs": [
    {
     "data": {
      "text/html": [
       "<table class=\"dataframe\">\n",
       "<caption>A tibble: 6 × 23</caption>\n",
       "<thead>\n",
       "\t<tr><th scope=col>person</th><th scope=col>age</th><th scope=col>educper</th><th scope=col>hosp</th><th scope=col>female</th><th scope=col>cholest</th><th scope=col>cholestx</th><th scope=col>systol</th><th scope=col>systolx</th><th scope=col>diastol</th><th scope=col>⋯</th><th scope=col>income1cpi</th><th scope=col>mhi</th><th scope=col>mhix</th><th scope=col>ghindx</th><th scope=col>ghindxx</th><th scope=col>famid</th><th scope=col>plan_free</th><th scope=col>plan_deduc</th><th scope=col>plan_coins</th><th scope=col>plan_catas</th></tr>\n",
       "\t<tr><th scope=col>&lt;chr&gt;</th><th scope=col>&lt;dbl&gt;</th><th scope=col>&lt;dbl&gt;</th><th scope=col>&lt;dbl&gt;</th><th scope=col>&lt;dbl&gt;</th><th scope=col>&lt;dbl&gt;</th><th scope=col>&lt;dbl&gt;</th><th scope=col>&lt;dbl&gt;</th><th scope=col>&lt;dbl&gt;</th><th scope=col>&lt;dbl&gt;</th><th scope=col>⋯</th><th scope=col>&lt;dbl&gt;</th><th scope=col>&lt;dbl&gt;</th><th scope=col>&lt;dbl&gt;</th><th scope=col>&lt;dbl&gt;</th><th scope=col>&lt;dbl&gt;</th><th scope=col>&lt;dbl&gt;</th><th scope=col>&lt;dbl&gt;</th><th scope=col>&lt;dbl&gt;</th><th scope=col>&lt;dbl&gt;</th><th scope=col>&lt;dbl&gt;</th></tr>\n",
       "</thead>\n",
       "<tbody>\n",
       "\t<tr><td>MA250247</td><td>42</td><td>12</td><td> 0</td><td> 0</td><td> NA</td><td>245</td><td> NA</td><td>128</td><td>NA</td><td>⋯</td><td>67486.48</td><td>95.0</td><td>94.7</td><td>NA</td><td>71.6</td><td>100082</td><td>0</td><td>0</td><td>0</td><td>1</td></tr>\n",
       "\t<tr><td>MA250255</td><td>16</td><td>NA</td><td> 0</td><td> 0</td><td> NA</td><td>207</td><td> NA</td><td>100</td><td>NA</td><td>⋯</td><td>67486.48</td><td>93.8</td><td>76.1</td><td>NA</td><td>69.3</td><td>100082</td><td>0</td><td>0</td><td>0</td><td>1</td></tr>\n",
       "\t<tr><td>MA250263</td><td>14</td><td>NA</td><td> 0</td><td> 1</td><td> NA</td><td>161</td><td> NA</td><td> 92</td><td>NA</td><td>⋯</td><td>67486.48</td><td>98.7</td><td>96.8</td><td>NA</td><td>92.0</td><td>100082</td><td>0</td><td>0</td><td>0</td><td>1</td></tr>\n",
       "\t<tr><td>MA250271</td><td>43</td><td>12</td><td> 0</td><td> 1</td><td> NA</td><td>176</td><td> NA</td><td>102</td><td>NA</td><td>⋯</td><td>67486.48</td><td>96.3</td><td>80.3</td><td>NA</td><td>73.9</td><td>100082</td><td>0</td><td>0</td><td>0</td><td>1</td></tr>\n",
       "\t<tr><td>MA250578</td><td>NA</td><td>NA</td><td>NA</td><td>NA</td><td> NA</td><td> NA</td><td> NA</td><td> NA</td><td>NA</td><td>⋯</td><td>      NA</td><td>  NA</td><td>89.4</td><td>NA</td><td>75.0</td><td>    NA</td><td>0</td><td>0</td><td>0</td><td>0</td></tr>\n",
       "\t<tr><td>MA250586</td><td>15</td><td>NA</td><td> 0</td><td> 1</td><td>212</td><td>185</td><td>120</td><td>102</td><td>48</td><td>⋯</td><td>27608.11</td><td>61.1</td><td>77.7</td><td>NA</td><td>65.9</td><td>100240</td><td>0</td><td>1</td><td>0</td><td>0</td></tr>\n",
       "</tbody>\n",
       "</table>\n"
      ],
      "text/latex": [
       "A tibble: 6 × 23\n",
       "\\begin{tabular}{lllllllllllllllllllll}\n",
       " person & age & educper & hosp & female & cholest & cholestx & systol & systolx & diastol & ⋯ & income1cpi & mhi & mhix & ghindx & ghindxx & famid & plan\\_free & plan\\_deduc & plan\\_coins & plan\\_catas\\\\\n",
       " <chr> & <dbl> & <dbl> & <dbl> & <dbl> & <dbl> & <dbl> & <dbl> & <dbl> & <dbl> & ⋯ & <dbl> & <dbl> & <dbl> & <dbl> & <dbl> & <dbl> & <dbl> & <dbl> & <dbl> & <dbl>\\\\\n",
       "\\hline\n",
       "\t MA250247 & 42 & 12 &  0 &  0 &  NA & 245 &  NA & 128 & NA & ⋯ & 67486.48 & 95.0 & 94.7 & NA & 71.6 & 100082 & 0 & 0 & 0 & 1\\\\\n",
       "\t MA250255 & 16 & NA &  0 &  0 &  NA & 207 &  NA & 100 & NA & ⋯ & 67486.48 & 93.8 & 76.1 & NA & 69.3 & 100082 & 0 & 0 & 0 & 1\\\\\n",
       "\t MA250263 & 14 & NA &  0 &  1 &  NA & 161 &  NA &  92 & NA & ⋯ & 67486.48 & 98.7 & 96.8 & NA & 92.0 & 100082 & 0 & 0 & 0 & 1\\\\\n",
       "\t MA250271 & 43 & 12 &  0 &  1 &  NA & 176 &  NA & 102 & NA & ⋯ & 67486.48 & 96.3 & 80.3 & NA & 73.9 & 100082 & 0 & 0 & 0 & 1\\\\\n",
       "\t MA250578 & NA & NA & NA & NA &  NA &  NA &  NA &  NA & NA & ⋯ &       NA &   NA & 89.4 & NA & 75.0 &     NA & 0 & 0 & 0 & 0\\\\\n",
       "\t MA250586 & 15 & NA &  0 &  1 & 212 & 185 & 120 & 102 & 48 & ⋯ & 27608.11 & 61.1 & 77.7 & NA & 65.9 & 100240 & 0 & 1 & 0 & 0\\\\\n",
       "\\end{tabular}\n"
      ],
      "text/markdown": [
       "\n",
       "A tibble: 6 × 23\n",
       "\n",
       "| person &lt;chr&gt; | age &lt;dbl&gt; | educper &lt;dbl&gt; | hosp &lt;dbl&gt; | female &lt;dbl&gt; | cholest &lt;dbl&gt; | cholestx &lt;dbl&gt; | systol &lt;dbl&gt; | systolx &lt;dbl&gt; | diastol &lt;dbl&gt; | ⋯ ⋯ | income1cpi &lt;dbl&gt; | mhi &lt;dbl&gt; | mhix &lt;dbl&gt; | ghindx &lt;dbl&gt; | ghindxx &lt;dbl&gt; | famid &lt;dbl&gt; | plan_free &lt;dbl&gt; | plan_deduc &lt;dbl&gt; | plan_coins &lt;dbl&gt; | plan_catas &lt;dbl&gt; |\n",
       "|---|---|---|---|---|---|---|---|---|---|---|---|---|---|---|---|---|---|---|---|---|\n",
       "| MA250247 | 42 | 12 |  0 |  0 |  NA | 245 |  NA | 128 | NA | ⋯ | 67486.48 | 95.0 | 94.7 | NA | 71.6 | 100082 | 0 | 0 | 0 | 1 |\n",
       "| MA250255 | 16 | NA |  0 |  0 |  NA | 207 |  NA | 100 | NA | ⋯ | 67486.48 | 93.8 | 76.1 | NA | 69.3 | 100082 | 0 | 0 | 0 | 1 |\n",
       "| MA250263 | 14 | NA |  0 |  1 |  NA | 161 |  NA |  92 | NA | ⋯ | 67486.48 | 98.7 | 96.8 | NA | 92.0 | 100082 | 0 | 0 | 0 | 1 |\n",
       "| MA250271 | 43 | 12 |  0 |  1 |  NA | 176 |  NA | 102 | NA | ⋯ | 67486.48 | 96.3 | 80.3 | NA | 73.9 | 100082 | 0 | 0 | 0 | 1 |\n",
       "| MA250578 | NA | NA | NA | NA |  NA |  NA |  NA |  NA | NA | ⋯ |       NA |   NA | 89.4 | NA | 75.0 |     NA | 0 | 0 | 0 | 0 |\n",
       "| MA250586 | 15 | NA |  0 |  1 | 212 | 185 | 120 | 102 | 48 | ⋯ | 27608.11 | 61.1 | 77.7 | NA | 65.9 | 100240 | 0 | 1 | 0 | 0 |\n",
       "\n"
      ],
      "text/plain": [
       "  person   age educper hosp female cholest cholestx systol systolx diastol ⋯\n",
       "1 MA250247 42  12       0    0      NA     245       NA    128     NA      ⋯\n",
       "2 MA250255 16  NA       0    0      NA     207       NA    100     NA      ⋯\n",
       "3 MA250263 14  NA       0    1      NA     161       NA     92     NA      ⋯\n",
       "4 MA250271 43  12       0    1      NA     176       NA    102     NA      ⋯\n",
       "5 MA250578 NA  NA      NA   NA      NA      NA       NA     NA     NA      ⋯\n",
       "6 MA250586 15  NA       0    1     212     185      120    102     48      ⋯\n",
       "  income1cpi mhi  mhix ghindx ghindxx famid  plan_free plan_deduc plan_coins\n",
       "1 67486.48   95.0 94.7 NA     71.6    100082 0         0          0         \n",
       "2 67486.48   93.8 76.1 NA     69.3    100082 0         0          0         \n",
       "3 67486.48   98.7 96.8 NA     92.0    100082 0         0          0         \n",
       "4 67486.48   96.3 80.3 NA     73.9    100082 0         0          0         \n",
       "5       NA     NA 89.4 NA     75.0        NA 0         0          0         \n",
       "6 27608.11   61.1 77.7 NA     65.9    100240 0         1          0         \n",
       "  plan_catas\n",
       "1 1         \n",
       "2 1         \n",
       "3 1         \n",
       "4 1         \n",
       "5 0         \n",
       "6 0         "
      ]
     },
     "metadata": {},
     "output_type": "display_data"
    }
   ],
   "source": [
    "head(table1_3)"
   ]
  },
  {
   "cell_type": "markdown",
   "id": "1b8caffd",
   "metadata": {},
   "source": [
    "Let's create new data frames for each of the four groups using `filter()`. The shortened group names are:\n",
    "\n",
    "* `plan_catas` = Catastrophic plan \n",
    "* `plan_deduc` = Deductible plan   \n",
    "* `plan_coins` = Coinsurance plan  \n",
    "* `plan_free`  = Free plan   \n",
    "\n",
    "Copy and paste this code below and run it:\n",
    "\n",
    "`table1_3_catas <- filter(table1_3, plan_catas == 1)`\n",
    "\n",
    "`table1_3_deduc <- filter(table1_3, plan_deduc == 1)`\n",
    "\n",
    "`table1_3_coins <- filter(table1_3, plan_coins == 1)`\n",
    "\n",
    "`table1_3_free  <- filter(table1_3, plan_free  == 1)`"
   ]
  },
  {
   "cell_type": "code",
   "execution_count": null,
   "id": "4abe077f",
   "metadata": {},
   "outputs": [],
   "source": []
  },
  {
   "cell_type": "markdown",
   "id": "813fc917",
   "metadata": {},
   "source": [
    "What we now have are 4 separate data frames for the 4 groups assigned to different insurance plans.\n",
    "\n",
    "In STAT 20, you might have used `t.test()` to run a comparison between two groups. Let's run `t.test()` on the percent identifying as `female` in the deductible group versus the catastrophic group. This should get us something like the two numbers in the table at upper left.\n",
    "\n",
    "`t.test(table1_3_deduc$female, table1_3_catas$female)`"
   ]
  },
  {
   "cell_type": "code",
   "execution_count": null,
   "id": "8076a939",
   "metadata": {},
   "outputs": [],
   "source": []
  },
  {
   "cell_type": "markdown",
   "id": "84f38c30",
   "metadata": {},
   "source": [
    "Not exactly clear, is it? The $t$-statistic is 1.53, which in words means that this difference is about 1.5 times its standard error. That's not big enough for us to reject the null hypothesis that the true difference is zero. \n",
    "\n",
    "There's probably an option to `t.test()` that will show us this, but we can also just type it into __R__. Here is the difference between those last two numbers in the output:"
   ]
  },
  {
   "cell_type": "code",
   "execution_count": 13,
   "id": "e6479f9f",
   "metadata": {},
   "outputs": [
    {
     "data": {
      "text/html": [
       "-0.0230574"
      ],
      "text/latex": [
       "-0.0230574"
      ],
      "text/markdown": [
       "-0.0230574"
      ],
      "text/plain": [
       "[1] -0.0230574"
      ]
     },
     "metadata": {},
     "output_type": "display_data"
    }
   ],
   "source": [
    "0.5368899 - 0.5599473"
   ]
  },
  {
   "cell_type": "markdown",
   "id": "cdee9a24",
   "metadata": {},
   "source": [
    "This is indeed the point estimate ($-0.23$) of the average difference that appears at the upper left of Table 1.3A.\n",
    "\n",
    "And then this, the difference divided by the $t$-stat, has to be the estimated standard error:"
   ]
  },
  {
   "cell_type": "code",
   "execution_count": 14,
   "id": "4f6fa89f",
   "metadata": {},
   "outputs": [
    {
     "data": {
      "text/html": [
       "0.024650039021157"
      ],
      "text/latex": [
       "0.024650039021157"
      ],
      "text/markdown": [
       "0.024650039021157"
      ],
      "text/plain": [
       "[1] 0.02465004"
      ]
     },
     "metadata": {},
     "output_type": "display_data"
    }
   ],
   "source": [
    "(0.5368899 - 0.5599473)/-0.93539"
   ]
  },
  {
   "cell_type": "markdown",
   "id": "43cd8271",
   "metadata": {},
   "source": [
    "Unfortunately this is not the standard error (.16) that appears under the $-0.23$ at the upper left of Table 1.4A. What's going on? Let's load in that new library, which will let us run a special version of `lm()` that will help reveal what's going on."
   ]
  },
  {
   "cell_type": "code",
   "execution_count": 20,
   "id": "522e9755",
   "metadata": {},
   "outputs": [
    {
     "name": "stderr",
     "output_type": "stream",
     "text": [
      "Installing package into ‘/opt/r’\n",
      "(as ‘lib’ is unspecified)\n",
      "\n"
     ]
    }
   ],
   "source": [
    "install.packages(\"estimatr\")\n",
    "library(estimatr)"
   ]
  },
  {
   "cell_type": "markdown",
   "id": "236116d1",
   "metadata": {},
   "source": [
    "First, let's run `lm_robust()` with options set to the baseline. The syntax is the same as it is for `lm()`, and we should recover the same results, as long as we set the standard errors to \"classical\" type.\n",
    "\n",
    "`reg_toprow <- lm(female ~ plan_deduc + plan_coins + plan_free, data = table1_3)`\n",
    "\n",
    "`summary(reg_toprow)`\n",
    "\n",
    "`reg_toprowrob <- lm_robust(female ~ plan_deduc + plan_coins + plan_free, \n",
    "                           data = table1_3, se_type = \"classical\")`\n",
    "\n",
    "`summary(reg_toprowrob)`"
   ]
  },
  {
   "cell_type": "code",
   "execution_count": null,
   "id": "985f3cd2",
   "metadata": {},
   "outputs": [],
   "source": []
  },
  {
   "cell_type": "markdown",
   "id": "08ccf82e",
   "metadata": {},
   "source": [
    "Now let's explore what <i>clustering our standard errors at the family level</i> does to our estimates of the standard errors. Because there are families in these data, indexed by the `famid` variable, we might expect that the $\\epsilon$'s that shock a person one way or another within a family might shock the rest of the family as well. Imagine a family car that breaks down, so nobody keeps their checkup appointments.\n",
    "\n",
    "`reg_toprowcluster <- lm_robust(female ~ plan_deduc + plan_coins + plan_free, \n",
    "                                data = table1_3, clusters = famid)`\n",
    "                              \n",
    "`summary(reg_toprowcluster)`"
   ]
  },
  {
   "cell_type": "code",
   "execution_count": null,
   "id": "b4078f94",
   "metadata": {},
   "outputs": [],
   "source": []
  },
  {
   "cell_type": "markdown",
   "id": "24696d15",
   "metadata": {},
   "source": [
    "Compare these results to the top row in Table 1.3A. What do you see?"
   ]
  },
  {
   "cell_type": "markdown",
   "id": "353179f2",
   "metadata": {},
   "source": []
  },
  {
   "cell_type": "markdown",
   "id": "e5dcf6ba",
   "metadata": {},
   "source": [
    "Compare these results to the results without clustering standard errors at the family level. Which ones are larger?"
   ]
  },
  {
   "cell_type": "markdown",
   "id": "a9ec932f",
   "metadata": {},
   "source": []
  },
  {
   "cell_type": "markdown",
   "id": "4b707bff",
   "metadata": {},
   "source": [
    "<h6>A pause to reflect</h6>\n",
    "Notice that we ran this model::\n",
    "$$\n",
    "female_i = \\alpha + \\beta^d \\cdot D^d_i + \\beta^c \\cdot D^c_i + \\beta^f \\cdot D^f_i + \\epsilon_i\n",
    "$$\n",
    "\n",
    "where the $D$'s are the 0/1 indicator variables showing membership in the treatment arms (deductible, coinsurance, free).\n",
    "\n",
    "Does it surprise or concern you at all that the $y$-variable, `female`, is <i>also</i> a 0/1 indicator variable?"
   ]
  },
  {
   "cell_type": "markdown",
   "id": "f1fce80e",
   "metadata": {},
   "source": [
    "<h2>BONUS ROUND</h2>\n",
    "\n",
    "There are many other interesting things to look at here. We can also examine how baseline (before randomization) or end-of-study outcomes vary with characteristics, in a break with the RCT's advantages. But it can help us with practice and potentially some interesting thought experiments."
   ]
  },
  {
   "cell_type": "markdown",
   "id": "58dc8bed",
   "metadata": {},
   "source": [
    "Here's a reproduction of the top line in panel B, where we are looking at the \"General health index\" `ghindx` across control and treatment arms:\n",
    "\n",
    "`reg_ghindxcluster <- lm_robust(ghindx ~ plan_deduc + plan_coins + plan_free,                                  \n",
    "                               data = table1_3, clusters = famid)`\n",
    "\n",
    "`summary(reg_ghindxcluster)`"
   ]
  },
  {
   "cell_type": "code",
   "execution_count": null,
   "id": "f55fdc5b",
   "metadata": {},
   "outputs": [],
   "source": []
  },
  {
   "cell_type": "markdown",
   "id": "5454a8f9",
   "metadata": {},
   "source": [
    "It looks like we've got the right variable. Maybe we can try this model of health:\n",
    "\n",
    "$$\n",
    "ghindx_{i0} = \\alpha + \\beta^a \\cdot age_i + \\beta^f \\cdot female_i + \\beta^bh \\cdot blackhisp_i + \\beta^e \\cdot educ_i +\n",
    "\\beta^i \\cdot income_{i0} + \\epsilon_i\n",
    "$$\n",
    "\n",
    "where I'm using $i0$ to refer to the measure of a variable for person $i$ at time $0$, meaning before the RCT. "
   ]
  },
  {
   "cell_type": "markdown",
   "id": "fb640a3a",
   "metadata": {},
   "source": [
    "`reg_ghindx_yc <- lm_robust(ghindx ~ age + female + blackhisp + educper + income1cpi,                                  \n",
    "                               data = table1_3, clusters = famid)`\n",
    "\n",
    "`summary(reg_ghindx_yc)`"
   ]
  },
  {
   "cell_type": "code",
   "execution_count": null,
   "id": "d75834c2",
   "metadata": {},
   "outputs": [],
   "source": []
  },
  {
   "cell_type": "markdown",
   "id": "b170411b",
   "metadata": {},
   "source": [
    "Write about what you see here!"
   ]
  },
  {
   "cell_type": "markdown",
   "id": "107de324",
   "metadata": {},
   "source": [
    "<font color=\"red\">\n",
    "    In the entire pooled sample, we see rather large health inequalities at baseline. That's probably great news, because the reason we're looking at this at all is to inform policy about the health insurance status of real people. And among real people, there are big health inequalities.\n",
    "</font>\n",
    "<p>\n",
    "<font color=\"red\">\n",
    "    For a randomized controlled trial (RCT) to work, we need to have the control and treatment groups look the same <i>on average</i>. Within each group, there still will be and should be patterns between variables. Randomization means that the treatment variable of interest is applied only to the treatment group(s).\n",
    "    </font>"
   ]
  },
  {
   "cell_type": "markdown",
   "id": "50ab6640",
   "metadata": {},
   "source": [
    "<div style=\"text-align: right\"> <span style=\"font-family:Papyrus; \">And they lived happily ever after. The End.</span></div>"
   ]
  }
 ],
 "metadata": {
  "kernelspec": {
   "display_name": "R",
   "language": "R",
   "name": "ir"
  },
  "language_info": {
   "codemirror_mode": "r",
   "file_extension": ".r",
   "mimetype": "text/x-r-source",
   "name": "R",
   "pygments_lexer": "r",
   "version": "4.3.1"
  }
 },
 "nbformat": 4,
 "nbformat_minor": 5
}
