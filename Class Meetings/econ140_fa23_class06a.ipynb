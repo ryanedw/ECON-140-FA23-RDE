{
 "cells": [
  {
   "cell_type": "markdown",
   "id": "1c6bdc7d",
   "metadata": {},
   "source": [
    "<img src=\"images/econ140R_logo.png\" width=\"200\" />"
   ]
  },
  {
   "cell_type": "markdown",
   "id": "11979eed",
   "metadata": {},
   "source": [
    "<h1>ECON 140R Class 06a</h1>"
   ]
  },
  {
   "cell_type": "markdown",
   "id": "409464c2",
   "metadata": {},
   "source": [
    "Let's spend time to cement a few key takeaways from Chapter 1 of <i>Mastering Metrics</i>. In the book, Angrist and Pischke show us a simple example with 2 individuals. Here, let's examine a simple example with 20 individuals, 10 each in the control and treatment groups.\n",
    "\n",
    "<h2>Learning Objectives</h2>\n",
    "\n",
    "* Run an ordinary least squares (OLS) regression $y_i = \\alpha + \\beta \\ D_i + \\epsilon_i$ using `lm()`\n",
    "* See that when $y$ is an outcome, and if the indicator variable $D = 1$ measures treatment group assignment in an RCT, then OLS reveals:\n",
    "    * $\\alpha$ = average $y$ for the control group\n",
    "    * $\\beta$ = average difference in outcomes between treatment and control\n",
    "* See a brief example of a \"recode\" in __R__ using `ifelse()`"
   ]
  },
  {
   "cell_type": "code",
   "execution_count": null,
   "id": "c4a34327",
   "metadata": {},
   "outputs": [],
   "source": [
    "library(tidyverse)"
   ]
  },
  {
   "cell_type": "markdown",
   "id": "2fd0d195",
   "metadata": {},
   "source": [
    "I've learned some __R__ to create a fictional dataset containing study participants in a randomized controlled trial (RCT). Here is code that ultimately creates a data frame for the 10-person control group that shows their first names; an (old-school) binary gender identity$^{\\dagger}$; RCT group membership; and a <u>bad health outcome</u>, first coded numerically and then again as a string."
   ]
  },
  {
   "cell_type": "markdown",
   "id": "c3c24986",
   "metadata": {},
   "source": [
    "Zeros and ones are common codings for bad health outcomes in medicine and in health economics. You could think of $y = 1$ meaning that the participant catches COVID-19, for example. Another, more extreme example is that the bad health outcome could be death. Here, I've coded \"poor health\" as `outcomestr == 1` with \"good health\" being the other state. (This is a common way of collapsing what is usually a 5-point scale for self-reported health: \"excellent,\" \"very good,\" \"good,\" \"fair,\" and \"poor,\" with the first three categories usually mapped to \"good\" and the latter two categories mapped to \"poor.\"\n",
    "\n",
    "Because of this coding, note that we are looking for a treatment that has a <b>negative</b> or protective effect: $\\beta < 0$. A positive effect in this context would mean that the treatment is actually worsening health."
   ]
  },
  {
   "cell_type": "code",
   "execution_count": null,
   "id": "1458b377",
   "metadata": {},
   "outputs": [],
   "source": [
    "names   <- c(\"Alison\", \"Bradley\", \"Catherine\", \"David\", \"Esme\", \n",
    "             \"Frank\", \"Georgina\", \"Henry\", \"Inez\", \"James\")\n",
    "\n",
    "gender  <- c(\"female\", \"male\", \"female\", \"male\", \"female\",\n",
    "             \"male\", \"female\", \"male\", \"female\", \"male\")\n",
    "\n",
    "group   <- c(\"control\", \"control\", \"control\", \"control\", \"control\",\n",
    "             \"control\", \"control\", \"control\", \"control\", \"control\")\n",
    "\n",
    "outcome <- c(0,1,0,0,1,\n",
    "             1,1,0,1,0)\n",
    "\n",
    "outcomestr <- c(\"good\", \"poor\", \"good\", \"good\", \"poor\",\n",
    "                \"poor\", \"poor\", \"good\", \"poor\", \"good\")\n",
    "\n",
    "# data.frame() constructs the data frame and labels the columns with the variable names\n",
    "# Parentheses around the command also ask R to show it to us\n",
    "\n",
    "(control_df <- data.frame(names, gender, group, outcome, outcomestr))\n"
   ]
  },
  {
   "cell_type": "markdown",
   "id": "c1cb13d0",
   "metadata": {},
   "source": [
    "Can you eyeball the average of `outcome` here for the control group? There are 10 people, and 5 of them have `outcome == 1`, so ..."
   ]
  },
  {
   "cell_type": "code",
   "execution_count": null,
   "id": "0e25e23c",
   "metadata": {},
   "outputs": [],
   "source": [
    "# List the proportion in the control group who have outcome == 1 below:\n",
    "outcome_avg_control = \n",
    "\n",
    "# If you can't eyeball it, perhaps uncomment and try this code:\n",
    "#outcome_avg_control = mean(control_df$outcome)\n",
    "\n",
    "outcome_avg_control"
   ]
  },
  {
   "cell_type": "markdown",
   "id": "f05a2d06",
   "metadata": {},
   "source": [
    "Run the code below to generate the treatment group:"
   ]
  },
  {
   "cell_type": "code",
   "execution_count": null,
   "id": "3ef4fe26",
   "metadata": {},
   "outputs": [],
   "source": [
    "names   <- c(\"Kate\", \"Larry\", \"Mallory\", \"Niles\", \"Olivia\", \n",
    "             \"Peter\", \"Quincy\", \"Rutger\", \"Stephanie\", \"Troy\")\n",
    "\n",
    "gender  <- c(\"female\", \"male\", \"female\", \"male\", \"female\",\n",
    "             \"male\", \"female\", \"male\", \"female\", \"male\")\n",
    "\n",
    "group   <- c(\"treatment\", \"treatment\", \"treatment\", \"treatment\", \"treatment\",\n",
    "             \"treatment\", \"treatment\", \"treatment\", \"treatment\", \"treatment\")\n",
    "\n",
    "outcome <- c(0,0,0,1,0,\n",
    "             1,1,0,0,0)\n",
    "\n",
    "outcomestr <- c(\"good\", \"good\", \"good\", \"poor\", \"good\",\n",
    "                \"poor\", \"poor\", \"good\", \"good\", \"good\")\n",
    "\n",
    "(treatment_df <- data.frame(names, gender, group, outcome, outcomestr))\n"
   ]
  },
  {
   "cell_type": "markdown",
   "id": "9b8dcceb",
   "metadata": {},
   "source": [
    "Can you eyeball the average of `outcome` here? There are 10 people, and 3 of them have `outcome == 1`, so therefore ...\n",
    "\n"
   ]
  },
  {
   "cell_type": "code",
   "execution_count": null,
   "id": "d8db7276",
   "metadata": {},
   "outputs": [],
   "source": [
    "# List the proportion in the control group who have outcome == 1 below:\n",
    "outcome_avg_treatment = \n",
    "\n",
    "# If you can't eyeball it, perhaps uncomment and try this code:\n",
    "#outcome_avg_treatment = mean(treatment_df$outcome)\n",
    "\n",
    "outcome_avg_treatment"
   ]
  },
  {
   "cell_type": "markdown",
   "id": "5d07ba3a",
   "metadata": {},
   "source": [
    "The randomization and placebo might be rocket science, but otherwise we are done with any rocket science. All we are really looking for is the average difference between control and treatment, which you can eyeball in this simple example. Remember that if the treatment is protective against bad health, we expect to find a <i>negative</i> treatment effect here:"
   ]
  },
  {
   "cell_type": "code",
   "execution_count": null,
   "id": "57ad663e",
   "metadata": {},
   "outputs": [],
   "source": [
    "treatment_effect = outcome_avg_treatment - outcome_avg_control\n",
    "treatment_effect"
   ]
  },
  {
   "cell_type": "markdown",
   "id": "d0603323",
   "metadata": {},
   "source": [
    "Now we have two separate data frames for treatment and control. In order to run OLS using `lm()`, with a new indicator variable `treatment` for $D_i$, we need to append or add the datasets to one another. In your mind's eye, what we want to do is create a new matrix from these two existing matrices by stacking them vertically. Here's a way to do that with data frames in __R__:"
   ]
  },
  {
   "cell_type": "code",
   "execution_count": null,
   "id": "655ac896",
   "metadata": {},
   "outputs": [],
   "source": [
    "fake_rct_df <- rbind(control_df, treatment_df)\n",
    "fake_rct_df"
   ]
  },
  {
   "cell_type": "markdown",
   "id": "5e0aa7d7",
   "metadata": {},
   "source": [
    "Now let's create that indicator variable `treatment` that will serve as the right-hand side variable $D_i$ in the regression equation shown at the top of this notebook. Here is one way to do that by using `mutate()` to add a column for the variable `treatment`, which we create with a call to `ifelse()`. Here, `ifelse()` is told to return a 1 if `group == \"treatment\"` and a 0 otherwise."
   ]
  },
  {
   "cell_type": "code",
   "execution_count": null,
   "id": "2af0c652",
   "metadata": {},
   "outputs": [],
   "source": [
    "fake_rct_df <- mutate(fake_rct_df, treatment = ifelse(group == \"treatment\", 1, 0))\n",
    "fake_rct_df"
   ]
  },
  {
   "cell_type": "markdown",
   "id": "f33bd078",
   "metadata": {},
   "source": [
    "Now let's run the OLS regression from above. I'll write it in its generic form first, and then with variable names, and then the code field will show its equivalent in __R__ using `lm()`\n",
    "\n",
    "$$\n",
    "y_i = \\alpha + \\beta \\ D_i + \\epsilon_i \\\\\n",
    "outcome_i = \\alpha + \\beta \\ treatment_i + \\epsilon_i\n",
    "$$"
   ]
  },
  {
   "cell_type": "code",
   "execution_count": null,
   "id": "26aaf611",
   "metadata": {},
   "outputs": [],
   "source": [
    "fake_rct_reg <- lm(outcome ~ treatment, data = fake_rct_df)\n",
    "summary(fake_rct_reg)"
   ]
  },
  {
   "cell_type": "markdown",
   "id": "0c228fae",
   "metadata": {},
   "source": [
    "Examine these results and compare to what you have seen earlier. Below is another way of extracting this information from the data, without using OLS:"
   ]
  },
  {
   "cell_type": "code",
   "execution_count": null,
   "id": "1da3bdb0",
   "metadata": {},
   "outputs": [],
   "source": [
    "mean(treatment_df$outcome)\n",
    "\n",
    "mean(control_df$outcome)\n",
    "\n",
    "mean(treatment_df$outcome) - mean(control_df$outcome)\n"
   ]
  },
  {
   "cell_type": "markdown",
   "id": "d3729f69",
   "metadata": {},
   "source": [
    "<div style=\"text-align: right\"> <span style=\"font-family:Papyrus; \">And they lived happily ever after. The End.</span></div>"
   ]
  },
  {
   "cell_type": "markdown",
   "id": "348ac7bb",
   "metadata": {},
   "source": [
    "<hr>"
   ]
  },
  {
   "cell_type": "markdown",
   "id": "e6a3b9f0",
   "metadata": {},
   "source": [
    "<i>ABANDON ALL HOPE, ye who enter here.</i>\n",
    "\n",
    "<h2>Logit models</h2>"
   ]
  },
  {
   "cell_type": "markdown",
   "id": "ce9689c0",
   "metadata": {},
   "source": [
    "When the $y$ variable is binary, some researchers often use `logit` or `probit` models to estimate parameters rather than ordinary least squares (OLS) such as `lm()`. Often, OLS returns very similar results, so the difference between them can be [pedantic](https://www.merriam-webster.com/dictionary/pedantic) sometimes. But if somebody tells you to use a `logit` instead of OLS, go for it!\n",
    "\n",
    "The code below estimates the simple model using a `logit` instead of OLS:"
   ]
  },
  {
   "cell_type": "code",
   "execution_count": null,
   "id": "75cb6236",
   "metadata": {},
   "outputs": [],
   "source": [
    "fake_rct_logit <- glm(outcome ~ treatment, \n",
    "                      data = fake_rct_df, \n",
    "                      family = binomial(link = \"logit\")\n",
    "                      )\n",
    "summary(fake_rct_logit)"
   ]
  },
  {
   "cell_type": "markdown",
   "id": "4017e6db",
   "metadata": {},
   "source": [
    "Confused by the output? That's because the logit coefficient here is approximately the percentage change in the odds of success, not the percentage point change in the probability of success. The exponentiated logit coefficient is the odds ratio. \n",
    "\n",
    "The <b>odds</b> of an event (O) and the probability of an event (P) are related in the following way:\n",
    "\n",
    "$$\n",
    "O = \\frac{P}{1-P}\n",
    "$$"
   ]
  },
  {
   "cell_type": "code",
   "execution_count": null,
   "id": "743cd10c",
   "metadata": {},
   "outputs": [],
   "source": [
    "fake_rct_logit_coef = coef(fake_rct_logit)\n",
    "fake_rct_logit_coef[2]\n",
    "exp(fake_rct_logit_coef[2])"
   ]
  },
  {
   "cell_type": "markdown",
   "id": "eabaf9e9",
   "metadata": {},
   "source": [
    "Often the probability of an event is a little easier to discuss than the odds of an event. That might be one reason to use OLS, simply because it makes the exposition clearer. But it's also true that one can convert the `logit` results back into a more familiar marginal effect on the probability of success. To do so, we need another ``R`` package:"
   ]
  },
  {
   "cell_type": "code",
   "execution_count": null,
   "id": "242e8baf",
   "metadata": {},
   "outputs": [],
   "source": [
    "install.packages(\"mfx\")\n",
    "library(mfx)"
   ]
  },
  {
   "cell_type": "code",
   "execution_count": null,
   "id": "66774211",
   "metadata": {},
   "outputs": [],
   "source": [
    "(fake_rct_logitmfx <- logitmfx(outcome ~ treatment, data = fake_rct_df))"
   ]
  },
  {
   "cell_type": "markdown",
   "id": "1a032920",
   "metadata": {},
   "source": [
    "Lo and behold, we find the same marginal effect here that we found earlier using OLS, only after much contortions.\n",
    "\n",
    "The takeaways: \n",
    "* Logit and probit are reasonable alternatives. So are generalized linear models (GLM), which might be where logit sits in a package, like it does in ``R``\n",
    "* For ECON 140, all this is strictly \"bonus\" material"
   ]
  },
  {
   "cell_type": "markdown",
   "id": "0be159d3",
   "metadata": {},
   "source": [
    "<div style=\"text-align: right\"> <span style=\"font-family:Papyrus; \">And they lived somewhat less happily ever after. The End.</span></div>"
   ]
  },
  {
   "cell_type": "markdown",
   "id": "c958e25c",
   "metadata": {},
   "source": [
    "<hr>"
   ]
  },
  {
   "cell_type": "markdown",
   "id": "0e4588f2",
   "metadata": {},
   "source": [
    "${\\dagger}$ To learn more about 21-century methods of measuring gender identity and related concepts, see the National Academies of Sciences, Engineering, and Medicine. 2022. <i>Measuring Sex, Gender Identity, and Sexual Orientation.</i> Washington, DC: The National Academies Press. (https://doi.org/10.17226/26424)[https://doi.org/10.17226/26424]."
   ]
  }
 ],
 "metadata": {
  "kernelspec": {
   "display_name": "R",
   "language": "R",
   "name": "ir"
  },
  "language_info": {
   "codemirror_mode": "r",
   "file_extension": ".r",
   "mimetype": "text/x-r-source",
   "name": "R",
   "pygments_lexer": "r",
   "version": "4.3.1"
  }
 },
 "nbformat": 4,
 "nbformat_minor": 5
}
