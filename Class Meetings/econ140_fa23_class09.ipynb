{
 "cells": [
  {
   "cell_type": "markdown",
   "id": "a4c40298",
   "metadata": {},
   "source": [
    "<img src=\"images/econ140R_logo.png\" width=\"200\" />"
   ]
  },
  {
   "cell_type": "markdown",
   "id": "28bfe784",
   "metadata": {},
   "source": [
    "<h1>ECON 140R Class 09</h1>\n",
    "\n",
    "We'd like to understand the role of \"family size,\" meaning number of siblings, as a potentially omitted variable in the [Dale and Krueger (2002)](https://www-jstor-org.libproxy.berkeley.edu/stable/4132484) study of earnings as a function of private school attendance. \n",
    "\n",
    "The role of family size is discussed by Angrist and Pischke in <i>Mastering Metrics</i> on pp 72-74. They reason that if family size were an omitted variable, it likely creates positive bias in the coefficient on private school, meaning that the true effect of private school attendance on earnings is (even) less positive.\n",
    "\n",
    "This is clever reasoning that is an important part of ECON 140R. But if we had a dataset that actually measures siblings, what do the empirical signs and magnitudes imply?"
   ]
  },
  {
   "cell_type": "markdown",
   "id": "90b66eed",
   "metadata": {},
   "source": [
    "<h2>Learning Objectives</h2>\n",
    "\n",
    "1. Look at actual data from the U.S. Health and Retirement Study, on birth cohorts that are similar to those studied by [Dale and Krueger (2002)](https://www-jstor-org.libproxy.berkeley.edu/stable/4132484)\n",
    "\n",
    "1. Use `mutate()` to create some indicator variables for gender identity and race/ethnicity in a real dataset. That function is found in the `dplyr` package, which is also part of the `tidyverse` package, so you can just load `tidyverse`\n",
    "\n",
    "2. Run some regressions using `lm()`\n",
    "\n",
    "3. Visualizations: common pitfalls, some workarounds\n",
    "\n",
    "4. Empirically assess the associations between \"family size,\" meaning number of siblings, and earnings, and thus whether it likely was an omitted variable in [Dale and Krueger (2002)](https://www-jstor-org.libproxy.berkeley.edu/stable/4132484)"
   ]
  },
  {
   "cell_type": "markdown",
   "id": "4ee5d6fd",
   "metadata": {},
   "source": [
    "<h2>The U.S. Health and Retirement Study</h2>\n",
    "\n",
    "The dataset we'll use is the U.S. Health and Retirement Study (HRS), a panel survey of Americans aged 50 and older that started in 1992 and has been refreshed periodically.\n",
    "\n",
    "\n",
    "This is an extract I prepared specially for this purpose. The entire RAND version of the longitudinal file is big, over 1 GB in size. Berkeley's datahub is not configured to allow more than a gigabyte of memory per user, so this would be problematic. If you want to use these data yourself:\n",
    "* Navigate to [https://hrs.isr.umich.edu/](https://hrs.isr.umich.edu/) and register as a user\n",
    "* Start with the RAND file, I think it's the easiest\n",
    "* Download the data to your local machine and use RStudio"
   ]
  },
  {
   "cell_type": "markdown",
   "id": "7d852f78",
   "metadata": {},
   "source": [
    "The fourth wave took place in 1998, and we'll examine data from it. It isn't a perfect match to the cohort examined by [Dale and Krueger (2002)](https://www-jstor-org.libproxy.berkeley.edu/stable/4132484) of college entrants in 1976 reinterviewed in 1995, but the analysis is feasible and may offer some insights. Here is a summary of a major way the samples are different:\n",
    "\n",
    "[Dale and Krueger (2002)](https://www-jstor-org.libproxy.berkeley.edu/stable/4132484) \n",
    "* Entered college in 1976\n",
    "* Likely born around 1958\n",
    "* Earnings measured for 1995\n",
    "\n",
    "Extract of the 1998 wave of HRS\n",
    "* Aged 50-59 in 1998\n",
    "* Born 1939-1948\n",
    "* Earnings measured for 1997\n",
    "\n",
    "The 1998 wave of HRS and subsequent waves were designed to be nationally representative of Americans aged 50 and over. Mid-boomers born 1954-1959 were not formally added to the HRS until 2010. (See [HRS Survey Design and Methodology](https://hrs.isr.umich.edu/documentation/survey-design) for details).\n",
    "\n",
    "Another dataset that might provide a better look at this question is the [National Longitudinal Survey of Youth 1979 (NLSY79)](https://www.bls.gov/nls/nlsy79.htm), which has followed nearly 13,000 men and women born 1957-1964. A similar option would be to examine the [National Longitudinal Study of 1972](https://nces.ed.gov/surveys/nls72/), as [Dale and Krueger (2002)](https://www-jstor-org.libproxy.berkeley.edu/stable/4132484) did in their original paper. But they appear not to have modeled family size as an additional covariate in that dataset, whether because of its omission or because they wanted to replicate their main results in a different dataset. A potential downside of NLS-72 is its smaller size, only 2,127 workers.\n",
    "\n",
    "<i>Why choose HRS?</i> I know the dataset very well, so it was a snap for me to examine. If I had more time, I would look at the NLSY79 or the NLS-72 instead."
   ]
  },
  {
   "cell_type": "markdown",
   "id": "bead533c",
   "metadata": {},
   "source": [
    "<h2>HRS and siblings</h2>"
   ]
  },
  {
   "cell_type": "markdown",
   "id": "be4e31fe",
   "metadata": {},
   "source": [
    "We'd like to understand how \"family size,\" as discussed by Angrist and Pischke, might be an omitted variable in the [Dale and Krueger (2002)](https://www-jstor-org.libproxy.berkeley.edu/stable/4132484) study. The HRS measures the number of living siblings in wave 4, `r4livsib`, for this sample aged 50-59 in 1998. They are roughly 10-20 years older than the Dale-Krueger study participants, who entered college in 1976 and so were probably born around 1958.\n",
    "\n",
    "Our objective is to run a version of this \"long regression\" from page 73 of <i>Mastering Metrics</i>:\n",
    "\n",
    "$$\n",
    "\\ln Y_i = \\alpha^l \n",
    "+ \\beta^l \\ P_i + \n",
    "\\sum_j \\gamma_j^l GROUP_{ji} \n",
    "+ \\delta_1^l SAT_i\n",
    "+ \\delta_2^l \\ln PI_i\n",
    "+ \\lambda FS_i\n",
    "+ e^l_i\n",
    "$$\n",
    "\n",
    "where we can measure $FS_i$ in the HRS data, as `r4livsib`. We don't have many of the other right-hand-side variables shown here, but that shouldn't matter for this exercise. The coefficient on family size in a log earnings regression is not likely to depend much on the other controls shown here."
   ]
  },
  {
   "cell_type": "code",
   "execution_count": null,
   "id": "7800318b",
   "metadata": {},
   "outputs": [],
   "source": [
    "library(tidyverse)\n",
    "library(haven)"
   ]
  },
  {
   "cell_type": "markdown",
   "id": "61c77522",
   "metadata": {},
   "source": [
    "This is an extract I prepared specially for this purpose. The entire RAND version of the longitudinal file is big, over 1 GB in size. Berkeley's datahub is not configured to allow more than a gigabyte of memory per user, so this would be problematic. If you want to use these data yourself:\n",
    "* Navigate to [https://hrs.isr.umich.edu/](https://hrs.isr.umich.edu/) and register as a user\n",
    "* Start with the RAND file, I think it's the easiest\n",
    "* Download the data to your local machine and use RStudio"
   ]
  },
  {
   "cell_type": "code",
   "execution_count": null,
   "id": "645c01ad",
   "metadata": {},
   "outputs": [],
   "source": [
    "hrs_w4_earn_sibs = read_dta(\"data/hrs_w4_earn_sibs.dta\")\n",
    "head(hrs_w4_earn_sibs)"
   ]
  },
  {
   "cell_type": "markdown",
   "id": "a35024e6",
   "metadata": {},
   "source": [
    "The RAND file uses a very helpful variable naming convention: `rKvarname`, where K is the wave. Here, let's look at summary statistics for the variable `r4livsib`, which is number of living siblings. For people we'll look at, this is going to be very close to siblings ever born. "
   ]
  },
  {
   "cell_type": "code",
   "execution_count": null,
   "id": "4d810365",
   "metadata": {},
   "outputs": [],
   "source": [
    "summary(hrs_w4_earn_sibs$r4livsib)\n",
    "hist(hrs_w4_earn_sibs$r4livsib)"
   ]
  },
  {
   "cell_type": "markdown",
   "id": "ca5d12e5",
   "metadata": {},
   "source": [
    "It's also helpful to look at years of education `raedyrs`, because that appears to be pretty important for understanding the effects of number of siblings on earnings:"
   ]
  },
  {
   "cell_type": "code",
   "execution_count": null,
   "id": "4b6493c1",
   "metadata": {},
   "outputs": [],
   "source": [
    "summary(hrs_w4_earn_sibs$raedyrs)\n",
    "hist(hrs_w4_earn_sibs$raedyrs)"
   ]
  },
  {
   "cell_type": "markdown",
   "id": "943c2bb9",
   "metadata": {},
   "source": [
    "Many folks are at that huge spike at a high school degree, 12 years. The Dale-Krueger dataset includes only those people and those with more education, and none of the left tail.\n",
    "\n",
    "It might be interesting to see these two variables in a scatterplot, wouldn't it? Unfortunately, variables like this that take on integer values can create extremely unfortunate visualizations:"
   ]
  },
  {
   "cell_type": "code",
   "execution_count": null,
   "id": "0d6263c8",
   "metadata": {},
   "outputs": [],
   "source": [
    "plot(hrs_w4_earn_sibs$r4livsib, hrs_w4_earn_sibs$raedyrs)"
   ]
  },
  {
   "cell_type": "markdown",
   "id": "8b78dd38",
   "metadata": {},
   "source": [
    "A tried and true solution to this problem is to MESS WITH THE DATA. You may not have known it, but chances are that in STAT 20 or DATA 8, you saw more than your fair share of scatterplots with deliberately \"cooked\" data in the way we're about to cook it.\n",
    "\n",
    "If we add a small random number to both variables, we are monkeying with the data but basically preserving it. It's good to seed the random number generator (RNG) so that we can reproduce outcomes if we want to. "
   ]
  },
  {
   "cell_type": "code",
   "execution_count": null,
   "id": "b0b49bd6",
   "metadata": {},
   "outputs": [],
   "source": [
    "set.seed(20220927)"
   ]
  },
  {
   "cell_type": "code",
   "execution_count": null,
   "id": "b5d6f266",
   "metadata": {},
   "outputs": [],
   "source": [
    "# Let's create variables endin in -r that have a \n",
    "# normally distributed random variable added, with mean 0 and small SD\n",
    "hrs_w4_earn_sibs <- mutate(hrs_w4_earn_sibs, \n",
    "                           raedyrsr = raedyrs + rnorm(n(),0,1))\n",
    "hrs_w4_earn_sibs <- mutate(hrs_w4_earn_sibs, \n",
    "                           r4livsibr = r4livsib + rnorm(n(),0,0.5))\n",
    "head(hrs_w4_earn_sibs)"
   ]
  },
  {
   "cell_type": "code",
   "execution_count": null,
   "id": "90a73fa8",
   "metadata": {},
   "outputs": [],
   "source": [
    "plot(hrs_w4_earn_sibs$r4livsibr, hrs_w4_earn_sibs$raedyrsr)"
   ]
  },
  {
   "cell_type": "markdown",
   "id": "9ea7192f",
   "metadata": {},
   "source": [
    "Another thing we could do is just run a regression. Here it is:\n",
    "\n",
    "$$\n",
    "raedyrs_i = \\alpha^e + \\beta^e \\ livingsiblings_i + \\epsilon^e_i\n",
    "$$"
   ]
  },
  {
   "cell_type": "code",
   "execution_count": null,
   "id": "1d3b9893",
   "metadata": {},
   "outputs": [],
   "source": [
    "edyrs_sib_reg <- lm(raedyrs ~ r4livsib, \n",
    "                    data = hrs_w4_earn_sibs)\n",
    "summary(edyrs_sib_reg)"
   ]
  },
  {
   "cell_type": "markdown",
   "id": "9cdcdb90",
   "metadata": {},
   "source": [
    "<hr>"
   ]
  },
  {
   "cell_type": "markdown",
   "id": "482f5214",
   "metadata": {},
   "source": [
    "Let's call `mutate()` to add some categoricals, for female gender identity and for the race/ethnicity categories that are useful to summarize folks:"
   ]
  },
  {
   "cell_type": "code",
   "execution_count": null,
   "id": "fb8030a4",
   "metadata": {},
   "outputs": [],
   "source": [
    "hrs_w4_earn_sibs <- mutate(hrs_w4_earn_sibs, \n",
    "                           rafemale = ragender - 1)"
   ]
  },
  {
   "cell_type": "code",
   "execution_count": null,
   "id": "bb614995",
   "metadata": {},
   "outputs": [],
   "source": [
    "hrs_w4_earn_sibs <- mutate(hrs_w4_earn_sibs, \n",
    "                           rablacknh  = ifelse(raraceth == 2, 1, 0))\n",
    "hrs_w4_earn_sibs <- mutate(hrs_w4_earn_sibs, \n",
    "                           rahispanic = ifelse(raraceth == 3, 1, 0))\n",
    "hrs_w4_earn_sibs <- mutate(hrs_w4_earn_sibs, \n",
    "                           raothernh  = ifelse(raraceth == 4, 1, 0))\n",
    "head(hrs_w4_earn_sibs)"
   ]
  },
  {
   "cell_type": "markdown",
   "id": "be681efe",
   "metadata": {},
   "source": [
    "Behind the scenes, I have created some standard \"labor economics variables.\" One thing you can do in a log-wage regression is control for age and age-squared. You could also control for age group, with indicators for set ranges of age, maybe in 5-year age groups. You could also calculate and use a rough measure of years of \"experience\" in the labor market, which is almost always calculated as age minus years of education:\n",
    "\n",
    "$$\n",
    "r4exper_i = r4age_i - raedyrs_i\n",
    "$$\n",
    "\n",
    "Labor economists often use this measure instead of age in a log wage regression, but the differences between these approaches tend to be minimal. \n",
    "\n",
    "I also created a variable `r4expersq` by squaring the experience variable. Over a broad age range, typically what we see is that earnings rise and then plateau with age, and thus a quadratic in experience can capture the typical experience fairly well. Ideally, the coefficient on the linear term should be positive, and the coefficient on the squared term should be negative, so that the parabola opens downward. This isn't always true, especially if we limit our analysis to a particular age range rather than all working ages 20-64."
   ]
  },
  {
   "cell_type": "markdown",
   "id": "dd856cd1",
   "metadata": {},
   "source": [
    "Let's run this regression:\n",
    "\n",
    "$$\n",
    "\\ln earnings_i = \\alpha_i + \\beta \\ livingsiblings_i + \\gamma \\ raedyrs_i + B \\cdot controls + e_i\n",
    "$$\n",
    "\n",
    "where the controls include years of experience and their square, and indicator variables for gender and racial/ethnic identity."
   ]
  },
  {
   "cell_type": "code",
   "execution_count": null,
   "id": "949b7328",
   "metadata": {},
   "outputs": [],
   "source": [
    "hrs_reg1 <- lm(logr4iearn ~ r4livsib \n",
    "               + raedyrs \n",
    "               + r4exper + r4expersq \n",
    "               + rafemale \n",
    "               + rablacknh + rahispanic + raothernh, \n",
    "               data = hrs_w4_earn_sibs)\n",
    "summary(hrs_reg1)"
   ]
  },
  {
   "cell_type": "markdown",
   "id": "9295113d",
   "metadata": {},
   "source": [
    "Once we have controlled for age or experience, years of education, gender identity, and race/ethnicity, <b>it doesn't appear that number of living siblings tells us anything about earnings.</b>"
   ]
  },
  {
   "cell_type": "markdown",
   "id": "b59ff874",
   "metadata": {},
   "source": [
    "By contrast, number of living siblings in 1998 definitely does appear to be correlated with years of education, controlling for gender and race/ethnicity:"
   ]
  },
  {
   "cell_type": "code",
   "execution_count": null,
   "id": "4d8a0ac8",
   "metadata": {},
   "outputs": [],
   "source": [
    "hrs_reg2 <- lm(raedyrs ~ r4livsib \n",
    "               + rafemale \n",
    "               + rablacknh + rahispanic + raothernh, \n",
    "               data = hrs_w4_earn_sibs)\n",
    "summary(hrs_reg2)"
   ]
  },
  {
   "cell_type": "markdown",
   "id": "6fbab5e6",
   "metadata": {},
   "source": [
    "<hr>"
   ]
  },
  {
   "cell_type": "markdown",
   "id": "e8495fb0",
   "metadata": {},
   "source": [
    "Another reasonable approach here would be to drop observations who have less education than people in the Dale and Krueger (2002) study. They describe their sample in Table II on p. 1506, and they report that 85% graduated from college, and 56% obtained an advanced degree.\n",
    "\n",
    "It turns out that in the HRS data, if we look at people with `raedyrs` of 15 and more, that gets us a sample that looks similar along that dimension. This code shows us frequencies of educational attainment:"
   ]
  },
  {
   "cell_type": "code",
   "execution_count": null,
   "id": "4a82cb83",
   "metadata": {},
   "outputs": [],
   "source": [
    "raedyrs_freq <- as.data.frame( table(hrs_w4_earn_sibs$raedyrs) )\n",
    "colnames(raedyrs_freq) <- c(\"Years of educ\",\"Freq\")\n",
    "#temp <- table(unlist(hrs_w4_earn_sibs$raedyrs))\n",
    "raedyrs_freq"
   ]
  },
  {
   "cell_type": "markdown",
   "id": "c669d71b",
   "metadata": {},
   "source": [
    "In this HRS sample, we see 244 observations at 15 years of education but not a college degree, 620 with a college degree only, and 706 with more than a college degree."
   ]
  },
  {
   "cell_type": "code",
   "execution_count": null,
   "id": "9ecdcf1a",
   "metadata": {},
   "outputs": [],
   "source": [
    "share_no_college <- 244/(244+620+706)\n",
    "share_no_college\n",
    "\n",
    "share_college <- (620+706)/(244+620+706)\n",
    "share_college\n",
    "\n",
    "share_beyond_college <- 706/(244+620+706)\n",
    "share_beyond_college"
   ]
  },
  {
   "cell_type": "markdown",
   "id": "19a1d921",
   "metadata": {},
   "source": [
    "The code above shows that the 244 people at `raedyrs` == 15 are 15% of the total at or above that level, meaning 85% graduated college. That fits the Dale and Krueger sample well. Roughly 45% got more than a college degree, which is a little lower than what Dale and Krueger report. Close enough? It's hard to tell, but let's move ahead.\n",
    "\n",
    "The code below drops education from the right-hand side and runs the model on people with 15+ years of education. This produces a subsample that is similar to the Dale and Krueger data."
   ]
  },
  {
   "cell_type": "code",
   "execution_count": null,
   "id": "781a4d07",
   "metadata": {
    "scrolled": false
   },
   "outputs": [],
   "source": [
    "hrs_reg3 <- lm(logr4iearn ~ r4livsib \n",
    "               #+ raedyrs\n",
    "               + r4exper \n",
    "               + r4expersq \n",
    "               + rafemale \n",
    "               + rablacknh + rahispanic + raothernh, \n",
    "               data = subset(hrs_w4_earn_sibs, raedyrs >= 15))\n",
    "summary(hrs_reg3)\n",
    "nobs(hrs_reg3)"
   ]
  },
  {
   "cell_type": "markdown",
   "id": "129e1a6f",
   "metadata": {},
   "source": [
    "There's not much evidence here. We can also examine a pretty extreme model, where we drop all other covariates and look at the bivariate relationship between log earnings and living siblings:"
   ]
  },
  {
   "cell_type": "code",
   "execution_count": null,
   "id": "80030906",
   "metadata": {},
   "outputs": [],
   "source": [
    "hrs_reg4 <- lm(logr4iearn ~ r4livsib, \n",
    "               data = subset(hrs_w4_earn_sibs, raedyrs >= 15))\n",
    "summary(hrs_reg4)\n",
    "nobs(hrs_reg4)"
   ]
  },
  {
   "cell_type": "markdown",
   "id": "c5ecc5e1",
   "metadata": {},
   "source": [
    "Even here, we see little evidence that number of siblings, or family size, mattered much for earnings at these ages for this birth cohort."
   ]
  },
  {
   "cell_type": "markdown",
   "id": "d1039979",
   "metadata": {},
   "source": [
    "<h2>Bottom lines and open questions</h2>\n",
    "\n",
    "The point of this exercise was to explore the supposition that family size might be an omitted variable in the [Dale and Krueger (2002)](https://www-jstor-org.libproxy.berkeley.edu/stable/4132484), as posited by Angrist and Pischke in <i>Mastering Metrics</i> on pp 72-74.\n",
    "\n",
    "Here are some takeaways:\n",
    "\n",
    "<b>Angrist and Pischke's guesses are shrewd</b>, and they reveal the usefulness of the OVB formula in thinking through robustness. It is very plausible that if family size $FS$ were omitted from this long regression of log earnings on private school attendance and other things:\n",
    "\n",
    "$$\n",
    "\\ln Y_i = \\alpha^l \n",
    "+ \\beta^l \\ P_i + \n",
    "\\sum_j \\gamma_j^l GROUP_{ji} \n",
    "+ \\delta_1^l SAT_i\n",
    "+ \\delta_2^l \\ln PI_i\n",
    "+ \\lambda FS_i\n",
    "+ e^l_i\n",
    "$$\n",
    "\n",
    "then the omission may produce positive bias in $\\beta^s$ from a short regression. Why? You have to have two things:\n",
    "\n",
    "1. We need $\\gamma < 0$ meaning family size reduces earnings\n",
    "\n",
    "2. We need $\\pi_1 < 0$ meaning private school attendance falls with family size\n",
    "\n",
    "When these are both true, then $OVB = \\pi_1 \\times \\gamma > 0$ and thus $\\beta^s$ will be too positive relative to the true $\\beta$. (Another way this could work is if both $\\gamma$ and $\\pi_1$ were positive, but that does not seem likely.)\n",
    "\n",
    "Both assumptions are plausible. \n",
    "\n",
    "<b>But HRS data suggests family size does not <u>independently</u> affect earnings: $\\gamma = 0$</b>. I think this is because family size affects earnings through education. Here, for example, is another look at this: let's model earnings as a function of `r4livsib` in the full HRS sample, omitting education:"
   ]
  },
  {
   "cell_type": "code",
   "execution_count": null,
   "id": "efb56804",
   "metadata": {},
   "outputs": [],
   "source": [
    "hrs_reg5 <- lm(logr4iearn ~ r4livsib \n",
    "               #+ raedyrs\n",
    "               + r4exper \n",
    "               + r4expersq \n",
    "               + rafemale \n",
    "               + rablacknh + rahispanic + raothernh, \n",
    "               data = hrs_w4_earn_sibs)\n",
    "summary(hrs_reg5)\n",
    "nobs(hrs_reg5)"
   ]
  },
  {
   "cell_type": "markdown",
   "id": "1ff43c59",
   "metadata": {},
   "source": [
    "We now see a statistically significant negative coefficient on `r4livsib`, because education is omitted.\n",
    "\n",
    "The bottom line that I take away from this is that <i><b>family size is probably not an omitted variable in the Dale and Krueger (2002) study</b></i>, \"getting off on a technicality,\" as it were. Because their cohort uniformly attended college, a big channel through which siblings matter for earnings, namely education, was shut off. In the long regression, the coefficient on family size, $\\gamma$, is statistically indistinguishable from zero. \n",
    "\n",
    "<b>An open question is whether the sample matters.</b> This is always a concern for applied research, and we usually call it <i>external validity</i>, whether a result from a certain sample is something that can be generalized beyond the sample, or external to it, to the broader human experience."
   ]
  },
  {
   "cell_type": "markdown",
   "id": "6e58f8c7",
   "metadata": {},
   "source": [
    "<hr>"
   ]
  },
  {
   "cell_type": "markdown",
   "id": "99b8612d",
   "metadata": {},
   "source": [
    "<div style=\"text-align: right\"> <span style=\"font-family:Papyrus; \">And they lived happily ever after. The End.</span></div>"
   ]
  }
 ],
 "metadata": {
  "kernelspec": {
   "display_name": "R",
   "language": "R",
   "name": "ir"
  },
  "language_info": {
   "codemirror_mode": "r",
   "file_extension": ".r",
   "mimetype": "text/x-r-source",
   "name": "R",
   "pygments_lexer": "r",
   "version": "4.3.1"
  }
 },
 "nbformat": 4,
 "nbformat_minor": 5
}
