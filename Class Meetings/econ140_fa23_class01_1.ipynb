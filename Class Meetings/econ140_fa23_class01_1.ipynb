{
 "cells": [
  {
   "cell_type": "markdown",
   "id": "7d55433d",
   "metadata": {},
   "source": [
    "<img src=\"images/econ140R_logo.png\" width=\"200\" />"
   ]
  },
  {
   "cell_type": "markdown",
   "id": "b43a1104",
   "metadata": {},
   "source": [
    "<h1>ECON 140R Class 01</h1>"
   ]
  },
  {
   "cell_type": "markdown",
   "id": "90c3b2a7",
   "metadata": {},
   "source": [
    "This is a Jupyter notebook, written with R, and running on [https://datahub.berkeley.edu](https://datahub.berkeley.edu)\n",
    "\n",
    "The \"dad joke\" is that this ECON 140 will be taught at least partially in R, and also it is the first letter of your instructor's first name."
   ]
  },
  {
   "cell_type": "markdown",
   "id": "7cdb1f29",
   "metadata": {},
   "source": [
    "Markdown is a superb tool for writing in clean text. It cannot write clear prose for you, but when you write clear prose, it will render it cleanly. And well, that is what we might call heaven on earth. Visually and pedagogically clear."
   ]
  },
  {
   "cell_type": "markdown",
   "id": "607f8467",
   "metadata": {},
   "source": [
    "&nbsp;"
   ]
  },
  {
   "cell_type": "markdown",
   "id": "d738a162",
   "metadata": {},
   "source": [
    "Markdown lets us write math type too. Us oldsters and geeks might call it $\\LaTeX$. Check this out:"
   ]
  },
  {
   "cell_type": "markdown",
   "id": "ffcaa53d",
   "metadata": {},
   "source": [
    "$$y = \\alpha + \\beta x + \\epsilon$$"
   ]
  },
  {
   "cell_type": "markdown",
   "id": "2379b210",
   "metadata": {},
   "source": [
    "This is a statement that $y$ is linear in $x$, with some error, $\\epsilon$, to the tune of an intercept, $\\alpha$, and a slope, $\\beta$."
   ]
  },
  {
   "cell_type": "markdown",
   "id": "44ad2549",
   "metadata": {},
   "source": [
    "We can get fancy with terms, or we can stay simple. Do whatever feels right to you. These are all roughly equivalent: the partial derivative, $\\partial y/\\partial x = \\beta$; the slope is $\\beta$; the <i>effect</i> of $x$ on $y$ might be $\\beta$ maybe; the association between $x$ and $y$ is $\\beta$; etc."
   ]
  },
  {
   "cell_type": "markdown",
   "id": "f8603fa8",
   "metadata": {},
   "source": [
    "&nbsp;"
   ]
  },
  {
   "cell_type": "markdown",
   "id": "1aa5795f",
   "metadata": {},
   "source": [
    "Econometrics is all about:\n",
    "\n",
    "* Thinking of the world in terms of equations like this\n",
    "\n",
    "* Being clever or realistic about how to measure the \"real\" $\\beta$ &mdash; the causal one &mdash; in data"
   ]
  },
  {
   "cell_type": "markdown",
   "id": "55179a03",
   "metadata": {},
   "source": [
    "&nbsp;"
   ]
  },
  {
   "cell_type": "markdown",
   "id": "f68ff981",
   "metadata": {},
   "source": [
    "The true magic of the Jupyter notebook comes with the interlacing of code and prose together. Let us jump ahead several classes and examine something we will later understand as <b>Omitted Variable Bias</b> using a useful repository of data from Jeffrey Wooldridge's excellent textbook, <i>Introductory Econometrics, a Modern Approach</i>. \n",
    "\n",
    "This appears as Example 9.3 on page 281 of the 6th edition, and it draws on a dataset provided by [Blackburn and Neumark (1992)](https://www-jstor-org.libproxy.berkeley.edu/stable/2118394) on monthly earnings and other characteristics among men in 1980.\n",
    "\n",
    "(This particular example is unfortunately not found within Florian Heiss's excellent R version of this book at [http://www.urfie.net/read/index.html](http://www.urfie.net/read/index.html))"
   ]
  },
  {
   "cell_type": "markdown",
   "id": "5eb0b932",
   "metadata": {},
   "source": [
    "Helpfully, folks have dumped all Wooldridge's public datasets into an R package for us to use. Here is code that sets that up. Highlight the code snippet with your mouse or trackpad, and hit <tt>SHIFT+ENTER</tt>"
   ]
  },
  {
   "cell_type": "code",
   "execution_count": null,
   "id": "a36d8429",
   "metadata": {},
   "outputs": [],
   "source": [
    "install.packages('wooldridge')"
   ]
  },
  {
   "cell_type": "markdown",
   "id": "36c275f1",
   "metadata": {},
   "source": [
    "This command digs into that loaded package and retrieves part of it for our data:"
   ]
  },
  {
   "cell_type": "code",
   "execution_count": null,
   "id": "194aed35",
   "metadata": {},
   "outputs": [],
   "source": [
    "data(wage2, package='wooldridge')"
   ]
  },
  {
   "cell_type": "markdown",
   "id": "73ebc85c",
   "metadata": {},
   "source": [
    "There are several ways of probing what it is that we just loaded. One convenient function to call is <tt>head()<tt>:"
   ]
  },
  {
   "cell_type": "code",
   "execution_count": null,
   "id": "c5fbb3e3",
   "metadata": {},
   "outputs": [],
   "source": [
    "head(wage2)"
   ]
  },
  {
   "cell_type": "markdown",
   "id": "4f941a44",
   "metadata": {},
   "source": [
    "&nbsp;"
   ]
  },
  {
   "cell_type": "markdown",
   "id": "40c0dc18",
   "metadata": {},
   "source": [
    "The variables have mnemonic names you can guess. Probably the strangest one is <tt>lwage</tt>, which appears at the far right of the results window (scroll right), and which is the <b>natural logarithm of the monthly wage</b>."
   ]
  },
  {
   "cell_type": "markdown",
   "id": "03e00f50",
   "metadata": {},
   "source": [
    "As we will see, in R the <tt>lm()</tt> function fits multivariate linear models conveniently. The syntax takes getting used to, but to estimate this model:\n",
    "$$y = \\alpha + \\beta x + \\gamma z + \\epsilon$$\n",
    "we  call this code:\n",
    "\n",
    "<center><tt>lm(y ~ x + z)</tt></center>\n",
    "\n",
    "Can you see the similarities?\n",
    "\n",
    "Now bear with me. I am going to call <tt>lm()</tt> three times with different equations, and I am going to assign the output to new structures on the left hand side of the \"gets\" operator <tt><-</tt>"
   ]
  },
  {
   "cell_type": "code",
   "execution_count": null,
   "id": "e0f017c7",
   "metadata": {},
   "outputs": [],
   "source": [
    "shortreg <- lm(lwage ~ educ + exper + tenure \n",
    "               + married + south + urban + black, data = wage2)"
   ]
  },
  {
   "cell_type": "code",
   "execution_count": null,
   "id": "f67d2d33",
   "metadata": {},
   "outputs": [],
   "source": [
    "longreg <- lm(lwage ~ educ + exper + tenure \n",
    "              + married + south + urban + black + IQ, data = wage2)"
   ]
  },
  {
   "cell_type": "code",
   "execution_count": null,
   "id": "433e0729",
   "metadata": {},
   "outputs": [],
   "source": [
    "auxreg <- lm(IQ ~ educ + exper + tenure \n",
    "             + married + south + urban + black, data = wage2)"
   ]
  },
  {
   "cell_type": "markdown",
   "id": "3b9af4b6",
   "metadata": {},
   "source": [
    "If you were to surround those three calls with parentheses, then R would immediately spit back something. Or you can wait and call <tt>summary()<tt>"
   ]
  },
  {
   "cell_type": "code",
   "execution_count": null,
   "id": "e4c92055",
   "metadata": {},
   "outputs": [],
   "source": [
    "summary(shortreg)"
   ]
  },
  {
   "cell_type": "markdown",
   "id": "ce16916e",
   "metadata": {},
   "source": [
    "&nbsp;"
   ]
  },
  {
   "cell_type": "markdown",
   "id": "278f6ec5",
   "metadata": {},
   "source": [
    "This and other output are what we are after. It takes some skill to decipher this, but you will learn to do it as effortlessly as I can. Look at the coefficient on <tt>educ</tt> in particular. Here is R spitting out just that number, in all its raw glory:"
   ]
  },
  {
   "cell_type": "code",
   "execution_count": null,
   "id": "7c0254f3",
   "metadata": {},
   "outputs": [],
   "source": [
    "shortreg$coefficients[\"educ\"]"
   ]
  },
  {
   "cell_type": "markdown",
   "id": "3c8f179f",
   "metadata": {},
   "source": [
    "In words, it turns out that this is the <i>percentage increase</i> in the hourly wage for each additional year (unit) of education. That's a 6.5% real return, which is not too shabby."
   ]
  },
  {
   "cell_type": "markdown",
   "id": "54197178",
   "metadata": {},
   "source": [
    "<center><h2>Kids, stay in school</h2></center>"
   ]
  },
  {
   "cell_type": "markdown",
   "id": "37150c9f",
   "metadata": {},
   "source": [
    "We will revisit these data more later."
   ]
  },
  {
   "cell_type": "markdown",
   "id": "e9d726dc",
   "metadata": {},
   "source": [
    "As a reminder, <i>you should copy code in this class.</i> Copying code is often how we learn. But you need to copy and then tinker with it, to understand it.\n",
    "\n",
    "In ECON 140, copy code. Do not copy ideas. Copy code, learn from it, alter it to do what you need, profit. Then look at what you have found, and <u>write about it in your own words</u>."
   ]
  },
  {
   "cell_type": "markdown",
   "id": "393389de",
   "metadata": {},
   "source": [
    "<div style=\"text-align: right\"> <span style=\"font-family:Papyrus; \">And they lived happily ever after. The End.</span></div>"
   ]
  }
 ],
 "metadata": {
  "kernelspec": {
   "display_name": "R",
   "language": "R",
   "name": "ir"
  },
  "language_info": {
   "codemirror_mode": "r",
   "file_extension": ".r",
   "mimetype": "text/x-r-source",
   "name": "R",
   "pygments_lexer": "r",
   "version": "4.3.1"
  }
 },
 "nbformat": 4,
 "nbformat_minor": 5
}
