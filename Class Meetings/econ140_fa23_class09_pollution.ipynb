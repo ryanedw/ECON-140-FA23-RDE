{
 "cells": [
  {
   "cell_type": "markdown",
   "id": "72817cd5",
   "metadata": {},
   "source": [
    "<img src=\"images/econ140R_logo.png\" width=\"200\" />"
   ]
  },
  {
   "cell_type": "markdown",
   "id": "53132d99",
   "metadata": {},
   "source": [
    "<h1>ECON 140R Class 09.ad.lib</h1>"
   ]
  },
  {
   "cell_type": "markdown",
   "id": "d5a08d1c",
   "metadata": {},
   "source": [
    "In September 2023, I ad-libbed the scenario in this notebook, motivated by (1) an uphill bike ride to Berkeley while wearing an N95 because of bad air quality, (2) personal history with house-hunting and interstate freeways around the East Bay, and (3) my knowledge of the work of [Lleras-Muney (2010)](https://www-jstor-org.libproxy.berkeley.edu/stable/25703469) about exposure to pollution when young and outcomes.\n",
    "\n",
    "<h2>Learning Objectives</h2>\n",
    "\n",
    "1. A key part of ECON 140R is learning to use the Omitted Variable Bias formula:\n",
    "$$\n",
    "OVB = \\pi_1 \\times \\gamma\n",
    "$$\n",
    "from p. 71 in <i>Mastering Metrics</i>\n",
    "\n",
    "<p>\n",
    "\n",
    "2. If we have data, we can actually assess these parameters. But if not, we need to use our knowledge and intuition and work it through. Here is an example"
   ]
  },
  {
   "cell_type": "markdown",
   "id": "5d7b27fb",
   "metadata": {},
   "source": [
    "Does pollution affect things in a bad way?\n",
    "\n",
    "Probably.\n",
    "\n",
    "Unless you're a dogmatic economist, and you claim that the market solves everything.\n",
    "\n",
    "But, the Tragedy of the Commons is an obvious problem when there aren't clearly defined property rights over natural resources. Air is an obvious one. There's no way on Earth to restrict access to air."
   ]
  },
  {
   "cell_type": "markdown",
   "id": "26d2d353",
   "metadata": {},
   "source": [
    "For whom is this the biggest problem? For children.\n",
    "\n",
    "Suppose you wanted to estimate how bad the problem of pollution is for children. When is it bad?\n",
    "\n",
    "* Childhood and adult asthma, this is probably fairly straightforward. If it's simultaneous, that might be easier to deal with....\n",
    "\n",
    "* Later-life earnings\n",
    "\n",
    "Even with asthma, a problem is that there are familial characteristics $Z$ that probably affect both the outcome variable you care about, $Y$, and they are probably also correlated with pollution exposure. "
   ]
  },
  {
   "cell_type": "markdown",
   "id": "cea666b1",
   "metadata": {},
   "source": [
    "$$\n",
    "\\log earnings_t = \\alpha + \\beta^s \\ childpollution_{t-a} + \\epsilon_t\n",
    "$$"
   ]
  },
  {
   "cell_type": "markdown",
   "id": "42539638",
   "metadata": {},
   "source": [
    "The problem with this is that there are surely tons of omitted variables that matter for both the outcome variable and the treatment variable of interest."
   ]
  },
  {
   "cell_type": "markdown",
   "id": "8b221f75",
   "metadata": {},
   "source": [
    "In particular, parental income is likely to affect physical proximity to pollution during childhood, and it is also likely to affect later-life earnings through a variety of channels.\n",
    "\n",
    "It may be parental income, it may be parental education ... it might be the accident of having read a study about how living next a freeway is bad."
   ]
  },
  {
   "cell_type": "markdown",
   "id": "73798660",
   "metadata": {},
   "source": [
    "This is what we're talking about in ECON 140R. Omitted variable bias. The formula is:\n",
    "\n",
    "$$\n",
    "OVB = \\pi_1 \\times \\gamma\n",
    "$$"
   ]
  },
  {
   "cell_type": "markdown",
   "id": "46b62241",
   "metadata": {},
   "source": [
    "The story is that $\\gamma$ is the coefficient on the omitted variable $Z$ in the long regression:\n",
    "\n",
    "$$\n",
    "\\log earnings_t = \\alpha + \\beta^l \\ childpollution_{t-a} \n",
    "+ \\gamma \\ parentinc_{t-a}\n",
    "+ \\epsilon_t\n",
    "$$"
   ]
  },
  {
   "cell_type": "markdown",
   "id": "dfc899a2",
   "metadata": {},
   "source": [
    "It seems clear that $\\gamma > 0$. It could be zero, if kids are pretty independent."
   ]
  },
  {
   "cell_type": "markdown",
   "id": "26325a0a",
   "metadata": {},
   "source": [
    "The key issue: what is the sign of $\\pi_1$? That's the coefficient on the key treatment variable in the auxiliary regression:\n",
    "\n",
    "$$\n",
    "parentinc_{t-a} = \\pi_0 + \\pi_1 \\ childpollution_{t-a} + u\n",
    "$$"
   ]
  },
  {
   "cell_type": "markdown",
   "id": "7fcb1cc8",
   "metadata": {},
   "source": [
    "What's the sign of $\\pi_1$? It's surely negative, because more parental income can buy less pollution exposure."
   ]
  },
  {
   "cell_type": "markdown",
   "id": "cde60b47",
   "metadata": {},
   "source": [
    "We have all the pieces we need, we know that $OVB$ looks like:\n",
    "\n",
    "$$\n",
    "OVB = \\beta^s - \\beta^l = \\pi_1 \\times \\gamma < 0\n",
    "$$"
   ]
  },
  {
   "cell_type": "markdown",
   "id": "cc613f1e",
   "metadata": {},
   "source": [
    "What does this mean? In the short regression, we probably saw that $\\beta^s < 0$, meaning that more child pollution reduces earnings as an adult. "
   ]
  },
  {
   "cell_type": "markdown",
   "id": "0717537d",
   "metadata": {},
   "source": [
    "But the OVB story has revealed that omitted parental income from the equation means that we're \"piling on the effect of this omitted variable\" in the short regression.\n",
    "\n",
    "In fact, the short regression coefficient is TOO negative, because the $OVB < 0$."
   ]
  },
  {
   "cell_type": "markdown",
   "id": "fdde88f4",
   "metadata": {},
   "source": [
    "So the true $\\beta^l$ that policy can change directly, by reducing pollution, is less negative, smaller in magnitude."
   ]
  },
  {
   "cell_type": "markdown",
   "id": "48f0487e",
   "metadata": {},
   "source": [
    "Suppose:\n",
    "\n",
    "$$\n",
    "\\beta^s = -0.5\n",
    "$$\n",
    "\n",
    "$$\n",
    "OVB = -0.1\n",
    "$$\n",
    "\n",
    "$$\n",
    "\\beta^l = \\beta^s - OVB = -0.5 - (-0.1) = -0.4\n",
    "$$"
   ]
  },
  {
   "cell_type": "markdown",
   "id": "4efec275",
   "metadata": {},
   "source": [
    "<hr>"
   ]
  },
  {
   "cell_type": "markdown",
   "id": "3ddf4d24",
   "metadata": {},
   "source": [
    "<div style=\"text-align: right\"> <span style=\"font-family:Papyrus; \">And they lived happily ever after. The End.</span></div>"
   ]
  }
 ],
 "metadata": {
  "kernelspec": {
   "display_name": "R",
   "language": "R",
   "name": "ir"
  },
  "language_info": {
   "codemirror_mode": "r",
   "file_extension": ".r",
   "mimetype": "text/x-r-source",
   "name": "R",
   "pygments_lexer": "r",
   "version": "4.3.1"
  }
 },
 "nbformat": 4,
 "nbformat_minor": 5
}
