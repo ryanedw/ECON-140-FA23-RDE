{
 "cells": [
  {
   "cell_type": "markdown",
   "id": "55ad7c62",
   "metadata": {},
   "source": [
    "<img src=\"images/econ140R_logo.png\" width=\"200\" />"
   ]
  },
  {
   "cell_type": "markdown",
   "id": "8ff12b62",
   "metadata": {},
   "source": [
    "<h1>ECON 140R Class 02</h1>"
   ]
  },
  {
   "cell_type": "markdown",
   "id": "67303ccd",
   "metadata": {},
   "source": [
    "Learning objectives:\n",
    "\n",
    "1. Examine the real data underneath <i>Mastering Metrics</i> Table 1.1\n",
    "<p>\n",
    "\n",
    "2. Use `lm()` to run ordinary least squares, regressing $y$ on an $x$ where $x$ is a binary 0/1 indicator of group status\n",
    "<ul>\n",
    "  <li> Members of the group get a 1\n",
    "  <li> Others (the \"default category\") get a 0\n",
    "</ul>\n",
    "\n",
    "<p>\n",
    "    \n",
    "3. Under these conditions, `lm()` shows you\n",
    "<ul>\n",
    "    <li>$y = \\alpha + \\beta x$\n",
    "    <li>The average $y$ for the default category = constant term $\\alpha$\n",
    "    <li>The difference in average $y$ between groups = slope term $\\beta$\n",
    "    <li>Standard errors for each of these, in addition to point estimates\n",
    "</ul>\n",
    "    \n",
    "<h3>For example</h3>\n",
    "\n",
    "Suppose $y$ is a numeric self-reported health index with these values:\n",
    "\n",
    "* $y = 1$ is poor health\n",
    "* $y = 2$ is fair health\n",
    "* $y = 3$ is good health\n",
    "* $y = 4$ is very good health\n",
    "* $y = 5$ is excellent health\n",
    "\n",
    "(Note that in most survey data, the values associated with these answers are switched so that they run from 5 to 1 rather than 1 to 5.)\n",
    "\n",
    "Suppose also that $x$ is a binary measure of whether a person has any health insurance:\n",
    "\n",
    "* $x = 0$ means the person reports NO health insurance\n",
    "* $x = 1$ means the person reports any health insurance\n",
    "\n",
    "Running `lm()` with the formula `y ~ x` estimates this equation:\n",
    "\n",
    "$$\n",
    "y = \\alpha + \\beta x + \\epsilon\n",
    "$$\n",
    "\n",
    "where the constant term $\\alpha$ is the average level of health ($y$) among people who have NO health insurance ($x = 0$); and the slope term $\\beta$ is the difference in average levels of health ($y$) between people with any health insurance ($x = 1$) and people with no health insurance ($x = 0$). The standard error of $\\beta$ helps us understand whether the difference itself, $\\beta$, is statistically significant."
   ]
  },
  {
   "cell_type": "markdown",
   "id": "05bd246c",
   "metadata": {},
   "source": [
    "<hr>"
   ]
  },
  {
   "cell_type": "markdown",
   "id": "1ad86737",
   "metadata": {},
   "source": [
    "Here is Table 1.1 in <i>Mastering Metrics</i>:\n",
    "<img src=\"images/MMtbl11.png\" width=\"800\" />"
   ]
  },
  {
   "cell_type": "markdown",
   "id": "b1bb625c",
   "metadata": {},
   "source": [
    "Let's load up <b>haven</b> and <b>tidyverse</b>"
   ]
  },
  {
   "cell_type": "code",
   "execution_count": null,
   "id": "c2fd4880",
   "metadata": {},
   "outputs": [],
   "source": [
    "library(haven)\n",
    "library(tidyverse)"
   ]
  },
  {
   "cell_type": "markdown",
   "id": "0fec32e0",
   "metadata": {},
   "source": [
    "Angrist and Pischke provide us these two data files, drawn from the 2009 wave of the National Health Interview Survey (NHIS)."
   ]
  },
  {
   "cell_type": "code",
   "execution_count": null,
   "id": "92e742a6",
   "metadata": {},
   "outputs": [],
   "source": [
    "husbands <- read_dta(\"data/table_1_1_husbands.dta\")\n",
    "wives <- read_dta(\"data/table_1_1_wives.dta\")"
   ]
  },
  {
   "cell_type": "code",
   "execution_count": null,
   "id": "5adcdb4e",
   "metadata": {},
   "outputs": [],
   "source": [
    "head(husbands)"
   ]
  },
  {
   "cell_type": "code",
   "execution_count": null,
   "id": "23ea15d5",
   "metadata": {},
   "outputs": [],
   "source": [
    "head(wives)"
   ]
  },
  {
   "cell_type": "markdown",
   "id": "0b843cc9",
   "metadata": {},
   "source": [
    "There is a lot here. Let's focus on a few small parts of these datasets"
   ]
  },
  {
   "cell_type": "markdown",
   "id": "52e72285",
   "metadata": {},
   "source": [
    "<h2>Look at differences in self-reported health</h2>\n",
    "\n",
    "There are lots of ways of coding this. Here is an elegant one that ChatGPT suggested to me:"
   ]
  },
  {
   "cell_type": "code",
   "execution_count": null,
   "id": "7b93af91",
   "metadata": {},
   "outputs": [],
   "source": [
    "# Use tidyverse \"pipes.\" Thanks, ChatGPT\n",
    "# \n",
    "# Use filter() to look at the average health among husbands with any health insurance\n",
    "avg_hlth_h_hi <- husbands %>%  \n",
    "    filter(hi == 1) %>% \n",
    "    summarize(average = mean(hlth, na.rm = TRUE))\n",
    "avg_hlth_h_hi"
   ]
  },
  {
   "cell_type": "code",
   "execution_count": null,
   "id": "35545376",
   "metadata": {},
   "outputs": [],
   "source": [
    "# Use filter() to look at the average health among husbands with NO health insurance\n",
    "avg_hlth_h_nohi <- husbands %>%  \n",
    "    filter(hi == 0) %>% \n",
    "    summarize(average = weighted.mean(hlth, perweight, na.rm = TRUE))\n",
    "avg_hlth_h_nohi"
   ]
  },
  {
   "cell_type": "code",
   "execution_count": null,
   "id": "75eee7aa",
   "metadata": {},
   "outputs": [],
   "source": [
    "# Difference between these averages\n",
    "# = health benefits associated with health insurance\n",
    "avg_hlth_h_hi - avg_hlth_h_nohi"
   ]
  },
  {
   "cell_type": "markdown",
   "id": "d67d6da5",
   "metadata": {},
   "source": [
    "This is the difference in average health between the two groups we're considering: husbands with health insurance and husbands without."
   ]
  },
  {
   "cell_type": "markdown",
   "id": "e5998ce5",
   "metadata": {},
   "source": [
    "<hr>"
   ]
  },
  {
   "cell_type": "markdown",
   "id": "3a1b4856",
   "metadata": {},
   "source": [
    "<h3>Some unfortunate details</h3>\n",
    "\n",
    "An unfortunate truth is that this difference, roughly $0.28$, is not what appears in Table 1.1, row 1 and column (3). The number there is 0.31, and that is the <i>weighted average</i> difference, it turns out."
   ]
  },
  {
   "cell_type": "markdown",
   "id": "8614c3eb",
   "metadata": {},
   "source": [
    "<h3>Survey weights and sampling</h3>\n",
    "\n",
    "The NHIS is a survey of people in households that is designed to be representative of the civilian noninstitutionalized population. It typically includes about 85,000 people, or in the ballpark of 0.02 percent of the population.\n",
    "\n",
    "In order to provide good measurements of key subgroups, modern surveys typically include what are called <b>oversamples</b> of interesting subpopulations. For this and other reasons, modern surveys include <b>survey weights</b> or <b>sample weights</b> that translate the measured sample into something that is nationally representative. It gets more complicated than this, but the basic idea is that you might want to sample twice as many people from an interesting minority group, and then those observations get half the weight of the other observations. "
   ]
  },
  {
   "cell_type": "markdown",
   "id": "88daa51a",
   "metadata": {},
   "source": [
    "<h3>What is the bottom line for ECON 140?</h3>"
   ]
  },
  {
   "cell_type": "markdown",
   "id": "813fc917",
   "metadata": {},
   "source": [
    "Angrist and Pischke use sample weights throughout their textbook, so when we look at their examples, chances are we will have to use survey weights to reproduce their results exactly.\n",
    "\n",
    "We will include ``R`` code that does this.\n",
    "\n",
    "But you will not have to learn or use sample weights to answer exam questions or complete the term project."
   ]
  },
  {
   "cell_type": "markdown",
   "id": "b355a4e2",
   "metadata": {},
   "source": [
    "<h3>Redoing the averages with weights</h3>\n",
    "\n",
    "It turns out that the variable `perweight` in the dataset is exactly what we need to adjust our estimates, and we can use the ``R`` function `weighted.mean()` to use sample weights. Its second argument is the weights variable `perweight`:"
   ]
  },
  {
   "cell_type": "code",
   "execution_count": null,
   "id": "411b1da2",
   "metadata": {},
   "outputs": [],
   "source": [
    "# Use filter() to look at the WEIGHTED average health among husbands with any health insurance\n",
    "avg_hlth_h_hi_w <- husbands %>%  \n",
    "    filter(hi == 1) %>% \n",
    "    summarize(average = weighted.mean(hlth, perweight, na.rm = TRUE))\n",
    "avg_hlth_h_hi_w"
   ]
  },
  {
   "cell_type": "code",
   "execution_count": null,
   "id": "8076a939",
   "metadata": {},
   "outputs": [],
   "source": [
    "# Use filter() to look at the WEIGHTED average health among husbands with NO health insurance\n",
    "avg_hlth_h_nohi_w <- husbands %>%  \n",
    "    filter(hi == 0) %>% \n",
    "    summarize(average = weighted.mean(hlth, perweight, na.rm = TRUE))\n",
    "avg_hlth_h_nohi_w"
   ]
  },
  {
   "cell_type": "code",
   "execution_count": null,
   "id": "8aaf486a",
   "metadata": {},
   "outputs": [],
   "source": [
    "# Difference between these WEIGHTE averages\n",
    "# = health benefits associated with health insurance\n",
    "avg_hlth_h_hi_w - avg_hlth_h_nohi_w"
   ]
  },
  {
   "cell_type": "markdown",
   "id": "84f38c30",
   "metadata": {},
   "source": [
    "Once we have applied the weights, now we see exactly the same statistics that are shown along the top row in Table 1.1, in columns (1), (2), and (3)."
   ]
  },
  {
   "cell_type": "markdown",
   "id": "353179f2",
   "metadata": {},
   "source": [
    "<hr>"
   ]
  },
  {
   "cell_type": "markdown",
   "id": "14c213df",
   "metadata": {},
   "source": [
    "<h2>Regression with indicator variables gives you conditional averages</h2>"
   ]
  },
  {
   "cell_type": "markdown",
   "id": "e5dcf6ba",
   "metadata": {},
   "source": [
    "Hold on to your hats.\n",
    "\n",
    "It turns out that a linear regression of $y$ on an $x$ that is dichotomous (equal to 0 or 1) will tell us the average $y$ for the group whose $x = 0$, that's the constant term $\\alpha$; and it will tell us the difference between that group's average $y$ and the other group's (indicated by $x = 1$).\n",
    "\n",
    "In other words, when we run\n",
    "$$y = \\alpha + \\beta x + \\epsilon$$\n",
    "\n",
    "when $x$ is a dichtomous \"indicator variable\" (sometimes called \"dummy variable\"), $\\alpha$ is the average $y$ for the $x = 0$ group, and $\\alpha + \\beta$ is the average $y$ for the $x = 1$ group.\n",
    "\n",
    "Observe. Recall that `husbands` is the data frame that includes folks with and without health insurance. Let's run this regression:\n",
    "$$hlth = \\alpha + \\beta \\cdot hi + \\epsilon$$\n",
    "\n",
    "where `hlth` is shorthand for self-reported health (where 1 = poor and 5 = excellent), and `hi` is the indicator variable having any health insurance."
   ]
  },
  {
   "cell_type": "code",
   "execution_count": null,
   "id": "518d12e2",
   "metadata": {},
   "outputs": [],
   "source": [
    "health_h <- lm(hlth ~ hi, data = husbands)\n",
    "summary(health_h)"
   ]
  },
  {
   "cell_type": "markdown",
   "id": "a9ec932f",
   "metadata": {},
   "source": [
    "Again, the unfortunate detail here is that we haven't used the sample weights and thus haven't fully replicated Angrist and Pischke. Here is code that replicates Table 1.1, using the \"weights\" option inside `lm()`:"
   ]
  },
  {
   "cell_type": "code",
   "execution_count": null,
   "id": "39645b73",
   "metadata": {},
   "outputs": [],
   "source": [
    "health_h_w <- lm(hlth ~ hi, data = husbands,\n",
    "                            weights = perweight)\n",
    "summary(health_h_w)"
   ]
  },
  {
   "cell_type": "markdown",
   "id": "fe88537f",
   "metadata": {},
   "source": [
    "Here now we have replicated columns (2) and (3) in the first row of Table 1.1:\n",
    "\n",
    "* The estimate of the intercept term is $\\hat{\\alpha} = 3.70$ when rounding to the nearest hundredth, and that is the average level of health among the husbands with `hi` equals to $0$. \n",
    "\n",
    "* The estimate of the slope term is $\\hat{\\beta} = 0.31$, and that is the difference in average levels of health between the husbands with `hi` equals to $1$ and the husbands with `hi` equal to $0$. \n",
    "\n",
    "* The key innovation here is that we also have a standard error of $\\hat{\\beta}$, which we can write as $SE[\\hat{\\beta}] = 0.03$. \n",
    "\n",
    "The key question is whether $\\hat{\\beta} = 0.31$ is greater than twice its standard error. If it is, then the 95% confidence interval around $\\hat{\\beta}$ does NOT include the number zero, and thus we reject the <b>null hypothesis</b> that $\\hat{\\beta} = 0$ and conclude that $\\beta$ is statistically significant."
   ]
  },
  {
   "cell_type": "markdown",
   "id": "3db6b255",
   "metadata": {},
   "source": [
    "<h3>Null hypotheses</h3>\n",
    "\n",
    "Remember that a <b>null hypothesis</b> is easily conceptualized as <i>an effect that is null or zero</i>."
   ]
  },
  {
   "cell_type": "markdown",
   "id": "eb7b7d80",
   "metadata": {},
   "source": [
    "<hr>"
   ]
  },
  {
   "cell_type": "markdown",
   "id": "50ab6640",
   "metadata": {},
   "source": [
    "<div style=\"text-align: right\"> <span style=\"font-family:Papyrus; \">And they lived happily ever after. The End.</span></div>"
   ]
  }
 ],
 "metadata": {
  "kernelspec": {
   "display_name": "R",
   "language": "R",
   "name": "ir"
  },
  "language_info": {
   "codemirror_mode": "r",
   "file_extension": ".r",
   "mimetype": "text/x-r-source",
   "name": "R",
   "pygments_lexer": "r",
   "version": "4.3.1"
  }
 },
 "nbformat": 4,
 "nbformat_minor": 5
}
