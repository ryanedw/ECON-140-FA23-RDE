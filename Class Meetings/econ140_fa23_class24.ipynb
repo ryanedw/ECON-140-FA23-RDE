{
 "cells": [
  {
   "cell_type": "markdown",
   "id": "12ea3dd9",
   "metadata": {},
   "source": [
    "<img src=\"images/econ140R_logo.png\" width=\"200\" />"
   ]
  },
  {
   "cell_type": "markdown",
   "id": "257aeb52",
   "metadata": {},
   "source": [
    "<h1>ECON 140R Class 24</h1>"
   ]
  },
  {
   "cell_type": "markdown",
   "id": "b1b79110",
   "metadata": {},
   "source": [
    "<b>Regression discontinuity (RD)</b> is an elegant, artful method of causal inference. Also, RD methods require \n",
    "\n",
    "* Good data wrangling skills\n",
    "\n",
    "* Luck with public data sources, or\n",
    "\n",
    "* Cultivated relationships with guardians of restricted data\n",
    "\n",
    "\n",
    "Learning objectives:\n",
    "\n",
    "1. A successful RD often requires lots of data, and lots of data wrangling\n",
    "2. Running an RD regression might be straightforward\n",
    "3. Graphing an RD plot might be harder\n",
    "\n",
    "Special thanks to [Baylor Economics Prof. Scott Cunningham](https://www.scunning.com/), who provides a very nice overview of RD methods with applications in [Chapter 6 of *Causal Inference: The Mixtape*](https://mixtape.scunning.com/06-regression_discontinuity). Below I have adapted the __R__ code he lists, which I believe he wrote himself, perhaps inspired by the Stata code supplied by [CSPH Prof. Marcelo Perraillon](https://coloradosph.cuanschutz.edu/resources/directory/directory-profile/Perraillon-Marcelo-UCD6000072694)."
   ]
  },
  {
   "cell_type": "markdown",
   "id": "407fa89a",
   "metadata": {},
   "source": [
    "<h3>Broader discussion points</h3>\n",
    "\n",
    "* [Card, Dobkin, and Maestas (2008)](https://www-aeaweb-org.libproxy.berkeley.edu/articles?id=10.1257/aer.98.5.2242) report significant effects of Medicare eligibility on survival among severely ill patients\n",
    "* How should we think about these results alongside those of the RAND Health Insurance Experiment?\n",
    "* Hint: the key concept rhymes with \"Focal Bandage Sweetened Insect\""
   ]
  },
  {
   "cell_type": "markdown",
   "id": "ec601786",
   "metadata": {},
   "source": [
    "<h2>Medicare eligibility at age 65</h2>\n",
    "\n",
    "[Card, Dobkin, and Maestas (2008)](https://www-aeaweb-org.libproxy.berkeley.edu/articles?id=10.1257/aer.98.5.2242) examine health effects associated with the discontinuous jump in Medicare eligibility on one's 65th birthday in the United States. As they remark in their opening paragraph, however, population-level or average measures outcome do not show much of a jump at age 65, despite the jump in Medicare eligibility:\n",
    "\n",
    "> Medicare pays nearly one-fifth of total health care costs in the United States. Yet evidence on the health effects of the program is limited. Studies of aggregate death rates before and after the introduction of Medicare show little indication of a program impact (Finkelstein and McKnight 2005). The age profiles of mortality and self-reported health in the population as a whole are likewise remarkably smooth around the eligibility threshold at age 65 (Card, Dobkin, and Maestas 2004; Dow 2004). Although existing research has shown that the utilization of health care services increases once people become eligible for Medicare (e.g., Decker and Rapaport [2002], McWilliams et al. [2003, 2007], Card, Dobkin, and Maestas [2004]), the health impact of these additional services remains uncertain.\n",
    "\n",
    "First, CDM show the stark discontinuity in Medicare coverage using pooled extracts of the 1999-2003 waves of the National Health Interview Survey (NHIS), which are public and can be drawn from [IPUMS](https://healthsurveys.ipums.org/). Then they examine restricted-access datasets covering hospital admissions via emergency departments in California and elsewhere. We can examine the former but not the latter."
   ]
  },
  {
   "cell_type": "markdown",
   "id": "ee1a6e4c",
   "metadata": {},
   "source": [
    "<h3>The RD graphic</h3>\n",
    "\n",
    "Below is their Figure 1, which shows big discontinuous jumps in Medicare coverage and in coverage by any insurance, a slump in multiple-policy coverage, and a big drop in managed-care coverage. \n",
    "\n",
    "(For more on \"managed care,\" take ECON 157. But the short of it is that most Americans under age 65 are covered by employer-based insurance, which typically takes the form of \"managed care,\" meaning the insurance company intermediates and sets policies in addition to setting rates of coinsurance (out-of-pocket payment) per treatment or service.)"
   ]
  },
  {
   "cell_type": "markdown",
   "id": "634874a8",
   "metadata": {},
   "source": [
    "<img src=\"images/cdm-fig1.png\" width=\"700\" />"
   ]
  },
  {
   "cell_type": "code",
   "execution_count": null,
   "id": "c807fd3a",
   "metadata": {},
   "outputs": [],
   "source": [
    "library(tidyverse)\n",
    "library(haven)\n",
    "install.packages(\"rdrobust\")\n",
    "library(rdrobust)\n",
    "install.packages(\"estimatr\")\n",
    "library(estimatr)"
   ]
  },
  {
   "cell_type": "markdown",
   "id": "4cd0bc02",
   "metadata": {},
   "source": [
    "Here is the NHIS data extract that CDM provide in the paper's replication package on the AEA website. The extract contains a subset of the 1999-2003 waves of the NHIS. A key variable is age measured in years and quarters, because the NHIS reported month of birth in public files prior to 2015, and it also reported quarter of interview."
   ]
  },
  {
   "cell_type": "code",
   "execution_count": null,
   "id": "697ad8bc",
   "metadata": {},
   "outputs": [],
   "source": [
    "his99p <- read_dta(\"data/his99p.dta\")\n",
    "\n",
    "# What are the dimensions of this dataset?\n",
    "# Big although not super humanly large. Small enough for datahub\n",
    "dim(his99p)"
   ]
  },
  {
   "cell_type": "markdown",
   "id": "afba54e0",
   "metadata": {},
   "source": [
    "Many AEA replication packages contain Stata or SAS datasets, and a big pitfall can be the way different programs treat missing values. Here, it is useful to remove the NA's. There might be a way to do this for only a subset of variables and thus keep more rows, but I leave it to the careful reader to ascertain whether that's possible. (My first ask of ChatGPT resulted in bad advice!)"
   ]
  },
  {
   "cell_type": "code",
   "execution_count": null,
   "id": "78f5325a",
   "metadata": {},
   "outputs": [],
   "source": [
    "# Remove the NAs\n",
    "his99p0 <- na.omit(his99p)\n",
    "# The code below was what Chat suggested, \n",
    "# but it only keeps the mcare column, which is no good\n",
    "#his99p0 <- na.omit(his99p[, \"mcare\", drop = FALSE])\n",
    "dim(his99p0)"
   ]
  },
  {
   "cell_type": "markdown",
   "id": "8ee1429c",
   "metadata": {},
   "source": [
    "Let's generate an RD plot that replicates part of CDM's Figure 1. There is a slicker way of doing this using the `rdplot()` function inside the `rdrobust` package, but a brute force way of proceeding is generating averages of the $y$-variable over a collapsed or \"cut\" $x$-variable. "
   ]
  },
  {
   "cell_type": "code",
   "execution_count": null,
   "id": "2ad28715",
   "metadata": {},
   "outputs": [],
   "source": [
    "# Generate 201 cuts, which matches the argument in the next call below,\n",
    "# and measure the mean in mcare across those cuts\n",
    "mcaremeans <- split(his99p0$mcare, \n",
    "                  cut(his99p0$age, 201)) %>% \n",
    "  lapply(mean) %>% \n",
    "  unlist()"
   ]
  },
  {
   "cell_type": "code",
   "execution_count": null,
   "id": "1b1c87db",
   "metadata": {},
   "outputs": [],
   "source": [
    "# Create a data frame with the average levels of mcare (Y)\n",
    "# and the age variable running from -10 to 10 with increments of 0.1,\n",
    "# which are 201 cuts, matching what is in the call above\n",
    "agg_his99p0_data <- data.frame(mcare = mcaremeans, \n",
    "                           age = seq(-10,10, by = 0.1))"
   ]
  },
  {
   "cell_type": "code",
   "execution_count": null,
   "id": "52739fed",
   "metadata": {},
   "outputs": [],
   "source": [
    "dim(agg_his99p0_data)"
   ]
  },
  {
   "cell_type": "code",
   "execution_count": null,
   "id": "ec512a5e",
   "metadata": {},
   "outputs": [],
   "source": [
    "# Generate a column gg_group that measures being past the cutoff\n",
    "his99p <- his99p %>% \n",
    "  mutate(gg_group = case_when(age > 0 ~ 1, TRUE ~ 0))"
   ]
  },
  {
   "cell_type": "code",
   "execution_count": null,
   "id": "4ac48aaa",
   "metadata": {},
   "outputs": [],
   "source": [
    "# Call ggplot with overlapping stuff\n",
    "ggplot(his99p, aes(age, mcare)) +\n",
    "  geom_point(aes(x = age, y = mcare), data = agg_his99p0_data) +\n",
    "  stat_smooth(aes(age, mcare, group = gg_group), method = \"lm\") +\n",
    "  xlim(-10,10) + ylim(0,1) +\n",
    "  geom_vline(xintercept = 0) +\n",
    "  xlab(\"Age in quarters relative to 65\") +\n",
    "  ylab(\"Percent with Medicare\")"
   ]
  },
  {
   "cell_type": "markdown",
   "id": "e43bd30f",
   "metadata": {},
   "source": [
    "That was a lot of work, and `rdplot()` inside `rdrobust` can do it for us, it turns out. A problem with off-the-shelf routines, however, is that it's hard to know what they're doing. I'm not sure `rdplot()` can be told to run a linear RD; what it spits out appears to be a high-order polynomial: "
   ]
  },
  {
   "cell_type": "code",
   "execution_count": null,
   "id": "ccecca1b",
   "metadata": {},
   "outputs": [],
   "source": [
    "rdplot(his99p$mcare,his99p$age,\n",
    "         x.lim = c(-10,10),\n",
    "         y.lim = c(0,1),\n",
    "         x.lab=\"Age in quarters relative to 65\",\n",
    "         y.lab=\"Percent with Medicare\", title = \"\")"
   ]
  },
  {
   "cell_type": "markdown",
   "id": "5c148fe5",
   "metadata": {},
   "source": [
    "<h3>The RD regression</h3>\n",
    "    \n",
    "In the Minimum Legal Drinking Age (MLDA) example of section 4.1 in *Mastering Metrics*, we ran regressions using collapsed data on death rates within bins defined by months of age, within ± 2 years of age 21. There were 48 bins; in the textbook, this is called *bandwidth*.\n",
    "\n",
    "Here, in the replication package, Card, Dobkin, and Maestas (2008) run regressions with the original data. \n",
    "\n",
    "An open issue is how to estimate the standard errors in a situation like this. CDM cluster on the running variable. But later work, as described by [Cunningham in Section 6.2.6 of the *Mixtape*](https://mixtape.scunning.com/06-regression_discontinuity#inference) calls that into question. In *Mastering Metrics*, Angrist and Pischke seem only  to suggest that clustering on the unit in panel data might be important. Here, we do not have repeated observations.\n",
    "\n",
    "I recommend proceeding with caution. Let's look at how the standard errors can wiggle around."
   ]
  },
  {
   "cell_type": "code",
   "execution_count": null,
   "id": "7c524916",
   "metadata": {},
   "outputs": [],
   "source": [
    "# Linear model with heteroscedasticity-robust standard errors (Stata)\n",
    "mcare_reg1r <- lm_robust(mcare ~ d65 +\n",
    "                         age,\n",
    "                         data = his99p,\n",
    "                         se_type = \"stata\"\n",
    "                        )\n",
    "summary(mcare_reg1r)"
   ]
  },
  {
   "cell_type": "markdown",
   "id": "bc7b1e25",
   "metadata": {},
   "source": [
    "<font color = \"blue\">\n",
    "    What do you see here? What is the effect of turning 65yo on the probability of reporting Medicare coverage?\n",
    "    </font>"
   ]
  },
  {
   "cell_type": "markdown",
   "id": "8f722bb1",
   "metadata": {},
   "source": []
  },
  {
   "cell_type": "markdown",
   "id": "63181005",
   "metadata": {},
   "source": [
    "<hr>"
   ]
  },
  {
   "cell_type": "markdown",
   "id": "ce38e1ea",
   "metadata": {},
   "source": [
    "Here is a specification with \"dueling quadratics\" like we saw in Class 23, with math similar to what is shown at the bottom of p. 156 in *Mastering Metrics*:\n",
    "\n",
    "$$\n",
    "Medicare_{a} = \\alpha + \\rho \\ D_a + \\gamma_1 (a - a_0) + \\gamma_2 (a - a_0)^2\n",
    "+ \\delta_1 \\left[ (a - a_0) D_a\n",
    "\\right]\n",
    "+ \\delta_2 \\left[ (a - a_0)^2 D_a\n",
    "\\right]\n",
    "+ e_a\n",
    "$$"
   ]
  },
  {
   "cell_type": "code",
   "execution_count": null,
   "id": "80ca6da9",
   "metadata": {},
   "outputs": [],
   "source": [
    "# Dueling quadratics with heteroscedasticity-robust standard errors (Stata)\n",
    "mcare_reg2r <- lm_robust(mcare ~ d65 +\n",
    "                         age + agesq +\n",
    "                         age_d65 + agesq_d65,\n",
    "                         data = his99p,\n",
    "                         se_type = \"stata\"\n",
    "                        )\n",
    "summary(mcare_reg2r)"
   ]
  },
  {
   "cell_type": "code",
   "execution_count": null,
   "id": "4dc5c9e4",
   "metadata": {},
   "outputs": [],
   "source": [
    "# Duel-quad with heteroscedasticity-robust standard errors (Stata) with clustering on age\n",
    "mcare_reg2rc <- lm_robust(mcare ~ d65 +\n",
    "                         age + agesq +\n",
    "                         age_d65 + agesq_d65,\n",
    "                         data = his99p,\n",
    "                         se_type = \"stata\",\n",
    "                         clusters = age\n",
    "                        )\n",
    "summary(mcare_reg2rc)"
   ]
  },
  {
   "cell_type": "markdown",
   "id": "7d50947e",
   "metadata": {},
   "source": [
    "Hm. Well, the standard errors clustered on the running variable are mostly larger, but not across the board."
   ]
  },
  {
   "cell_type": "markdown",
   "id": "865209be",
   "metadata": {},
   "source": [
    "We can also include covariates on the right-hand side. We could also do this with averages of these $x$-variables within the binds, but it is considerably easier here with the microdata."
   ]
  },
  {
   "cell_type": "code",
   "execution_count": null,
   "id": "34f4da66",
   "metadata": {},
   "outputs": [],
   "source": [
    "mcare_reg2rc <- lm_robust(mcare ~ d65 +\n",
    "                          age + agesq +\n",
    "                          age_d65 + agesq_d65 +\n",
    "                          female + bnh + onh + hispanic +\n",
    "                          dropout + somecoll + college +\n",
    "                          region2 + region3 + region4 +\n",
    "                          y2000 + y2001 + y2002 +y2003,\n",
    "                          data = his99p,\n",
    "                          se_type = \"stata\",\n",
    "                          clusters = age\n",
    "                         )\n",
    "summary(mcare_reg2rc)"
   ]
  },
  {
   "cell_type": "markdown",
   "id": "ed3b908a",
   "metadata": {},
   "source": [
    "<font color = \"blue\">\n",
    "What has inclusion of these covariates done, if anything, to the main result regarding the effect of Medicare eligibility on Medicare coverage?\n",
    "    Do you see anything striking about the effects of the covariates? Do you see racial/ethnic inequality in Medicare uptake?\n",
    "</font>"
   ]
  },
  {
   "cell_type": "markdown",
   "id": "d2767cda",
   "metadata": {},
   "source": []
  },
  {
   "cell_type": "markdown",
   "id": "118c5902",
   "metadata": {},
   "source": [
    "<hr>"
   ]
  },
  {
   "cell_type": "markdown",
   "id": "bc6dcb69",
   "metadata": {},
   "source": [
    "Finally, here is a call to `rdrobust()`, one of the off-the-shelf packages for RD estimation. I'm not a huge fan because I like to know what's going on. But the results are qualitatively similar, I guess."
   ]
  },
  {
   "cell_type": "code",
   "execution_count": null,
   "id": "85f5ebcb",
   "metadata": {},
   "outputs": [],
   "source": [
    "rdr_model <- rdrobust(his99p$mcare,his99p$age)\n",
    "summary(rdr_model)"
   ]
  },
  {
   "cell_type": "markdown",
   "id": "4ca59a31",
   "metadata": {},
   "source": [
    "Meh. Where's the instruction manual? ChatGPT?!?!?!?!"
   ]
  },
  {
   "cell_type": "markdown",
   "id": "f6ec44e2",
   "metadata": {},
   "source": [
    "<div style=\"text-align: right\"> <span style=\"font-family:Papyrus; \">And they lived happily ever after. The End.</span></div>"
   ]
  }
 ],
 "metadata": {
  "kernelspec": {
   "display_name": "R",
   "language": "R",
   "name": "ir"
  },
  "language_info": {
   "codemirror_mode": "r",
   "file_extension": ".r",
   "mimetype": "text/x-r-source",
   "name": "R",
   "pygments_lexer": "r",
   "version": "4.3.1"
  }
 },
 "nbformat": 4,
 "nbformat_minor": 5
}
