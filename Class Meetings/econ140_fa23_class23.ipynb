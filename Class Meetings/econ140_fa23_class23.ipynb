{
 "cells": [
  {
   "cell_type": "markdown",
   "id": "b22fbaa7",
   "metadata": {},
   "source": [
    "<img src=\"images/econ140R_logo.png\" width=\"200\" />"
   ]
  },
  {
   "cell_type": "markdown",
   "id": "0d73132b",
   "metadata": {},
   "source": [
    "<h1>ECON 140R Class 23</h1>"
   ]
  },
  {
   "cell_type": "markdown",
   "id": "25031a3e",
   "metadata": {},
   "source": [
    "<b>Regression discontinuity (RD)</b> is an elegant, artful method of causal inference that invokes visualizations and the search for a <i>discontinuous jump</i> in some outcome when a treatment is applied at one or more <b>cutoff</b> points in a <b>running variable</b>. It is the subject of Chapter 4 in <i>Mastering Metrics</i>.\n",
    "\n",
    "Learning objectives:\n",
    "\n",
    "1. Running a basic RD using MLDA, and the dataset has been set up\n",
    "2. Adding some extensions, like quadratic and interactions"
   ]
  },
  {
   "cell_type": "code",
   "execution_count": null,
   "id": "fba85d88",
   "metadata": {},
   "outputs": [],
   "source": [
    "library(haven)\n",
    "library(dplyr)"
   ]
  },
  {
   "cell_type": "markdown",
   "id": "ffd33e24",
   "metadata": {},
   "source": [
    "Now let us load in the dataset `AEJfigs.dta` that Angrist and Pischke examine in Section 4.1. These data are similar to the minimum legal drinking age panel data we saw in chapter 5."
   ]
  },
  {
   "cell_type": "code",
   "execution_count": null,
   "id": "eccdc87b",
   "metadata": {},
   "outputs": [],
   "source": [
    "AEJfigs <- read_dta(\"data/AEJfigs.dta\")\n",
    "AEJfigs"
   ]
  },
  {
   "cell_type": "markdown",
   "id": "36c4ce37",
   "metadata": {},
   "source": [
    "I think those weird rows with no data but with `-fitted` variables are a clever means to an end, at least in Stata: they create fitted segments than run all the way up to the jump at the cutoff.\n",
    "\n",
    "Further below, they become troublesome in __R__, and I created a cleaned dataset using the `na.omit()` function."
   ]
  },
  {
   "cell_type": "markdown",
   "id": "e42d5498",
   "metadata": {},
   "source": [
    "Note how the `agecell` variable is kind of funny looking. It is close to age in years plus half of 1/12, or something like a midpoint of a month. But its decimal value jumps around, where we see `19.06849` in row 1 and then `20.05479` in row 13.\n",
    "\n",
    "I suspect the authors constructed the age variable by measuring the average age within each of 12 \"monthly\" bins of individuals observed in their dataset, which are deaths measured between 1997 and 2003 (MM p. 149). Small deviations in the sizes of birth cohorts and deaths year-to-year are probably what shift the average age slightly up or down.\n",
    "\n",
    "We will need to generate some variables for the RD estimation."
   ]
  },
  {
   "cell_type": "code",
   "execution_count": null,
   "id": "95a2e1d7",
   "metadata": {},
   "outputs": [],
   "source": [
    "# Create a recentered \"age\" variable that measures \n",
    "# \"months\" before or after age 21 \n",
    "AEJfigs <- mutate(AEJfigs, \n",
    "                  age = agecell - 21)\n",
    "\n",
    "# Create an indicator variable for over age 21\n",
    "AEJfigs <- mutate(AEJfigs, \n",
    "                  over21 = as.integer(agecell >= 21))\n",
    "\n",
    "# Age-squared, a quadratic term\n",
    "AEJfigs <- mutate(AEJfigs, \n",
    "                  age2 = age^2)\n",
    "\n",
    "# Age interacted with over-21\n",
    "AEJfigs <- mutate(AEJfigs, \n",
    "                  over_age = over21*age)\n",
    "\n",
    "# Age-squared interacted with over-21\n",
    "AEJfigs <- mutate(AEJfigs, \n",
    "                  over_age2 = over21*age2)\n",
    "\n",
    "# \"Other external causes,\" a residual shown in the 5th row\n",
    "# of Table 4.1\n",
    "AEJfigs <- mutate(AEJfigs, \n",
    "                  ext_oth = external - homicide - suicide - mva)\n",
    "\n",
    "head(AEJfigs)"
   ]
  },
  {
   "cell_type": "markdown",
   "id": "6cedc386",
   "metadata": {},
   "source": [
    "The dataset already appears to contain fitted values for the \"dueling quadratic\" specification, where the pre and post periods are allowed to be separate quadratics. We will discuss this further below. These fitted values are inside the `allfitted` column."
   ]
  },
  {
   "cell_type": "markdown",
   "id": "00c0c314",
   "metadata": {},
   "source": [
    "<h2>Linear specification</h2>"
   ]
  },
  {
   "cell_type": "markdown",
   "id": "ab314b2d",
   "metadata": {},
   "source": [
    "Figure 4.2 is literally the \"killer chart\" of Section 4.1 in *Mastering Metrics.* Let's reproduce it:"
   ]
  },
  {
   "cell_type": "markdown",
   "id": "abccf75c",
   "metadata": {},
   "source": [
    "<img src=\"images/MMfig42.png\" width=\"500\" />"
   ]
  },
  {
   "cell_type": "markdown",
   "id": "fb02918b",
   "metadata": {},
   "source": [
    "Below is the basic RD estimation, of equation (4.2) appearing on page 152:\n",
    "\n",
    "$$\n",
    "\\bar{M}_{a} = \\alpha + \\rho \\ D_a + \\gamma \\ a + e_a\n",
    "$$\n",
    "where\n",
    "* $\\bar{M}_{a}$ is the total death rate in month $a$\n",
    "* $D_a = 1$ when age $a \\geq 21$ and $0$ when $a < 21$\n",
    "\n",
    "In addition to $D_a$, the indicator for age being 21 and over, we have a constant term, which is something like the average of the data minus the estimated effect of $D_a$, and we have a linear term in age. In the text on page 152, Angrist and Pischke cite $\\rho = 7.7$ around an average death rate of about 95."
   ]
  },
  {
   "cell_type": "code",
   "execution_count": null,
   "id": "8f830e1a",
   "metadata": {},
   "outputs": [],
   "source": [
    "rd_reg1 <- lm(all ~ over21 \n",
    "              + agecell,\n",
    "             data = AEJfigs)\n",
    "summary(rd_reg1)"
   ]
  },
  {
   "cell_type": "markdown",
   "id": "35a00bb7",
   "metadata": {},
   "source": [
    "A call to `summary` reveals the average death rate in the sample, which here is 95.67 per 100,000 or within spitting distance of the 95 cited by Angrist and Pischke on the middle of page 152."
   ]
  },
  {
   "cell_type": "code",
   "execution_count": null,
   "id": "f2205992",
   "metadata": {},
   "outputs": [],
   "source": [
    "summary(AEJfigs$all)"
   ]
  },
  {
   "cell_type": "markdown",
   "id": "125a3498",
   "metadata": {},
   "source": [
    "We get essentially the same results, except that the constant term is different, if we switch from `agecell` to `age`, which equals age minus the cutoff age $a_0$:"
   ]
  },
  {
   "cell_type": "code",
   "execution_count": null,
   "id": "b885ee21",
   "metadata": {},
   "outputs": [],
   "source": [
    "rd_reg2 <- lm(all ~ over21 \n",
    "              + age,\n",
    "             data = AEJfigs)\n",
    "summary(rd_reg2)"
   ]
  },
  {
   "cell_type": "markdown",
   "id": "be7e4f7c",
   "metadata": {},
   "source": [
    "With either regression, we can create fitted values of the linear RD model using the code below. The first thing I'll do is remove the lines with `NA` values. Then I'll call `predict()`, and finally, I'll call `lines()` twice in order to show two separate linear segments on the graph.\n",
    "\n",
    "(There is probably also a way to coax __R__ into creating fitted values for those funny rows with missing data. That can be an extension for intrepid students to explore.)"
   ]
  },
  {
   "cell_type": "code",
   "execution_count": null,
   "id": "5bb433df",
   "metadata": {},
   "outputs": [],
   "source": [
    "# Remove the lines without data\n",
    "AEJfigs0 <- na.omit(AEJfigs)\n",
    "\n",
    "# Create a new column with predicted values from rd_reg1\n",
    "AEJfigs0$allfittedline <- predict(rd_reg1)"
   ]
  },
  {
   "cell_type": "code",
   "execution_count": null,
   "id": "708dfda6",
   "metadata": {},
   "outputs": [],
   "source": [
    "plot(AEJfigs0$agecell, \n",
    "     AEJfigs0$all, ylim = c(80,115))\n",
    "lines(AEJfigs0$agecell[1:24], \n",
    "      AEJfigs0$allfittedline[1:24], col = \"red\")\n",
    "lines(AEJfigs0$agecell[25:48], \n",
    "      AEJfigs0$allfittedline[25:48], col = \"red\")"
   ]
  },
  {
   "cell_type": "markdown",
   "id": "0b4df827",
   "metadata": {},
   "source": [
    "This compares nicely with Figure 4.2 above."
   ]
  },
  {
   "cell_type": "markdown",
   "id": "4315df2b",
   "metadata": {},
   "source": [
    "<font color=\"blue\">Our eyes definitely see a jump in the death rate to all causes at age 21 here. How big is this jump? Is it statistically significant?</font>"
   ]
  },
  {
   "cell_type": "markdown",
   "id": "4a084984",
   "metadata": {},
   "source": []
  },
  {
   "cell_type": "markdown",
   "id": "cbaa7bc3",
   "metadata": {},
   "source": [
    "<hr>"
   ]
  },
  {
   "cell_type": "markdown",
   "id": "e9e4ff0f",
   "metadata": {},
   "source": [
    "<h2>Quadratic specification</h2>\n",
    "\n",
    "Here is the \"dueling quadratics\" or \"quadratic on each side\" specification, which is quite an eyesore:\n",
    "\n",
    "$$\n",
    "\\bar{M}_{a} = \\alpha + \\rho \\ D_a + \\gamma_1 (a - a_0) + \\gamma_2 (a - a_0)^2\n",
    "+ \\delta_1 \\left[ (a - a_0) D_a\n",
    "\\right]\n",
    "+ \\delta_2 \\left[ (a - a_0)^2 D_a\n",
    "\\right]\n",
    "+ e_a\n",
    "$$"
   ]
  },
  {
   "cell_type": "markdown",
   "id": "a094c875",
   "metadata": {},
   "source": [
    "This beast appears at the bottom of p. 156 in *Mastering Metrics*.\n",
    "\n",
    "Breaking it down, what we have above are basically two (complicated) pieces. The first is a quadratic in the age variable $a$, with parameters $\\alpha$, $\\gamma_1$, and $\\gamma_2$:\n",
    "\n",
    "$$\n",
    "\\alpha + \\gamma_1 (a - a_0) + \\gamma_2 (a - a_0)^2\n",
    "$$\n",
    "\n",
    "And the second is another quadratic, but with parameters $\\rho$, $\\delta_1$, and $\\delta_2$, and which only switches on when $D_a = 1$, or after age $a_0 = 21$:\n",
    "\n",
    "$$\n",
    "\\rho \\ D_a +\n",
    "\\delta_1 \\left[ (a - a_0) D_a\n",
    "\\right]\n",
    "+ \\delta_2 \\left[ (a - a_0)^2 D_a\n",
    "\\right]\n",
    "$$"
   ]
  },
  {
   "cell_type": "markdown",
   "id": "8d59d604",
   "metadata": {},
   "source": [
    "Here is the code that runs that model, with the familiar $D_a$ indicator represented as `over21`, with `age` and its square, `age2`; and with similar components `over_age` and `over_age2` that we generated earlier and that switch on over age 21."
   ]
  },
  {
   "cell_type": "code",
   "execution_count": null,
   "id": "60a2bca8",
   "metadata": {},
   "outputs": [],
   "source": [
    "rd_reg_q1 <- lm(all ~ over21\n",
    "                + age + age2\n",
    "                + over_age + over_age2,\n",
    "                data = AEJfigs)\n",
    "summary(rd_reg_q1)"
   ]
  },
  {
   "cell_type": "markdown",
   "id": "5995539c",
   "metadata": {},
   "source": [
    "Finally, here are the fitted values from the dueling quadratics, and then we'll plot them:"
   ]
  },
  {
   "cell_type": "code",
   "execution_count": null,
   "id": "2ee1b649",
   "metadata": {},
   "outputs": [],
   "source": [
    "AEJfigs0$allfittedquad <- predict(rd_reg_q1)"
   ]
  },
  {
   "cell_type": "code",
   "execution_count": null,
   "id": "8d6851cc",
   "metadata": {},
   "outputs": [],
   "source": [
    "plot(AEJfigs0$agecell, \n",
    "     AEJfigs0$all, ylim = c(80,115))\n",
    "lines(AEJfigs0$agecell[1:24], \n",
    "      AEJfigs0$allfittedquad[1:24], col = \"red\")\n",
    "lines(AEJfigs0$agecell[25:48], \n",
    "      AEJfigs0$allfittedquad[25:48], col = \"red\")"
   ]
  },
  {
   "cell_type": "markdown",
   "id": "4a5d15d7",
   "metadata": {},
   "source": [
    "This compares favorably with Figure 4.4 on page 158, reproduced below:"
   ]
  },
  {
   "cell_type": "markdown",
   "id": "065ad449",
   "metadata": {},
   "source": [
    "<img src=\"images/MMfig44.png\" width=\"500\" />"
   ]
  },
  {
   "cell_type": "markdown",
   "id": "49ba2e4f",
   "metadata": {},
   "source": [
    "<font color=\"blue\">As before, our eyes definitely see a jump in the death rate to all causes at age 21 here. How big is this jump? Is it statistically significant? How does it compare to the estimate from the linear RD model above?</font>"
   ]
  },
  {
   "cell_type": "markdown",
   "id": "546edd7e",
   "metadata": {},
   "source": []
  },
  {
   "cell_type": "markdown",
   "id": "487d5957",
   "metadata": {},
   "source": [
    "<div style=\"text-align: right\"> <span style=\"font-family:Papyrus; \">And they lived happily ever after. The End.</span></div>"
   ]
  }
 ],
 "metadata": {
  "kernelspec": {
   "display_name": "R",
   "language": "R",
   "name": "ir"
  },
  "language_info": {
   "codemirror_mode": "r",
   "file_extension": ".r",
   "mimetype": "text/x-r-source",
   "name": "R",
   "pygments_lexer": "r",
   "version": "4.3.1"
  }
 },
 "nbformat": 4,
 "nbformat_minor": 5
}
