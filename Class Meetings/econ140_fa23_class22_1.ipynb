{
 "cells": [
  {
   "cell_type": "markdown",
   "id": "c0d17ab1",
   "metadata": {},
   "source": [
    "<img src=\"images/econ140R_logo.png\" width=\"200\" />"
   ]
  },
  {
   "cell_type": "markdown",
   "id": "0d73132b",
   "metadata": {},
   "source": [
    "<h1>ECON 140R Class 22</h1>"
   ]
  },
  {
   "cell_type": "markdown",
   "id": "25031a3e",
   "metadata": {},
   "source": [
    "<b>Difference-in-differences (DID)</b> estimation is an extremely useful tool that can take several forms. Let us finish up our exploration of the second generalization of DID, which we call <b>panel fixed effects</b>. This is an estimation strategy when there are many more groups, which can be treated and then untreated, as we will see. This is the topic of section 5.2 in <i>Mastering Metrics</i>.\n",
    "\n",
    "Learning objectives:\n",
    "\n",
    "1. Examine panel data on the Minimum Legal Drinking Age (MLDA)\n",
    "2. Run a DID using panel fixed effects and a clever TREAT $\\times$ POST in `lm()`\n",
    "3. Fail and then succeed. Failure is part of the story!\n",
    "4. plot( ) time series on the same axes\n",
    "5. Include other potential confounders like state-specific trends and beer taxes"
   ]
  },
  {
   "cell_type": "code",
   "execution_count": null,
   "id": "fba85d88",
   "metadata": {},
   "outputs": [],
   "source": [
    "library(haven)\n",
    "library(dplyr)\n",
    "install.packages(\"estimatr\")\n",
    "library(estimatr)\n",
    "library(\"foreign\")\n",
    "library(ggplot2)"
   ]
  },
  {
   "cell_type": "markdown",
   "id": "ffd33e24",
   "metadata": {},
   "source": [
    "Now let us load in the dataset `deaths.dta` that Angrist and Pischke examine in Table 5.2 and 5.3 inside section 5.2."
   ]
  },
  {
   "cell_type": "code",
   "execution_count": null,
   "id": "eccdc87b",
   "metadata": {},
   "outputs": [],
   "source": [
    "deaths <- read_dta(\"data/deaths.dta\")\n",
    "head(deaths)"
   ]
  },
  {
   "cell_type": "markdown",
   "id": "0d839e30",
   "metadata": {},
   "source": [
    "This panel dataset is complicated. Each row is actually not a state-year, it is instead a <b>state-year-age_group-cause</b>. That is, variable `dtype` indexes the cause of death for which that row's `mrate` measures the mortality rate in deaths per 100,000; deaths and population at risk are for the age group indexed by variable `agegr`.\n",
    "\n",
    "The codings for each of these variables are:\n",
    "\n",
    "`dtype`\n",
    "1. All deaths\n",
    "2. Motor vehicle accidents\n",
    "3. Suicide\n",
    "4. Homicide\n",
    "5. Other external cause\n",
    "6. Internal cause \n",
    "\n",
    "`agegr`\n",
    "1. ages 15-17\n",
    "2. ages 18-20\n",
    "3. ages 21-24\n",
    "\n"
   ]
  },
  {
   "cell_type": "markdown",
   "id": "b86882d1",
   "metadata": {},
   "source": [
    "This kind of dataset is challenging to work with, although it is perfectly set up for panel analysis. Simply put, it is hard to see the trees for the forest, to turn a common idiom on its head. It is not easy to peer inside these complex data.\n",
    "\n",
    "Inside __R__, I think the most obvious way to peer inside the data is to use `subset()` to carve off a piece of the whole. "
   ]
  },
  {
   "cell_type": "code",
   "execution_count": null,
   "id": "70f9b962",
   "metadata": {},
   "outputs": [],
   "source": [
    "# This is data for California showing a bunch of variables between 1970 and 1996, \n",
    "# and the outcome variable mrate = Motor Vehicle Accident mortality per 100,000 aged 18-20 \n",
    "ca_18_20_mva <- subset(deaths, state == 6 & agegr == 2 & dtype == 2)\n",
    "ca_18_20_mva"
   ]
  },
  {
   "cell_type": "markdown",
   "id": "77ca7208",
   "metadata": {},
   "source": [
    "There is not a lot going on here with the minimum legal drinking age (MLDA), because California had it set at 21 since 1933, apparently. [Source: Wikipedia](https://en.wikipedia.org/wiki/U.S._history_of_alcohol_minimum_purchase_age_by_state).\n",
    "\n",
    "A pair of states that are more interesting to look at, per Angrist and Pischke, are Alabama and Arkansas. Alabama lowered its minimum legal drinking age to 19 in 1975, while Arkansas remained at 21 since Prohibition, like California."
   ]
  },
  {
   "cell_type": "code",
   "execution_count": null,
   "id": "e401ffdd",
   "metadata": {},
   "outputs": [],
   "source": [
    "# Alabama is state FIPS == 1\n",
    "al_18_20_mva <- subset(deaths, state == 1 & agegr == 2 & dtype == 2 & year <= 1983)\n",
    "al_18_20_mva\n",
    "# Arkansas is state FIPS == 5\n",
    "ar_18_20_mva <- subset(deaths, state == 5 & agegr == 2 & dtype == 2 & year <= 1983)\n",
    "ar_18_20_mva"
   ]
  },
  {
   "cell_type": "markdown",
   "id": "107a432e",
   "metadata": {},
   "source": [
    "To run a panel fixed effects model, we need to stack or pool these two sets of state-specific observations. In __R__, `rbind()` allows us to do exactly that."
   ]
  },
  {
   "cell_type": "code",
   "execution_count": null,
   "id": "a9ff62bd",
   "metadata": {},
   "outputs": [],
   "source": [
    "ar_al_18_20_mva <- rbind(al_18_20_mva, ar_18_20_mva)\n",
    "ar_al_18_20_mva"
   ]
  },
  {
   "cell_type": "markdown",
   "id": "6223177f",
   "metadata": {},
   "source": [
    "Now let's call `mutate()` several times to create new variables for our standard DID set:\n",
    "\n",
    "* $TREAT$ is an indicator of the treatment state, here Alabama\n",
    "* $POST$ is an indicator of being past the treatment, here 1975 and onward\n",
    "* $TREAT \\times POST$ is the DID treatment variable, which measures being the treatment group during the treatment"
   ]
  },
  {
   "cell_type": "code",
   "execution_count": null,
   "id": "d099d985",
   "metadata": {},
   "outputs": [],
   "source": [
    "# TREAT == 1 when state == 1, for Alabama\n",
    "ar_al_18_20_mva <- mutate(ar_al_18_20_mva, \n",
    "                          treat = as.integer(state == 1))\n",
    "\n",
    "# POST == 1 when year >= 1975, which is when Alabama started to\n",
    "# lower its minimum legal drinking age\n",
    "ar_al_18_20_mva <- mutate(ar_al_18_20_mva, \n",
    "                          post = as.integer(year >= 1975))\n",
    "\n",
    "# TREAT x POST is the product. It registers 1 when the \n",
    "# treated state (Alabama) is actually treated\n",
    "ar_al_18_20_mva <- mutate(ar_al_18_20_mva, \n",
    "                          treatxpost = as.integer(treat*post))"
   ]
  },
  {
   "cell_type": "code",
   "execution_count": null,
   "id": "f9b7413e",
   "metadata": {},
   "outputs": [],
   "source": [
    "ar_al_18_20_mva"
   ]
  },
  {
   "cell_type": "markdown",
   "id": "8a67acf2",
   "metadata": {},
   "source": [
    "Now let us run regression DID with Alabama and Arkansas from 1970-1983. Here is the regression equation, which is also shown on page 192 of <i>Mastering Metrics</i>:\n",
    "\n",
    "$$\n",
    "mrate_{st} = \\alpha + \\beta \\ TREAT_s + \\gamma \\ POST_t + \\delta_{rDID} \\ TREAT_s \\times POST_t + e_{st} \n",
    "$$\n",
    "\n",
    "where $mrate_{st}$ is the motor vehicle accident mortality rate in state $s$ at time $t$. (Angrist and Pischke are silent on which mortality rate they are talking about. Total or MVA mortality are the two obvious choices.) "
   ]
  },
  {
   "cell_type": "code",
   "execution_count": null,
   "id": "e6ce8319",
   "metadata": {},
   "outputs": [],
   "source": [
    "ar_al_did_70_83 <- lm(mrate ~ treat + post + treatxpost,\n",
    "               data = ar_al_18_20_mva)\n",
    "summary(ar_al_did_70_83)"
   ]
  },
  {
   "cell_type": "markdown",
   "id": "4806f547",
   "metadata": {},
   "source": [
    "What do we see in the results above? Are you impressed or disheartened? Are Alabama and Arkansas good states to compare? Is the time period very long?"
   ]
  },
  {
   "cell_type": "markdown",
   "id": "18439123",
   "metadata": {},
   "source": []
  },
  {
   "cell_type": "markdown",
   "id": "18ee3e97",
   "metadata": {},
   "source": [
    "<hr>"
   ]
  },
  {
   "cell_type": "markdown",
   "id": "fd1c1708",
   "metadata": {},
   "source": [
    "Another thing we could do is try and visualize what is happening. It turns out that the death rates are pretty easy to superimpose on the same axes, even with my poor graphing skills in __R__!"
   ]
  },
  {
   "cell_type": "code",
   "execution_count": null,
   "id": "440ba2e5",
   "metadata": {},
   "outputs": [],
   "source": [
    "# These are the \"pre-stacked\" data frames\n",
    "plot(ar_18_20_mva$year, ar_18_20_mva$mrate, col = \"red\", type = \"b\", \n",
    "     main = \"Arkansas (red) and Alabama (blue) MVA death rates\")\n",
    "lines(al_18_20_mva$year, al_18_20_mva$mrate, col = \"blue\")\n",
    "grid()"
   ]
  },
  {
   "cell_type": "markdown",
   "id": "1205f5aa",
   "metadata": {},
   "source": [
    "There is some evidence of similar trending, I suppose, but it is not exactly breathtaking, is it! \n",
    "\n",
    "Below is the clever Angrist-Pischke measure of treatment, $LEGAL_{st}$, which is a little different from $TREAT_s \\times POST_t$ because it measures the share of 18-20 year olds who can legally drink. That makes a lot of sense given that the left-hand-side variable is the death rate among ages 18-20y. The variable $LEGAL_{st}$ tends to be near either 0, 1/3, 2/3, or 1 for obvious reasons."
   ]
  },
  {
   "cell_type": "code",
   "execution_count": null,
   "id": "7fec2b94",
   "metadata": {},
   "outputs": [],
   "source": [
    "plot(al_18_20_mva$year, al_18_20_mva$legal, col = \"blue\", type = \"b\")\n",
    "lines(ar_18_20_mva$year, ar_18_20_mva$legal, col = \"red\")"
   ]
  },
  {
   "cell_type": "markdown",
   "id": "49f6e97c",
   "metadata": {},
   "source": [
    "Perhaps to no great surprise, Arkansas does not appear to be a particularly good control group for Alabama. Visually speaking, parallel trends are far from easy to pick out here.\n",
    "\n",
    "Takeaways:\n",
    "1. It is OK to be \"wrong.\" Everybody is wrong often. Breathe it in and feel the wrong set you free\n",
    "2. When data are annual averages, it can be easy not to find statistically significant results"
   ]
  },
  {
   "cell_type": "markdown",
   "id": "40f44632",
   "metadata": {
    "slideshow": {
     "slide_type": "subslide"
    }
   },
   "source": [
    "Before we leave the Alabama and Arkansas example, let us examine the clever trick introduced by Angrist and Pischke in <i>Mastering Metrics</i> section 5.2, where they propose a new DID treatment variable for the minimum legal drinking age scenario, called $LEGAL_{st}$, which is an index ranging between 0 and 1 for state $s$ in year $t$.\n",
    "\n",
    "Because states changed their MLDAs between 18 and 21, the age group 18-20 is most interesting to examine. But it also is not equally interesting in all places, because different states did different things. They also did them at <i>different times</i> during the year, passing a law that affected less than the full year, for example.\n",
    "\n",
    "(An additional wrinkle that MM can largely sidestep is that alcohol-related motor vehicle accidents are surely not uniformly distributed across the days and weeks of the year. With annual data, these issues are unlikely to be important. But if the data were quarterly, monthly, weekly, or daily, these issues would be important. For more, see the ECON 140R modules on time series and seasonal adjustment.) \n",
    "\n",
    "Bottom line, $LEGAL_{st}$ is a constructed variable that helps estimation while still looking a lot like the $TREAT_s \\times POST_t$ variable that we know and love. Let us examine what happens in the case of Alabama and Arkansas when we use $LEGAL_{st}$ instead:"
   ]
  },
  {
   "cell_type": "code",
   "execution_count": null,
   "id": "b2719df9",
   "metadata": {},
   "outputs": [],
   "source": [
    "ar_al_did_70_83_2 <- lm(mrate ~ treat + post + legal,\n",
    "               data = ar_al_18_20_mva)\n",
    "summary(ar_al_did_70_83_2)"
   ]
  },
  {
   "cell_type": "markdown",
   "id": "12fcf2f5",
   "metadata": {},
   "source": [
    "What do we see here? Is the story much different using $LEGAL_{st}$?"
   ]
  },
  {
   "cell_type": "markdown",
   "id": "792afae1",
   "metadata": {},
   "source": []
  },
  {
   "cell_type": "markdown",
   "id": "ee2816da",
   "metadata": {},
   "source": [
    "<hr>"
   ]
  },
  {
   "cell_type": "markdown",
   "id": "6a4007a4",
   "metadata": {},
   "source": [
    "Let us jump ahead to the finish line in Chapter 5, which is Table 5.2, which shows the results of four different models (across the columns) applied to four different measures of mortality (across the rows). Here is Table 5.2:"
   ]
  },
  {
   "cell_type": "markdown",
   "id": "99f9c9bc",
   "metadata": {},
   "source": [
    "<img src = \"images/MMtbl52.png\" width = 500 /> "
   ]
  },
  {
   "cell_type": "markdown",
   "id": "36552f54",
   "metadata": {},
   "source": [
    "The way to read the table is that each cell is the DID estimate of the effect of a state's <i>lowering</i> its minimum legal drinking age (MLDA) on a particular death rate, which is shown along the row. A positive number is an increase in the death rate that is caused by lowering the MLDA, so that more 18-20 year olds can legally drink alcohol. The number in the upper left, $10.80$, means that expanding legal drinking down to age 18 triggers an increase in the total death rate among 18-20 year olds of 10.80 deaths per 100,000. That estimate is obtained without state trends or weights; when those are included, along the columns, the results change a little."
   ]
  },
  {
   "cell_type": "markdown",
   "id": "e9503a08",
   "metadata": {},
   "source": [
    "See that $10.80$? Here it is below, in the first row after the intercept. We are just running `lm()` with the all-cause death rate as our $y$-variable (`dtype1` == 1), in the appropriate time range and with the 18-20yo age group."
   ]
  },
  {
   "cell_type": "code",
   "execution_count": null,
   "id": "f1f7b123",
   "metadata": {},
   "outputs": [],
   "source": [
    "panel_fe_1 <- lm(mrate ~ legal + factor(state) + factor(year),\n",
    "                 data = subset(deaths, year <= 1983 & agegr == 2 & dtype == 1))\n",
    "summary(panel_fe_1)"
   ]
  },
  {
   "cell_type": "markdown",
   "id": "aad7cece",
   "metadata": {},
   "source": [
    "Note how the standard error of that coefficient on $LEGAL_{st}$ is $3.14$ rather than the reported value of $4.59$ shown in Table 5.2. As Angrist and Pischke discuss in the appendix to Chapter 5, best practices are to <i>cluster the standard errors</i> on the group ID, here the states.\n",
    "\n",
    "In the long, long ago we did the same for the RAND HIE, only there we clustered on `famid`, the family ID. So let us bring back our beloved friend `lm_robust()` for some good times:"
   ]
  },
  {
   "cell_type": "code",
   "execution_count": null,
   "id": "2db18036",
   "metadata": {},
   "outputs": [],
   "source": [
    "panel_fe_1r <- lm_robust(mrate ~ legal + factor(state) + factor(year),\n",
    "                         data = subset(deaths, year <= 1983 & agegr == 2 & dtype == 1),\n",
    "                         clusters = state, se_type = \"stata\")\n",
    "summary(panel_fe_1r)"
   ]
  },
  {
   "cell_type": "markdown",
   "id": "9f05196b",
   "metadata": {},
   "source": [
    "Ha! Note the call to ask __R__ to use `se_type` equal to \"stata\" there as a finishing touch!"
   ]
  },
  {
   "cell_type": "markdown",
   "id": "91f3373f",
   "metadata": {},
   "source": [
    "<hr>"
   ]
  },
  {
   "cell_type": "markdown",
   "id": "7d844a7e",
   "metadata": {},
   "source": [
    "<h2>Interlude: Unit-specific time trends</h2> \n",
    "\n",
    "In *Probing DID Assumptions* inside Section 5.2, Angrist and Pischke introduce state-specific linear time trends, to check the robustness of the MLDA result. These are the \"State trends\" listed in the second-to-last row in Table 5.2 and on the right-hand side of Table 5.3. Operationally, we mean variables that shadow `year` and only \"switch on\" for an individual state."
   ]
  },
  {
   "cell_type": "markdown",
   "id": "20fbebb4",
   "metadata": {},
   "source": [
    "One might want to model this if it seems appropriate. If trends are not strictly parallel but appear to be following some kind of \"business as usual,\" a DID approach can still reveal a causal effect if we model the trends correctly. If reality looks like FIgure 5.6, for example, then unit-specific time trends might be the right modeling approach"
   ]
  },
  {
   "cell_type": "markdown",
   "id": "5d4f9e65",
   "metadata": {},
   "source": [
    "<img src = \"images/MMfig56.png\" width = 500 /> "
   ]
  },
  {
   "cell_type": "markdown",
   "id": "0d96b128",
   "metadata": {},
   "source": [
    "It might help to visualize what we mean in the small Fed District dataset from Section 5.1."
   ]
  },
  {
   "cell_type": "code",
   "execution_count": null,
   "id": "a5d536d1",
   "metadata": {},
   "outputs": [],
   "source": [
    "figure_3_annavg <- read_dta(\"data/figure_3_annavg.dta\")\n",
    "figure_3_annavg"
   ]
  },
  {
   "cell_type": "markdown",
   "id": "9d750cb4",
   "metadata": {},
   "source": [
    "When there are only 2 units, we can manually create interaction variables that will help us model unit-specific linear time trends in the regression. When there are many units, this becomes much more tedious!\n",
    "\n",
    "In the code below, we generate new variables `d6y` and `d8y`, which get the year variable when the district variable is equal to 6 or 8 respectively, and get zero otherwise."
   ]
  },
  {
   "cell_type": "code",
   "execution_count": null,
   "id": "6e0373aa",
   "metadata": {},
   "outputs": [],
   "source": [
    "figure_3_annavg$d6y = (figure_3_annavg$district == 6)*figure_3_annavg$year\n",
    "\n",
    "figure_3_annavg$d8y = (figure_3_annavg$district == 8)*figure_3_annavg$year\n",
    "\n",
    "figure_3_annavg"
   ]
  },
  {
   "cell_type": "markdown",
   "id": "1c77fcb3",
   "metadata": {},
   "source": [
    "Here are the original results of the DID model run on these data, with $treat_d$, $post_t$, and $treat_d \\times post_t$:"
   ]
  },
  {
   "cell_type": "code",
   "execution_count": null,
   "id": "dd8ab27a",
   "metadata": {},
   "outputs": [],
   "source": [
    "banks_did <- lm(banks ~ treat \n",
    "                + post \n",
    "                + treatxpost,\n",
    "               data = figure_3_annavg)\n",
    "summary(banks_did)"
   ]
  },
  {
   "cell_type": "markdown",
   "id": "0cce9f77",
   "metadata": {},
   "source": [
    "And here are the more generalized results, when we also include district-specific linear time trends: "
   ]
  },
  {
   "cell_type": "code",
   "execution_count": null,
   "id": "8354d22b",
   "metadata": {},
   "outputs": [],
   "source": [
    "banks_did_tt <- lm(banks ~ treat\n",
    "                   + post \n",
    "                   + treatxpost\n",
    "                   + d6y + d8y,\n",
    "                   data = figure_3_annavg)\n",
    "summary(banks_did_tt)"
   ]
  },
  {
   "cell_type": "markdown",
   "id": "56d230fc",
   "metadata": {},
   "source": [
    "Here is a shortcut to the same results, using `factor(district)*year` within the equation inside the call to `lm()`. Note how the format of the time trends is a little different. By default, __R__ tosses in a common linear `year` effect, which is the same as the `d6y` effect above. Then it also estimates the differential time effect associated with district 8, and the sum of those two below is the `d8y` that we saw above."
   ]
  },
  {
   "cell_type": "code",
   "execution_count": null,
   "id": "b76338c3",
   "metadata": {},
   "outputs": [],
   "source": [
    "banks_did_tt2 <- lm(banks ~ treat\n",
    "                    + post \n",
    "                    + treatxpost\n",
    "                    + factor(district)*year,\n",
    "                    data = figure_3_annavg)\n",
    "summary(banks_did_tt2)"
   ]
  },
  {
   "cell_type": "markdown",
   "id": "c841d40b",
   "metadata": {},
   "source": [
    "<hr>"
   ]
  },
  {
   "cell_type": "markdown",
   "id": "9faa26a0",
   "metadata": {},
   "source": [
    "<h2>More control variables in panel fixed effects\n",
    "</h2>\n",
    "    \n",
    "The last topic in Chapter 5 is introducing another control variable to a panel fixed effects regression model. This turns out to be as easy as inserting the confounder of interest as another right-hand-side variable."
   ]
  },
  {
   "cell_type": "markdown",
   "id": "fccd3f50",
   "metadata": {},
   "source": [
    "<img src = \"images/MMtbl53.png\" width = 500 /> "
   ]
  },
  {
   "cell_type": "markdown",
   "id": "23f07324",
   "metadata": {},
   "source": [
    "The code below replicates the estimates in columns (1) and (2) in the first row in Table 5.3 above. Both those estimates are from a single regression of All deaths (`mrate`) on Fraction legal (`legal`), Beer tax (`beertaxa`), and a big set of indicator controls for state and for year. Note the large standard error on the beer tax coefficient."
   ]
  },
  {
   "cell_type": "code",
   "execution_count": null,
   "id": "b31a29f1",
   "metadata": {},
   "outputs": [],
   "source": [
    "panel_fe_1r <- lm_robust(mrate ~ legal + \n",
    "                         beertaxa + \n",
    "                         factor(state) + \n",
    "                         factor(year),\n",
    "                         data = subset(deaths, year <= 1983 & agegr == 2 & dtype == 1),\n",
    "                         clusters = state, se_type = \"stata\")\n",
    "summary(panel_fe_1r)"
   ]
  },
  {
   "cell_type": "markdown",
   "id": "9f4a19fb",
   "metadata": {},
   "source": [
    "What do you see here? What is the bottom line for beer taxes and minimum legal drinking ages (MLDA) in terms of their effects on the death rate for people aged 18-20y?"
   ]
  },
  {
   "cell_type": "markdown",
   "id": "f73a1dec",
   "metadata": {},
   "source": []
  },
  {
   "cell_type": "markdown",
   "id": "3b0656e4",
   "metadata": {},
   "source": [
    "<hr>"
   ]
  },
  {
   "cell_type": "markdown",
   "id": "af769511",
   "metadata": {},
   "source": [
    "And below are the results for columns (3) and (4) in the first row in Table 5.3 above, in which we are also modeling state-specific linear time trends in All deaths (`mrate`). The part of the code that models state-specific linear time trends is `factor(state)*year` on the right-hand side of the equation inside the call to `lm()`.\n",
    "\n",
    "Note the VERY large standard error on the beer tax coefficient."
   ]
  },
  {
   "cell_type": "code",
   "execution_count": null,
   "id": "6bc5a97d",
   "metadata": {},
   "outputs": [],
   "source": [
    "options(scipen = 999)"
   ]
  },
  {
   "cell_type": "code",
   "execution_count": null,
   "id": "e1de8fe8",
   "metadata": {},
   "outputs": [],
   "source": [
    "panel_fe_1rr <- lm_robust(mrate ~ legal + beertaxa + factor(state) + factor(year)\n",
    "                         + factor(state)*year,\n",
    "                         data = subset(deaths, year <= 1983 & agegr == 2 & dtype == 1),\n",
    "                         clusters = state, se_type = \"stata\")\n",
    "summary(panel_fe_1rr)"
   ]
  },
  {
   "cell_type": "markdown",
   "id": "af4c2fb9",
   "metadata": {},
   "source": [
    "<hr>"
   ]
  },
  {
   "cell_type": "markdown",
   "id": "4e6423cd",
   "metadata": {},
   "source": [
    "<h2>If there's time: Another successful DID failure(?)</h2>"
   ]
  },
  {
   "cell_type": "markdown",
   "id": "824f242b",
   "metadata": {},
   "source": [
    "Courtesy of Prof. Ethan Lewis at Dartmouth, we have another interesting DID regression or two up our sleeves. Recall the famous Card and Krueger paper about the rise in the minimum wage in New Jersey in 1992 compared to Pennsylvania? Then, it rose from \\\\$4.25 to \\\\$5.05 per hour.\n",
    "\n",
    "<b>In 2014</b>, New Jersey raised its minimum wage from \\\\$7.25 to \\\\$8.25, and then a little more thereafter, to keep up with inflation. Like before, Pennsylvania left its minimum wage alone. Both times series can be found on the St. Louis Fed FRED website: [for NJ](https://fred.stlouisfed.org/series/STTMINWGNJ) and [for PA](https://fred.stlouisfed.org/series/STTMINWGPA). With a little extra work, one can quickly edit one of those two graphs to show both series together.\n",
    "\n",
    "<h3>A note on timing</h3> \n",
    "\n",
    "According to the text of the [New Jersey Administrative Code 12:56-3.1](https://www.nj.gov/labor/forms_pdfs/lwdhome/MinWage2015.pdf), this change was effective on January 1, 2014. Labor surveys like the Current Population Survey (CPS) and American Community Survey (ACS) measure employment at a point in time, usually \"last week,\" while earnings are usually either reported for the previous year (ACS) or a different time period (CPS). A measure of employment in New Jersey in the 2014 wave of ACS indicates the average level of employment during the year, and thus it should fully reflect conditions under the increased minimum wage."
   ]
  },
  {
   "cell_type": "markdown",
   "id": "b665fedc",
   "metadata": {},
   "source": [
    "This might be fun to examine. A big problem, as we've discussed in class, is that for a DID to be successful, you need to measure the units more likely to show an effect from treatment. Card and Krueger actually surveyed fast food restaurants, who employ lots of minimum-wage workers.\n",
    "\n",
    "What we can do is look at annual averages of employment in the Census Bureau's American Community Survey (ACS) courtesy of IPUMS. We have two takes on this below: one that measures all employment in NJ and PA, and another that measures employment of just men with high school or less and aged 16-24. "
   ]
  },
  {
   "cell_type": "markdown",
   "id": "02fd735f",
   "metadata": {},
   "source": [
    "<h3>Creating the extract</h3> \n",
    "\n",
    "There are several methods and data sources one could use to create a panel dataset with employment outcomes in NJ and PA around the time of the minimum wage law change.\n",
    "\n",
    "1. Download microdata from [usa.ipums.org](https://usa.ipums.org) and collapse the data into averages by year and state\n",
    "2. Use the \"Analyze Data Online\" tool at [usa.ipums.org](https://usa.ipums.org) to create state-level averages\n",
    "3. See whether FRED or another handy database might contain the same or similar data\n",
    "\n",
    "FRED appears to contain [monthly employment statistics for New Jersey](https://fred.stlouisfed.org/series/LASST340000000000005) from the Bureau of Labor Statistics; in the small print at the bottom of that page, FRED explains that the data are from the monthly CPS. I don't think FRED contains series for employment by education level, but that would be possible to measure inside IPUMS.\n",
    "\n",
    "To create the extracts below, I chose option 1 above. But FRED might be a good option too. Below is a graph I produced using FRED:"
   ]
  },
  {
   "cell_type": "markdown",
   "id": "35ec798d",
   "metadata": {},
   "source": [
    "<img src = \"images/nj-pa-emp-2010-2023.png\" width = 1000 /> "
   ]
  },
  {
   "cell_type": "code",
   "execution_count": null,
   "id": "cf38b752",
   "metadata": {},
   "outputs": [],
   "source": [
    "# These data are state-year averages drawn from usa.ipums.org \n",
    "# All employment\n",
    "njpa1117_annavgemp <- read_dta(\"data/njpa1117_annavgemp.dta\")\n",
    "# Employment of just men with HS or less, aged 16-24. I misnamed this with a \"25\"\n",
    "njpa1117_m1625_hs_annavgemp <- read_dta(\"data/njpa1117_m1625_hs_annavgemp.dta\")\n",
    "\n",
    "# Let's look at one of these stacked datasets\n",
    "njpa1117_annavgemp"
   ]
  },
  {
   "cell_type": "markdown",
   "id": "35224f1a",
   "metadata": {},
   "source": [
    "Let's look at the data. This feels clumsy to me in __R__, because even `ggplot` is not very good at graphing time series on the same axes. With a short panel, we could just dump the data into a spreadsheet instead. But instead, let's struggle through. Deep breath.\n",
    "\n",
    "Here is code that cuts and pastes the columns into a new data frame with a single column for year, and then columns for NJ employment and PA employment:"
   ]
  },
  {
   "cell_type": "code",
   "execution_count": null,
   "id": "d6ae3300",
   "metadata": {},
   "outputs": [],
   "source": [
    "# Create a data frame with named columns\n",
    "njpa <- data.frame(\n",
    "  year = subset(njpa1117_annavgemp, statefip == 34)$year,\n",
    "  nj = subset(njpa1117_annavgemp, statefip == 34)$sum_employed,\n",
    "  pa = subset(njpa1117_annavgemp, statefip == 42)$sum_employed\n",
    ")\n",
    "\n",
    "njpa"
   ]
  },
  {
   "cell_type": "code",
   "execution_count": null,
   "id": "600c591d",
   "metadata": {},
   "outputs": [],
   "source": [
    "# Same, but with men 16-24 with high school or less\n",
    "njpa_m1625_hs <- data.frame(\n",
    "  year = subset(njpa1117_m1625_hs_annavgemp, statefip == 34)$year,\n",
    "  nj = subset(njpa1117_m1625_hs_annavgemp, statefip == 34)$sum_employed,\n",
    "  pa = subset(njpa1117_m1625_hs_annavgemp, statefip == 42)$sum_employed\n",
    ")\n",
    "\n",
    "njpa_m1625_hs"
   ]
  },
  {
   "cell_type": "markdown",
   "id": "38a028cb",
   "metadata": {},
   "source": [
    "Here is a visualization. The challenge is that employment is considerably larger in PA compared to NJ, and thus showing them on the same axes apparently requires a scaling trick in __R__ as of this writing.\n",
    "\n",
    "<b>I owe a huge thanks to ChatGPT for helping with this</b>. But I would also say that ChatGPT's assistance was not exactly off-the-shelf perfect. Googling and finding StackExchange discussions also was not super helpful either.\n",
    "\n",
    "I coded the following by setting `scalar0` to a number between 0 and 1 through trial and error. The scaling is set to appropriately position the PA series, which is on the secondary $Y$-axis."
   ]
  },
  {
   "cell_type": "code",
   "execution_count": null,
   "id": "0d584edd",
   "metadata": {},
   "outputs": [],
   "source": [
    "scalar0 = 0.725\n",
    "\n",
    "ggplot(njpa, aes(x = year)) +\n",
    "  geom_line(aes(y = nj, color = \"NJ\"), size = 1) +\n",
    "  geom_line(aes(y = pa*scalar0, color = \"PA\"), linewidth = 1, linetype = \"dashed\") +\n",
    "  scale_y_continuous(name = \"NJ axis\", \n",
    "                     sec.axis = sec_axis(~.*(1/scalar0), name = \"PA axis\")\n",
    "                     )+\n",
    "  labs(title = \"Total employment in NJ and PA\") +\n",
    "  theme_minimal() +\n",
    "  theme(axis.title.y = element_text(color = \"blue\"), \n",
    "        axis.title.y.right = element_text(color = \"red\")\n",
    "        )"
   ]
  },
  {
   "cell_type": "markdown",
   "id": "9e2decde",
   "metadata": {},
   "source": [
    "And here is the same thing, but with a different scaling, for employment of men 16-24y with high school or less:"
   ]
  },
  {
   "cell_type": "code",
   "execution_count": null,
   "id": "2e054416",
   "metadata": {},
   "outputs": [],
   "source": [
    "scalar0 = 0.625\n",
    "\n",
    "ggplot(njpa_m1625_hs, aes(x = year)) +\n",
    "  geom_line(aes(y = nj, color = \"NJ\"), size = 1) +\n",
    "  geom_line(aes(y = pa*scalar0, color = \"PA\"), linewidth = 1, linetype = \"dashed\") +\n",
    "  scale_y_continuous(name = \"NJ axis\", \n",
    "                     sec.axis = sec_axis(~.*(1/scalar0), name = \"PA axis\")\n",
    "                     )+\n",
    "  labs(title = \"Employment of men 16-24 with ≤ HS in NJ and PA\") +\n",
    "  theme_minimal() +\n",
    "  theme(axis.title.y = element_text(color = \"blue\"), \n",
    "        axis.title.y.right = element_text(color = \"red\")\n",
    "        )"
   ]
  },
  {
   "cell_type": "markdown",
   "id": "7dc7abf2",
   "metadata": {},
   "source": [
    "The code below creates the familiar variables $TREAT_s$, $POST_t$, and $TREAT_s \\times POST_t$ for use in a DID regression. First, let's look at total employment:"
   ]
  },
  {
   "cell_type": "code",
   "execution_count": null,
   "id": "061e5455",
   "metadata": {},
   "outputs": [],
   "source": [
    "njpa1117_annavgemp <- mutate(njpa1117_annavgemp, \n",
    "                             treat = as.integer(nj == 1))\n",
    "\n",
    "njpa1117_annavgemp <- mutate(njpa1117_annavgemp, \n",
    "                             post = as.integer(year >= 2014))\n",
    "\n",
    "njpa1117_annavgemp <- mutate(njpa1117_annavgemp, \n",
    "                             treatxpost = as.integer(treat*post))\n",
    "\n",
    "njpa1117_annavgemp"
   ]
  },
  {
   "cell_type": "markdown",
   "id": "fdae468b",
   "metadata": {},
   "source": [
    "And now here is our DID regression for <b>total employment</b>, using the `njpa1117_annavgemp` data:\n",
    "\n",
    "$$\n",
    "employment_{st} = \\alpha + \\beta \\ TREAT_s + \\gamma \\ POST_t + \\delta_{rDID} \\ TREAT_s \\times POST_t + e_{st} \n",
    "$$\n"
   ]
  },
  {
   "cell_type": "code",
   "execution_count": null,
   "id": "86e78d18",
   "metadata": {},
   "outputs": [],
   "source": [
    "njpa1117_reg1 <- lm(sum_employed ~ treat + post + treatxpost,\n",
    "                   data = njpa1117_annavgemp)\n",
    "summary(njpa1117_reg1)"
   ]
  },
  {
   "cell_type": "markdown",
   "id": "d63afa49",
   "metadata": {},
   "source": [
    "Hmm. What do you see in this DID regression of total employment on the 2014 minimum wage increase? Are you convinced of anything?"
   ]
  },
  {
   "cell_type": "markdown",
   "id": "c5685d63",
   "metadata": {},
   "source": []
  },
  {
   "cell_type": "markdown",
   "id": "6d599a5a",
   "metadata": {},
   "source": [
    "<hr>"
   ]
  },
  {
   "cell_type": "markdown",
   "id": "3a91510c",
   "metadata": {},
   "source": [
    "Now let us also look at men aged 16-25 with a high school degree or less. Here are the DID variables:"
   ]
  },
  {
   "cell_type": "code",
   "execution_count": null,
   "id": "0b27dc9b",
   "metadata": {},
   "outputs": [],
   "source": [
    "njpa1117_m1625_hs_annavgemp <- mutate(njpa1117_m1625_hs_annavgemp,\n",
    "                                      treat = as.integer(nj == 1))\n",
    "\n",
    "njpa1117_m1625_hs_annavgemp <- mutate(njpa1117_m1625_hs_annavgemp,\n",
    "                                      post = as.integer(year >= 2014))\n",
    "\n",
    "njpa1117_m1625_hs_annavgemp <- mutate(njpa1117_m1625_hs_annavgemp,\n",
    "                                      treatxpost = as.integer(treat*post))\n",
    "\n",
    "njpa1117_m1625_hs_annavgemp"
   ]
  },
  {
   "cell_type": "markdown",
   "id": "1edd04b6",
   "metadata": {},
   "source": [
    "And now here is our DID regression for <b>employment of men aged 16-24 with high school or less</b>, using the `njpa1117_m1625_hs_annavgemp` data:\n",
    "\n",
    "$$\n",
    "employment^{m16-24hs}_{st} = \\alpha + \\beta \\ TREAT_s + \\gamma \\ POST_t + \\delta_{rDID} \\ TREAT_s \\times POST_t + e_{st} \n",
    "$$\n"
   ]
  },
  {
   "cell_type": "code",
   "execution_count": null,
   "id": "972e43ac",
   "metadata": {},
   "outputs": [],
   "source": [
    "njpa1117_reg2 <- lm(sum_employed ~ treat + post + treatxpost,\n",
    "                   data = njpa1117_m1625_hs_annavgemp)\n",
    "summary(njpa1117_reg2)"
   ]
  },
  {
   "cell_type": "markdown",
   "id": "6cedc386",
   "metadata": {},
   "source": [
    "Hmm. What do you see in this DID regression of total employment on the 2014 minimum wage increase? Are you convinced of anything?"
   ]
  },
  {
   "cell_type": "markdown",
   "id": "e9e4ff0f",
   "metadata": {},
   "source": []
  },
  {
   "cell_type": "markdown",
   "id": "487d5957",
   "metadata": {},
   "source": [
    "<div style=\"text-align: right\"> <span style=\"font-family:Papyrus; \">And they lived happily ever after. The End.</span></div>"
   ]
  }
 ],
 "metadata": {
  "kernelspec": {
   "display_name": "R",
   "language": "R",
   "name": "ir"
  },
  "language_info": {
   "codemirror_mode": "r",
   "file_extension": ".r",
   "mimetype": "text/x-r-source",
   "name": "R",
   "pygments_lexer": "r",
   "version": "4.3.1"
  }
 },
 "nbformat": 4,
 "nbformat_minor": 5
}
