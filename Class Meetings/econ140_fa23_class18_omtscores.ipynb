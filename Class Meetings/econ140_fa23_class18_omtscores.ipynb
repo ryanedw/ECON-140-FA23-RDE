{
 "cells": [
  {
   "cell_type": "markdown",
   "id": "9e7ea976",
   "metadata": {},
   "source": [
    "<img src=\"images/econ140R_logo.png\" width=\"200\" />"
   ]
  },
  {
   "cell_type": "markdown",
   "id": "d65dd032",
   "metadata": {},
   "source": [
    "<h1>ECON 140R Class 18</h1>\n",
    "\n",
    "<h2>Online Midterm Scores</h2>"
   ]
  },
  {
   "cell_type": "markdown",
   "id": "d28e735e",
   "metadata": {},
   "source": [
    "Learning objectives:\n",
    "\n",
    "1. Some remarks about privacy and Human Subjects\n",
    "2. Exam results\n",
    "3. More experience with OLS with treatment groups\n",
    "4. Some fun kernel density plots, courtesy of Data Science"
   ]
  },
  {
   "cell_type": "markdown",
   "id": "75a383c5",
   "metadata": {},
   "source": [
    "Multiple choice exams are not my favorite, but at least they provide instant satisfaction to \"data heads\" like me. And not only do we have the scores already; we also have the responses to an interesting survey question, shown in the image below.\n",
    "\n",
    "<font color = \"blue\">Do you have any priors about what association, if any, we might find between test scores and the answers to this question?</font>"
   ]
  },
  {
   "cell_type": "markdown",
   "id": "a42a502e",
   "metadata": {},
   "source": [
    "<img src=\"images/econ140_fa22_mt_survey.png\" width=\"500\" />"
   ]
  },
  {
   "cell_type": "markdown",
   "id": "f3aae88f",
   "metadata": {},
   "source": [
    "I wanted to include this survey question on the exam for at least three reasons:\n",
    "\n",
    "* It makes for a nice exercise for class\n",
    "* I would like to know whether there are big performance differences associated with participation mode\n",
    "* I think students should also be aware of what the data say"
   ]
  },
  {
   "cell_type": "markdown",
   "id": "9880b367",
   "metadata": {},
   "source": [
    "As you may have deduced from our term thus far, however, I tend to believe that people in general, and students in particular, tend to choose things that work best for them, unless they face constraints that push them in one way or another. There is much heterogeneity in people's circumstances, and often the one who will make the best choice given the circumstances is the person. \n",
    "\n",
    "With that perspective, one might well expect not to reject the <b>null hypothesis that there is no difference in scores between groups</b>. If the choice to attend in person vs. online is a function of other things, like \"being a morning person\" or not, it is not clear one would see any systematic correlation between scores and in-person attendance. \n",
    "\n",
    "But with mode of instruction and mode of participation, the typical concern one will hear is that <b>\"there is no substitute for in-person instruction,\"</b> meaning that distance participation is inherently worse. That hypothesis would be weakly supported if we found evidence that students who attended less often in person also performed less well on the midterm. (I'm saying \"weakly supported\" because this is not a rigorously designed study, and all kinds of things could be going on.)\n",
    "\n",
    "Probably one of the wildest things to think about is this: <i>Does the mode of this <b>online exam</b> bias the results in a particular way?</i> One might hypothesize that an online exam could be easier for students who usually attend online. I have no idea whether this might be true."
   ]
  },
  {
   "cell_type": "markdown",
   "id": "4bc71ddb",
   "metadata": {},
   "source": [
    "There are many other things one can state, but for now let us look at the data."
   ]
  },
  {
   "cell_type": "markdown",
   "id": "c9665294",
   "metadata": {},
   "source": [
    "<hr>"
   ]
  },
  {
   "cell_type": "markdown",
   "id": "4891dc86",
   "metadata": {},
   "source": [
    "<h2>These data and your privacy</h2>\n",
    "\n",
    "Data may be collected and examined for <i>educational purposes only</i> without Human Subjects Review. Therefore, please use these data only for educational purposes, as we are doing here.\n",
    "\n",
    "These data are <b>anonymized</b>, with no identifiers. I have scrambled the order in which the data appear, while preserving the covariance structure. Further, I have dropped the students who answered \"6. I don't know\" and \"7. Refuse to answer\" from the dataset. Scores and the response are not public and not known except to the individual student and to the instructors. The instructors are already bound not to reveal grades and identities by FERPA. The risk of reidentification is thus limited to self-reidentification by a student, or a data hack of bCourses."
   ]
  },
  {
   "cell_type": "code",
   "execution_count": null,
   "id": "188ad65d",
   "metadata": {},
   "outputs": [],
   "source": [
    "library(haven)\n",
    "library(ggplot2)\n",
    "library(dplyr)"
   ]
  },
  {
   "cell_type": "markdown",
   "id": "54928896",
   "metadata": {},
   "source": [
    "These are the online midterm scores from Fall 2022:"
   ]
  },
  {
   "cell_type": "code",
   "execution_count": null,
   "id": "b5e1bdc8",
   "metadata": {},
   "outputs": [],
   "source": [
    "omtscores_22 <- read_dta(\"data/omtscores_public_22.dta\")\n",
    "head(omtscores_22)"
   ]
  },
  {
   "cell_type": "code",
   "execution_count": null,
   "id": "1502ebdf",
   "metadata": {},
   "outputs": [],
   "source": [
    "summary(omtscores_22)"
   ]
  },
  {
   "cell_type": "markdown",
   "id": "d975f985",
   "metadata": {},
   "source": [
    "And these are the online midterm scores from Fall 2023: "
   ]
  },
  {
   "cell_type": "code",
   "execution_count": null,
   "id": "a7631e94",
   "metadata": {},
   "outputs": [],
   "source": [
    "omtscores_23 <- read_dta(\"data/omtscores_public_23.dta\")\n",
    "head(omtscores_23)"
   ]
  },
  {
   "cell_type": "code",
   "execution_count": null,
   "id": "efb9104b",
   "metadata": {},
   "outputs": [],
   "source": [
    "summary(omtscores_23)"
   ]
  },
  {
   "cell_type": "markdown",
   "id": "790f4515",
   "metadata": {},
   "source": [
    "And let's combine (or stack or pool) the datasets with `rbind()`"
   ]
  },
  {
   "cell_type": "code",
   "execution_count": null,
   "id": "4364e330",
   "metadata": {},
   "outputs": [],
   "source": [
    "omtscores_22_23 <- rbind(omtscores_22, omtscores_23)"
   ]
  },
  {
   "cell_type": "markdown",
   "id": "5c7449e3",
   "metadata": {},
   "source": [
    "Here are tables of frequencies by counts and then percentages:"
   ]
  },
  {
   "cell_type": "code",
   "execution_count": null,
   "id": "2b916ffc",
   "metadata": {},
   "outputs": [],
   "source": [
    "inperson_22_tbl = data.frame(table(omtscores_22$inperson))\n",
    "inperson_22_tbl_pct = data.frame(prop.table(table(omtscores_22$inperson)))\n",
    "inperson_22_table = cbind(inperson_22_tbl, inperson_22_tbl_pct)\n",
    "inperson_22_table"
   ]
  },
  {
   "cell_type": "code",
   "execution_count": null,
   "id": "914cab89",
   "metadata": {},
   "outputs": [],
   "source": [
    "inperson_23_tbl = data.frame(table(omtscores_23$inperson))\n",
    "inperson_23_tbl_pct = data.frame(prop.table(table(omtscores_23$inperson)))\n",
    "inperson_23_table = cbind(inperson_23_tbl, inperson_23_tbl_pct)\n",
    "inperson_23_table"
   ]
  },
  {
   "cell_type": "markdown",
   "id": "8606f6f1",
   "metadata": {},
   "source": [
    "This is BY NO MEANS a randomized controlled trial. But the structure of the data allow us to look at a \"control group\" and 4 treatment groups, similar to the structure of the RAND Health Insurance Experiment.\n",
    "\n",
    "As we did there, let us estimate the following model using ordinary least squares:\n",
    "\n",
    "$$\n",
    "omtscore_i = \\alpha + \\beta^2 \\cdot D^2_i + \\beta^3 \\cdot D^3_i + \\beta^4 \\cdot D^4_i\n",
    "+ \\beta^5 \\cdot D^5_i + \\epsilon_i\n",
    "$$\n",
    "\n",
    "where the $D$'s are indicator variables for the given response (2, 3, 4, or 5) to the survey question. The omitted cateogory is the \"control group,\" and that will be the group that responded \"1. Most/all.\""
   ]
  },
  {
   "cell_type": "code",
   "execution_count": null,
   "id": "22623476",
   "metadata": {},
   "outputs": [],
   "source": [
    "# The story in Fall 2022\n",
    "omtscores_reg22 <- lm(omtscore ~ factor(inperson), \n",
    "                    data = omtscores_22)\n",
    "summary(omtscores_reg22)"
   ]
  },
  {
   "cell_type": "markdown",
   "id": "dfde272c",
   "metadata": {},
   "source": [
    "Our study has control and treatment arms that are small by statistical standards, so a lack of statistical significance might be expected. But what signs and magnitudes do you see here? With which hypothesis is this more consistent?"
   ]
  },
  {
   "cell_type": "markdown",
   "id": "ea899a08",
   "metadata": {},
   "source": []
  },
  {
   "cell_type": "markdown",
   "id": "f2baec17",
   "metadata": {},
   "source": [
    "<hr>"
   ]
  },
  {
   "cell_type": "code",
   "execution_count": null,
   "id": "f36a1536",
   "metadata": {},
   "outputs": [],
   "source": [
    "# The story in Fall 2023\n",
    "omtscores_reg23 <- lm(omtscore ~ factor(inperson), \n",
    "                    data = omtscores_23)\n",
    "summary(omtscores_reg23)"
   ]
  },
  {
   "cell_type": "code",
   "execution_count": null,
   "id": "cf33cc45",
   "metadata": {},
   "outputs": [],
   "source": [
    "# The story in Fall 2022 and in Fall 2023\n",
    "omtscores_reg22_23 <- lm(omtscore ~ factor(inperson) + factor(term), \n",
    "                    data = omtscores_22_23)\n",
    "summary(omtscores_reg22_23)"
   ]
  },
  {
   "cell_type": "markdown",
   "id": "de56b421",
   "metadata": {},
   "source": [
    "<hr>"
   ]
  },
  {
   "cell_type": "markdown",
   "id": "66ba3704",
   "metadata": {},
   "source": [
    "Here are some nifty moves courtesy of the Data Science team. I adapted their code to help us look at the different distributions of scores in the 5 different groups."
   ]
  },
  {
   "cell_type": "markdown",
   "id": "80a91b93",
   "metadata": {},
   "source": [
    "<h2>Fall 2022</h2>"
   ]
  },
  {
   "cell_type": "code",
   "execution_count": null,
   "id": "6253f5e3",
   "metadata": {},
   "outputs": [],
   "source": [
    "# Plotting density curves for scores across the 5 answer categories\n",
    "ggplot(omtscores_22, aes(omtscore)) + \n",
    "    geom_density(data = subset(omtscores_22, inperson == 1), color = \"blue\") +\n",
    "    geom_density(data = subset(omtscores_22, inperson == 2), color = \"red\") +\n",
    "    geom_density(data = subset(omtscores_22, inperson == 3), color = \"orange\") +\n",
    "    geom_density(data = subset(omtscores_22, inperson == 4), color = \"green\") +\n",
    "    geom_density(data = subset(omtscores_22, inperson == 5), color = \"black\") +\n",
    "labs(title=\"Comparison of the Online Midterm Score by In-Person Frequency\",\n",
    "         subtitle=\"Blue = Most/all     Red = Majority     Orange = Half     Green = Some     Black = Rarely/never\") +\n",
    "    xlab(\"Score\") +\n",
    "    ylab(\"Density\")"
   ]
  },
  {
   "cell_type": "code",
   "execution_count": null,
   "id": "e120c369",
   "metadata": {},
   "outputs": [],
   "source": [
    "# Plotting density curves for all scores\n",
    "ggplot(omtscores_22, aes(omtscore)) + \n",
    "    geom_density(data = omtscores_22, color = \"purple\") +\n",
    "labs(title=\"Online Midterm Scores\") +\n",
    "    xlab(\"Score\") +\n",
    "    ylab(\"Density\")"
   ]
  },
  {
   "cell_type": "markdown",
   "id": "bdfab58c",
   "metadata": {},
   "source": [
    "<h2>Fall 2023</h2>"
   ]
  },
  {
   "cell_type": "code",
   "execution_count": null,
   "id": "fd5c5bf9",
   "metadata": {},
   "outputs": [],
   "source": [
    "# Plotting density curves for scores across the 5 answer categories\n",
    "ggplot(omtscores_23, aes(omtscore)) + \n",
    "    geom_density(data = subset(omtscores_23, inperson == 1), color = \"blue\") +\n",
    "    geom_density(data = subset(omtscores_23, inperson == 2), color = \"red\") +\n",
    "    geom_density(data = subset(omtscores_23, inperson == 3), color = \"orange\") +\n",
    "    geom_density(data = subset(omtscores_23, inperson == 4), color = \"green\") +\n",
    "    geom_density(data = subset(omtscores_23, inperson == 5), color = \"black\") +\n",
    "labs(title=\"Comparison of the Online Midterm Score by In-Person Frequency\",\n",
    "         subtitle=\"Blue = Most/all     Red = Majority     Orange = Half     Green = Some     Black = Rarely/never\") +\n",
    "    xlab(\"Score\") +\n",
    "    ylab(\"Density\")"
   ]
  },
  {
   "cell_type": "code",
   "execution_count": null,
   "id": "f52c0d42",
   "metadata": {},
   "outputs": [],
   "source": [
    "# Plotting density curves for all scores\n",
    "ggplot(omtscores_23, aes(omtscore)) + \n",
    "    geom_density(data = omtscores_23, color = \"purple\") +\n",
    "labs(title=\"Online Midterm Scores\") +\n",
    "    xlab(\"Score\") +\n",
    "    ylab(\"Density\")"
   ]
  },
  {
   "cell_type": "markdown",
   "id": "04dbcbde",
   "metadata": {},
   "source": [
    "<h2>Fall 2022 and Fall 2023 combined</h2>"
   ]
  },
  {
   "cell_type": "code",
   "execution_count": null,
   "id": "ff5c7e3f",
   "metadata": {},
   "outputs": [],
   "source": [
    "# Plotting density curves for scores across the 5 answer categories\n",
    "ggplot(omtscores_22_23, aes(omtscore)) + \n",
    "    geom_density(data = subset(omtscores_22_23, inperson == 1), color = \"blue\") +\n",
    "    geom_density(data = subset(omtscores_22_23, inperson == 2), color = \"red\") +\n",
    "    geom_density(data = subset(omtscores_22_23, inperson == 3), color = \"orange\") +\n",
    "    geom_density(data = subset(omtscores_22_23, inperson == 4), color = \"green\") +\n",
    "    geom_density(data = subset(omtscores_22_23, inperson == 5), color = \"black\") +\n",
    "labs(title=\"Comparison of the Online Midterm Score by In-Person Frequency\",\n",
    "         subtitle=\"Blue = Most/all     Red = Majority     Orange = Half     Green = Some     Black = Rarely/never\") +\n",
    "    xlab(\"Score\") +\n",
    "    ylab(\"Density\")"
   ]
  },
  {
   "cell_type": "markdown",
   "id": "de6dcd88",
   "metadata": {},
   "source": [
    "Thoughts? Plan to come to class less often? More often? All of the above?\n",
    "\n",
    "Thanks for participating!!"
   ]
  },
  {
   "cell_type": "markdown",
   "id": "7ce18f52",
   "metadata": {},
   "source": [
    "<div style=\"text-align: right\"> <span style=\"font-family:Papyrus; \">And they lived happily ever after. The End.</span></div>"
   ]
  }
 ],
 "metadata": {
  "kernelspec": {
   "display_name": "R",
   "language": "R",
   "name": "ir"
  },
  "language_info": {
   "codemirror_mode": "r",
   "file_extension": ".r",
   "mimetype": "text/x-r-source",
   "name": "R",
   "pygments_lexer": "r",
   "version": "4.3.1"
  }
 },
 "nbformat": 4,
 "nbformat_minor": 5
}
