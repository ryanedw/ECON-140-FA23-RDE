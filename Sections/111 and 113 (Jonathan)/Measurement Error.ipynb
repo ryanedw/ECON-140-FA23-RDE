{
 "cells": [
  {
   "cell_type": "code",
   "execution_count": 33,
   "id": "82626637",
   "metadata": {},
   "outputs": [
    {
     "name": "stderr",
     "output_type": "stream",
     "text": [
      "Installing package into ‘/opt/r’\n",
      "(as ‘lib’ is unspecified)\n",
      "\n"
     ]
    }
   ],
   "source": [
    "#install.packages(\"gganimate\")\n",
    "#install.packages(\"ggthemes\")\n",
    "lib.loc='/usr/lib/R/library'\n",
    "#install.packages(\"gifski\")\n",
    "#install.packages(\"readr\")\n",
    "#install.packages(\"tidyr\")\n",
    "#install.packages(\"reshape2\")\n",
    "install.packages(\"transformr\")\n",
    "\n",
    "\n"
   ]
  },
  {
   "cell_type": "code",
   "execution_count": 27,
   "id": "209f2684",
   "metadata": {},
   "outputs": [],
   "source": [
    "library(gganimate)\n",
    "library(ggplot2)\n",
    "library(dplyr)\n",
    "library(ggthemes)\n",
    "library(gifski)\n",
    "library(readr)\n",
    "library(tidyr)\n",
    "library(reshape2)\n",
    "# \n",
    "\n"
   ]
  },
  {
   "cell_type": "code",
   "execution_count": 35,
   "id": "0f562ecd",
   "metadata": {},
   "outputs": [
    {
     "ename": "ERROR",
     "evalue": "Error: package or namespace load failed for ‘transformr’ in dyn.load(file, DLLpath = DLLpath, ...):\n unable to load shared object '/opt/r/sf/libs/sf.so':\n  libproj.so.22: cannot open shared object file: No such file or directory\n",
     "output_type": "error",
     "traceback": [
      "Error: package or namespace load failed for ‘transformr’ in dyn.load(file, DLLpath = DLLpath, ...):\n unable to load shared object '/opt/r/sf/libs/sf.so':\n  libproj.so.22: cannot open shared object file: No such file or directory\nTraceback:\n",
      "1. library(\"transformr\")",
      "2. tryCatch({\n .     attr(package, \"LibPath\") <- which.lib.loc\n .     ns <- loadNamespace(package, lib.loc)\n .     env <- attachNamespace(ns, pos = pos, deps, exclude, include.only)\n . }, error = function(e) {\n .     P <- if (!is.null(cc <- conditionCall(e))) \n .         paste(\" in\", deparse(cc)[1L])\n .     else \"\"\n .     msg <- gettextf(\"package or namespace load failed for %s%s:\\n %s\", \n .         sQuote(package), P, conditionMessage(e))\n .     if (logical.return && !quietly) \n .         message(paste(\"Error:\", msg), domain = NA)\n .     else stop(msg, call. = FALSE, domain = NA)\n . })",
      "3. tryCatchList(expr, classes, parentenv, handlers)",
      "4. tryCatchOne(expr, names, parentenv, handlers[[1L]])",
      "5. value[[3L]](cond)",
      "6. stop(msg, call. = FALSE, domain = NA)"
     ]
    }
   ],
   "source": [
    "library('transformr')\n",
    " .libPaths()"
   ]
  },
  {
   "cell_type": "code",
   "execution_count": 8,
   "id": "f82e7d3d",
   "metadata": {},
   "outputs": [
    {
     "name": "stderr",
     "output_type": "stream",
     "text": [
      "\u001b[1m\u001b[22m`geom_smooth()` using formula = 'y ~ x'\n"
     ]
    },
    {
     "ename": "ERROR",
     "evalue": "Error in transform_path(all_frames, states[[i]], ease, nframes[i], !!id, : The transformr package is required to tween paths and lines\n",
     "output_type": "error",
     "traceback": [
      "Error in transform_path(all_frames, states[[i]], ease, nframes[i], !!id, : The transformr package is required to tween paths and lines\nTraceback:\n",
      "1. animate(graph1.animation, height = 500, width = 800, fps = 30, \n .     duration = 16, end_pause = 100, start_pause = 100, res = 100)",
      "2. animate.gganim(graph1.animation, height = 500, width = 800, fps = 30, \n .     duration = 16, end_pause = 100, start_pause = 100, res = 100)",
      "3. prerender(plot, nframes_total)",
      "4. ggplot_build(plot)",
      "5. ggplot_build.gganim(plot)",
      "6. scene$after_defaults(data)",
      "7. after_defaults(..., self = self)",
      "8. self$transition$expand_data(layer_data[tween_last], self$layer_type[tween_last], \n .     self$group_column[tween_last], self$match_shape[tween_last], \n .     ease, self$transmuters$enter_transmuters(tween_last), self$transmuters$exit_transmuters(tween_last), \n .     self$transition_params, which(tween_last))",
      "9. expand_data(..., self = self)",
      "10. Map(function(data, type, id, match, ease, enter, exit, layer_index) {\n  .     self$expand_layer(data, type, id, match, ease, enter, exit, \n  .         params, layer_index)\n  . }, data = data, type = type, id = id, match = match, ease = ease, \n  .     enter = enter, exit = exit, layer_index = layer_index)",
      "11. mapply(FUN = f, ..., SIMPLIFY = FALSE)",
      "12. (function (data, type, id, match, ease, enter, exit, layer_index) \n  . {\n  .     self$expand_layer(data, type, id, match, ease, enter, exit, \n  .         params, layer_index)\n  . })(data = dots[[1L]][[2L]], type = dots[[2L]][[2L]], id = dots[[3L]][[2L]], \n  .     match = dots[[4L]][[2L]], ease = dots[[5L]][[2L]], enter = dots[[6L]][[2L]], \n  .     exit = dots[[7L]][[2L]], layer_index = dots[[8L]][[2L]])",
      "13. self$expand_layer(data, type, id, match, ease, enter, exit, params, \n  .     layer_index)",
      "14. expand_layer(..., self = self)",
      "15. lapply(split(data, data$PANEL), function(data) {\n  .     self$expand_panel(data, type, id, match, ease, enter, exit, \n  .         params, layer_index)\n  . })",
      "16. FUN(X[[i]], ...)",
      "17. self$expand_panel(data, type, id, match, ease, enter, exit, params, \n  .     layer_index)",
      "18. expand_panel(..., self = self)",
      "19. transform_path(all_frames, states[[i]], ease, nframes[i], !!id, \n  .     enter, exit, match)",
      "20. stop(\"The transformr package is required to tween paths and lines\")"
     ]
    }
   ],
   "source": [
    "\n",
    "\n",
    "# Generate data with measurement error in independent variable\n",
    "set.seed(123)\n",
    "n <- 1000\n",
    "happiness_true      = rnorm(n, mean = 7, sd = 2)\n",
    "\n",
    "# Define the standard deviation sequence: \n",
    "  # We increase the standard error from 0 to 3.2, in intervals of 0.2\n",
    "sd_seq <- seq(from = 0, to = 3.2, by = 0.2)\n",
    "# We generate random measurement error\n",
    "measurement_error = rnorm(n, mean=0, sd=1)\n",
    "# Generate variables with different standard deviations (increasing from 0 to 3.2)\n",
    "happiness_measured <- lapply(sd_seq, function(sd) happiness_true + sd*measurement_error)\n",
    "\n",
    "# Combine the variables into a data frame\n",
    "df <- as.data.frame(do.call(cbind, happiness_measured))\n",
    "colnames(df) <- paste0(\"happiness_measured_\", (1:length(sd_seq)-1)/(16/3) )\n",
    "\n",
    " # adding measurement error\n",
    "life_expectancy = happiness_true + rnorm(n, mean = 0, sd = 1)\n",
    "df = cbind(df, happiness_true, life_expectancy)\n",
    "\n",
    "# Reshape the data from wide to long form\n",
    "df_long <- melt(df, id.vars = c(\"happiness_true\", \"life_expectancy\"))\n",
    "df_long$sd <- as.numeric(gsub(\"happiness_measured_\", \"\", df_long$variable))\n",
    "\n",
    "\n",
    "# Set up graph\n",
    "graph1 =  ggplot(df_long, aes(x=value, y=life_expectancy)) +\n",
    "  geom_point(color=\"steelblue\", alpha = 0.55, stroke = 0) +\n",
    "  geom_smooth(method = \"lm\", color=\"steelblue4\") +\n",
    "  labs(title = \"Life expectancy vs. Life satisfaction\",\n",
    "       x = \"Life satisfaction\",\n",
    "       y = \"Life Expectancy\",\n",
    "       caption = \"Simulated data\") +\n",
    "  theme_solarized() + \n",
    "  theme(axis.title = element_text(),\n",
    "        legend.text=element_text(size=10)) \n",
    "\n",
    "# Animate graph\n",
    "graph1.animation = graph1 +\n",
    "  transition_time(sd) +\n",
    "  labs(subtitle = \"Standard deviation of measurement error: {round(frame_time, 1)}\",\n",
    "      x=\"Life satisfaction, measured with measurement error {round(frame_time, 1)}\" ) \n",
    "\n",
    "animate(graph1.animation, height = 500, width = 800, fps = 30, duration = 16,\n",
    "        end_pause = 100, start_pause=100, res = 100)\n"
   ]
  },
  {
   "cell_type": "code",
   "execution_count": null,
   "id": "23e5d701",
   "metadata": {},
   "outputs": [],
   "source": []
  }
 ],
 "metadata": {
  "kernelspec": {
   "display_name": "R",
   "language": "R",
   "name": "ir"
  },
  "language_info": {
   "codemirror_mode": "r",
   "file_extension": ".r",
   "mimetype": "text/x-r-source",
   "name": "R",
   "pygments_lexer": "r",
   "version": "4.3.1"
  }
 },
 "nbformat": 4,
 "nbformat_minor": 5
}
